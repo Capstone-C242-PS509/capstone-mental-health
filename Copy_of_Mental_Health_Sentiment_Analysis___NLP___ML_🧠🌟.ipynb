{
  "metadata": {
    "kernelspec": {
      "name": "python3",
      "display_name": "Python 3",
      "language": "python"
    },
    "language_info": {
      "name": "python",
      "version": "3.10.14",
      "mimetype": "text/x-python",
      "codemirror_mode": {
        "name": "ipython",
        "version": 3
      },
      "pygments_lexer": "ipython3",
      "nbconvert_exporter": "python",
      "file_extension": ".py"
    },
    "kaggle": {
      "accelerator": "nvidiaTeslaT4",
      "dataSources": [
        {
          "sourceId": 8870083,
          "sourceType": "datasetVersion",
          "datasetId": 5338273
        }
      ],
      "dockerImageVersionId": 30761,
      "isInternetEnabled": true,
      "language": "python",
      "sourceType": "notebook",
      "isGpuEnabled": true
    },
    "colab": {
      "provenance": []
    }
  },
  "nbformat_minor": 0,
  "nbformat": 4,
  "cells": [
    {
      "source": [
        "# IMPORTANT: RUN THIS CELL IN ORDER TO IMPORT YOUR KAGGLE DATA SOURCES,\n",
        "# THEN FEEL FREE TO DELETE THIS CELL.\n",
        "# NOTE: THIS NOTEBOOK ENVIRONMENT DIFFERS FROM KAGGLE'S PYTHON\n",
        "# ENVIRONMENT SO THERE MAY BE MISSING LIBRARIES USED BY YOUR\n",
        "# NOTEBOOK.\n",
        "import kagglehub\n",
        "suchintikasarkar_sentiment_analysis_for_mental_health_path = kagglehub.dataset_download('suchintikasarkar/sentiment-analysis-for-mental-health')\n",
        "\n",
        "print('Data source import complete.')\n"
      ],
      "metadata": {
        "id": "nAb993vb6stS",
        "colab": {
          "base_uri": "https://localhost:8080/"
        },
        "outputId": "9f6c7832-ab18-4eaf-d513-63935e6a4ad5"
      },
      "cell_type": "code",
      "outputs": [
        {
          "output_type": "stream",
          "name": "stdout",
          "text": [
            "Warning: Looks like you're using an outdated `kagglehub` version, please consider updating (latest version: 0.3.4)\n",
            "Data source import complete.\n"
          ]
        }
      ],
      "execution_count": 5
    },
    {
      "cell_type": "markdown",
      "source": [
        "<a id=\"1\"></a>\n",
        "# <div style=\"text-align:center; border-radius:30px 30px; padding:7px; color:white; margin:0; font-size:150%; font-family:Arial; background-color:#C0DDD1; color: #1D3037; overflow:hidden\"><b> Sentiment Analysis for Mental Health </b></div>"
      ],
      "metadata": {
        "id": "uk_VgbSV6stT"
      }
    },
    {
      "cell_type": "markdown",
      "source": [
        "![mentalhealth](https://img.freepik.com/free-vector/anxiety-concept-illustration_114360-8074.jpg?t=st=1724423293~exp=1724426893~hmac=df2c665ea2a184797d9d3bac091a98ebb6d360a4827e62d62be92a4f04edfd5b&w=1380)"
      ],
      "metadata": {
        "id": "eU4WYez56stW"
      }
    },
    {
      "cell_type": "markdown",
      "source": [
        "Mental health is a critical aspect of overall well-being, and understanding the nuances of mental health conditions can be a powerful tool in providing timely support and interventions. In this project, we perform sentiment analysis on textual data to predict the mental health status of individuals based on their statements. By analyzing the language used in these statements, we aim to accurately classify them into one of seven mental health categories: Normal, Depression, Suicidal, Anxiety, Stress, Bi-Polar, and Personality Disorder.\n",
        "\n",
        "By applying advanced natural language processing (NLP) techniques and machine learning models, we seek to classify these statements accurately. The insights from this analysis could help mental health professionals in early identification and intervention.\n",
        "\n",
        "This notebook is a collaborative effort between the data scientists: - **Anna Balatska**: [Kaggle Profile](https://www.kaggle.com/annastasy) - **Rabie El Kharoua**: [Kaggle Profile](https://www.kaggle.com/rabieelkharoua). And it is our second project together, continuing the success of our previous collaboration. You can check out our first project [🦠Skin Cancer Detection|Transfer Learning|13-Model](https://www.kaggle.com/code/rabieelkharoua/skin-cancer-detection-transfer-learning-13-model)."
      ],
      "metadata": {
        "id": "RhwO4wEp6stX"
      }
    },
    {
      "cell_type": "code",
      "source": [
        "from IPython.display import display, HTML\n",
        "\n",
        "display(HTML('''\n",
        "<div style=\"display: flex; justify-content: space-between; align-items: center; width: 300px; margin: 0 auto;\">\n",
        "    <!-- Left Circle Image -->\n",
        "    <div style=\"width: 120px; height: 120px; overflow: hidden; border-radius: 50%; display: inline-block;\">\n",
        "        <img src=\"https://i.postimg.cc/Sx3LT77N/2023-06-02-11-25-26-286-0500-2.jpg\" alt=\"Left Image\" style=\"width: 100%; height: 100%; object-fit: cover;\">\n",
        "    </div>\n",
        "\n",
        "    <!-- Right Circle Image -->\n",
        "    <div style=\"width: 120px; height: 120px; overflow: hidden; border-radius: 50%; display: inline-block;\">\n",
        "        <img src=\"https://i.postimg.cc/fbJY8vKH/IMG-20240826-WA0007.jpg\" alt=\"Right Image\" style=\"width: 100%; height: 100%; object-fit: cover;\">\n",
        "    </div>\n",
        "</div>\n",
        "'''))\n"
      ],
      "metadata": {
        "_kg_hide-input": true,
        "execution": {
          "iopub.status.busy": "2024-08-29T16:50:06.468938Z",
          "iopub.execute_input": "2024-08-29T16:50:06.469676Z",
          "iopub.status.idle": "2024-08-29T16:50:06.484387Z",
          "shell.execute_reply.started": "2024-08-29T16:50:06.469631Z",
          "shell.execute_reply": "2024-08-29T16:50:06.48336Z"
        },
        "trusted": true,
        "id": "NOtYDZTY6stY",
        "colab": {
          "base_uri": "https://localhost:8080/",
          "height": 137
        },
        "outputId": "0efd864d-542c-48b8-860b-87473de5b0be"
      },
      "execution_count": 6,
      "outputs": [
        {
          "output_type": "display_data",
          "data": {
            "text/plain": [
              "<IPython.core.display.HTML object>"
            ],
            "text/html": [
              "\n",
              "<div style=\"display: flex; justify-content: space-between; align-items: center; width: 300px; margin: 0 auto;\">\n",
              "    <!-- Left Circle Image -->\n",
              "    <div style=\"width: 120px; height: 120px; overflow: hidden; border-radius: 50%; display: inline-block;\">\n",
              "        <img src=\"https://i.postimg.cc/Sx3LT77N/2023-06-02-11-25-26-286-0500-2.jpg\" alt=\"Left Image\" style=\"width: 100%; height: 100%; object-fit: cover;\">\n",
              "    </div>\n",
              "\n",
              "    <!-- Right Circle Image -->\n",
              "    <div style=\"width: 120px; height: 120px; overflow: hidden; border-radius: 50%; display: inline-block;\">\n",
              "        <img src=\"https://i.postimg.cc/fbJY8vKH/IMG-20240826-WA0007.jpg\" alt=\"Right Image\" style=\"width: 100%; height: 100%; object-fit: cover;\">\n",
              "    </div>\n",
              "</div>\n"
            ]
          },
          "metadata": {}
        }
      ]
    },
    {
      "cell_type": "markdown",
      "source": [
        "<a id=\"libraries\"></a>\n",
        "# <div style=\"text-align:center; border-radius:30px 30px; padding:9px; color:white; margin:0; font-size:110%; font-family:Arial; background-color:#419D78; overflow:hidden\"><b> 1. Importing Required Libraries </b></div>"
      ],
      "metadata": {
        "id": "GMLnRHmn6stZ"
      }
    },
    {
      "cell_type": "code",
      "source": [
        "import pandas as pd\n",
        "import numpy as np\n",
        "import matplotlib.pyplot as plt\n",
        "import seaborn as sns\n",
        "%matplotlib inline\n",
        "\n",
        "import re\n",
        "import random\n",
        "from imblearn.over_sampling import RandomOverSampler\n",
        "from scipy.sparse import hstack  # To combine sparse matrices\n",
        "from wordcloud import WordCloud\n",
        "\n",
        "import nltk\n",
        "from nltk.tokenize import word_tokenize\n",
        "from nltk.stem import PorterStemmer\n",
        "\n",
        "from sklearn.feature_extraction.text import TfidfVectorizer\n",
        "from sklearn.model_selection import train_test_split, GridSearchCV\n",
        "from sklearn.preprocessing import LabelEncoder\n",
        "from sklearn.linear_model import LogisticRegression\n",
        "from sklearn.naive_bayes import BernoulliNB\n",
        "from sklearn.tree import DecisionTreeClassifier\n",
        "from xgboost import XGBClassifier\n",
        "from sklearn.metrics import accuracy_score, classification_report, confusion_matrix\n",
        "\n",
        "import warnings\n",
        "warnings.filterwarnings(\"ignore\")"
      ],
      "metadata": {
        "execution": {
          "iopub.status.busy": "2024-08-29T16:50:06.486083Z",
          "iopub.execute_input": "2024-08-29T16:50:06.486486Z",
          "iopub.status.idle": "2024-08-29T16:50:09.681404Z",
          "shell.execute_reply.started": "2024-08-29T16:50:06.486443Z",
          "shell.execute_reply": "2024-08-29T16:50:09.68025Z"
        },
        "trusted": true,
        "id": "8jO1FzfP6stZ"
      },
      "execution_count": 7,
      "outputs": []
    },
    {
      "cell_type": "markdown",
      "source": [
        "<a id=\"data\"></a>\n",
        "# <div style=\"text-align:center; border-radius:30px 30px; padding:9px; color:white; margin:0; font-size:110%; font-family:Arial; background-color:#419D78; overflow:hidden\"><b> 2. Reading and Understanding our Data </b></div>"
      ],
      "metadata": {
        "id": "V3RvHnqw6sta"
      }
    },
    {
      "cell_type": "code",
      "source": [
        "# df = pd.read_csv('/kaggle/input/sentiment-analysis-for-mental-health/Combined Data.csv', index_col=0)\n",
        "df = pd.read_csv('/content/drive/MyDrive/Bangkit/Capstone/mental_health_conversations.csv', index_col=0)"
      ],
      "metadata": {
        "execution": {
          "iopub.status.busy": "2024-08-29T16:50:09.683208Z",
          "iopub.execute_input": "2024-08-29T16:50:09.684077Z",
          "iopub.status.idle": "2024-08-29T16:50:10.677355Z",
          "shell.execute_reply.started": "2024-08-29T16:50:09.684036Z",
          "shell.execute_reply": "2024-08-29T16:50:10.67625Z"
        },
        "trusted": true,
        "id": "LKd9rT-T6sta"
      },
      "execution_count": 12,
      "outputs": []
    },
    {
      "cell_type": "code",
      "source": [
        "from google.colab import drive\n",
        "drive.mount('/content/drive')"
      ],
      "metadata": {
        "id": "ZaiTlDse7JiF",
        "colab": {
          "base_uri": "https://localhost:8080/"
        },
        "outputId": "56fb60cc-5682-41f6-d4cd-88e16783fb90"
      },
      "execution_count": 9,
      "outputs": [
        {
          "output_type": "stream",
          "name": "stdout",
          "text": [
            "Mounted at /content/drive\n"
          ]
        }
      ]
    },
    {
      "cell_type": "code",
      "source": [
        "df.head()"
      ],
      "metadata": {
        "execution": {
          "iopub.status.busy": "2024-08-29T16:50:10.678724Z",
          "iopub.execute_input": "2024-08-29T16:50:10.679163Z",
          "iopub.status.idle": "2024-08-29T16:50:10.696183Z",
          "shell.execute_reply.started": "2024-08-29T16:50:10.679116Z",
          "shell.execute_reply": "2024-08-29T16:50:10.695048Z"
        },
        "trusted": true,
        "id": "qDUJ0nvH6stb",
        "colab": {
          "base_uri": "https://localhost:8080/",
          "height": 206
        },
        "outputId": "c58788f6-0697-45d6-c000-eace2fcc87d8"
      },
      "execution_count": 13,
      "outputs": [
        {
          "output_type": "execute_result",
          "data": {
            "text/plain": [
              "                                           statement   status\n",
              "0                                         oh my gosh  Anxiety\n",
              "1  trouble sleeping, confused mind, restless hear...  Anxiety\n",
              "2  All wrong, back off dear, forward doubt. Stay ...  Anxiety\n",
              "3  I've shifted my focus to something else but I'...  Anxiety\n",
              "4  I'm restless and restless, it's been a month n...  Anxiety"
            ],
            "text/html": [
              "\n",
              "  <div id=\"df-7ee7ddb0-9273-4060-8be3-d6b9001cc729\" class=\"colab-df-container\">\n",
              "    <div>\n",
              "<style scoped>\n",
              "    .dataframe tbody tr th:only-of-type {\n",
              "        vertical-align: middle;\n",
              "    }\n",
              "\n",
              "    .dataframe tbody tr th {\n",
              "        vertical-align: top;\n",
              "    }\n",
              "\n",
              "    .dataframe thead th {\n",
              "        text-align: right;\n",
              "    }\n",
              "</style>\n",
              "<table border=\"1\" class=\"dataframe\">\n",
              "  <thead>\n",
              "    <tr style=\"text-align: right;\">\n",
              "      <th></th>\n",
              "      <th>statement</th>\n",
              "      <th>status</th>\n",
              "    </tr>\n",
              "  </thead>\n",
              "  <tbody>\n",
              "    <tr>\n",
              "      <th>0</th>\n",
              "      <td>oh my gosh</td>\n",
              "      <td>Anxiety</td>\n",
              "    </tr>\n",
              "    <tr>\n",
              "      <th>1</th>\n",
              "      <td>trouble sleeping, confused mind, restless hear...</td>\n",
              "      <td>Anxiety</td>\n",
              "    </tr>\n",
              "    <tr>\n",
              "      <th>2</th>\n",
              "      <td>All wrong, back off dear, forward doubt. Stay ...</td>\n",
              "      <td>Anxiety</td>\n",
              "    </tr>\n",
              "    <tr>\n",
              "      <th>3</th>\n",
              "      <td>I've shifted my focus to something else but I'...</td>\n",
              "      <td>Anxiety</td>\n",
              "    </tr>\n",
              "    <tr>\n",
              "      <th>4</th>\n",
              "      <td>I'm restless and restless, it's been a month n...</td>\n",
              "      <td>Anxiety</td>\n",
              "    </tr>\n",
              "  </tbody>\n",
              "</table>\n",
              "</div>\n",
              "    <div class=\"colab-df-buttons\">\n",
              "\n",
              "  <div class=\"colab-df-container\">\n",
              "    <button class=\"colab-df-convert\" onclick=\"convertToInteractive('df-7ee7ddb0-9273-4060-8be3-d6b9001cc729')\"\n",
              "            title=\"Convert this dataframe to an interactive table.\"\n",
              "            style=\"display:none;\">\n",
              "\n",
              "  <svg xmlns=\"http://www.w3.org/2000/svg\" height=\"24px\" viewBox=\"0 -960 960 960\">\n",
              "    <path d=\"M120-120v-720h720v720H120Zm60-500h600v-160H180v160Zm220 220h160v-160H400v160Zm0 220h160v-160H400v160ZM180-400h160v-160H180v160Zm440 0h160v-160H620v160ZM180-180h160v-160H180v160Zm440 0h160v-160H620v160Z\"/>\n",
              "  </svg>\n",
              "    </button>\n",
              "\n",
              "  <style>\n",
              "    .colab-df-container {\n",
              "      display:flex;\n",
              "      gap: 12px;\n",
              "    }\n",
              "\n",
              "    .colab-df-convert {\n",
              "      background-color: #E8F0FE;\n",
              "      border: none;\n",
              "      border-radius: 50%;\n",
              "      cursor: pointer;\n",
              "      display: none;\n",
              "      fill: #1967D2;\n",
              "      height: 32px;\n",
              "      padding: 0 0 0 0;\n",
              "      width: 32px;\n",
              "    }\n",
              "\n",
              "    .colab-df-convert:hover {\n",
              "      background-color: #E2EBFA;\n",
              "      box-shadow: 0px 1px 2px rgba(60, 64, 67, 0.3), 0px 1px 3px 1px rgba(60, 64, 67, 0.15);\n",
              "      fill: #174EA6;\n",
              "    }\n",
              "\n",
              "    .colab-df-buttons div {\n",
              "      margin-bottom: 4px;\n",
              "    }\n",
              "\n",
              "    [theme=dark] .colab-df-convert {\n",
              "      background-color: #3B4455;\n",
              "      fill: #D2E3FC;\n",
              "    }\n",
              "\n",
              "    [theme=dark] .colab-df-convert:hover {\n",
              "      background-color: #434B5C;\n",
              "      box-shadow: 0px 1px 3px 1px rgba(0, 0, 0, 0.15);\n",
              "      filter: drop-shadow(0px 1px 2px rgba(0, 0, 0, 0.3));\n",
              "      fill: #FFFFFF;\n",
              "    }\n",
              "  </style>\n",
              "\n",
              "    <script>\n",
              "      const buttonEl =\n",
              "        document.querySelector('#df-7ee7ddb0-9273-4060-8be3-d6b9001cc729 button.colab-df-convert');\n",
              "      buttonEl.style.display =\n",
              "        google.colab.kernel.accessAllowed ? 'block' : 'none';\n",
              "\n",
              "      async function convertToInteractive(key) {\n",
              "        const element = document.querySelector('#df-7ee7ddb0-9273-4060-8be3-d6b9001cc729');\n",
              "        const dataTable =\n",
              "          await google.colab.kernel.invokeFunction('convertToInteractive',\n",
              "                                                    [key], {});\n",
              "        if (!dataTable) return;\n",
              "\n",
              "        const docLinkHtml = 'Like what you see? Visit the ' +\n",
              "          '<a target=\"_blank\" href=https://colab.research.google.com/notebooks/data_table.ipynb>data table notebook</a>'\n",
              "          + ' to learn more about interactive tables.';\n",
              "        element.innerHTML = '';\n",
              "        dataTable['output_type'] = 'display_data';\n",
              "        await google.colab.output.renderOutput(dataTable, element);\n",
              "        const docLink = document.createElement('div');\n",
              "        docLink.innerHTML = docLinkHtml;\n",
              "        element.appendChild(docLink);\n",
              "      }\n",
              "    </script>\n",
              "  </div>\n",
              "\n",
              "\n",
              "<div id=\"df-8dbe78ff-4e1c-4508-9016-9af6a03ded4a\">\n",
              "  <button class=\"colab-df-quickchart\" onclick=\"quickchart('df-8dbe78ff-4e1c-4508-9016-9af6a03ded4a')\"\n",
              "            title=\"Suggest charts\"\n",
              "            style=\"display:none;\">\n",
              "\n",
              "<svg xmlns=\"http://www.w3.org/2000/svg\" height=\"24px\"viewBox=\"0 0 24 24\"\n",
              "     width=\"24px\">\n",
              "    <g>\n",
              "        <path d=\"M19 3H5c-1.1 0-2 .9-2 2v14c0 1.1.9 2 2 2h14c1.1 0 2-.9 2-2V5c0-1.1-.9-2-2-2zM9 17H7v-7h2v7zm4 0h-2V7h2v10zm4 0h-2v-4h2v4z\"/>\n",
              "    </g>\n",
              "</svg>\n",
              "  </button>\n",
              "\n",
              "<style>\n",
              "  .colab-df-quickchart {\n",
              "      --bg-color: #E8F0FE;\n",
              "      --fill-color: #1967D2;\n",
              "      --hover-bg-color: #E2EBFA;\n",
              "      --hover-fill-color: #174EA6;\n",
              "      --disabled-fill-color: #AAA;\n",
              "      --disabled-bg-color: #DDD;\n",
              "  }\n",
              "\n",
              "  [theme=dark] .colab-df-quickchart {\n",
              "      --bg-color: #3B4455;\n",
              "      --fill-color: #D2E3FC;\n",
              "      --hover-bg-color: #434B5C;\n",
              "      --hover-fill-color: #FFFFFF;\n",
              "      --disabled-bg-color: #3B4455;\n",
              "      --disabled-fill-color: #666;\n",
              "  }\n",
              "\n",
              "  .colab-df-quickchart {\n",
              "    background-color: var(--bg-color);\n",
              "    border: none;\n",
              "    border-radius: 50%;\n",
              "    cursor: pointer;\n",
              "    display: none;\n",
              "    fill: var(--fill-color);\n",
              "    height: 32px;\n",
              "    padding: 0;\n",
              "    width: 32px;\n",
              "  }\n",
              "\n",
              "  .colab-df-quickchart:hover {\n",
              "    background-color: var(--hover-bg-color);\n",
              "    box-shadow: 0 1px 2px rgba(60, 64, 67, 0.3), 0 1px 3px 1px rgba(60, 64, 67, 0.15);\n",
              "    fill: var(--button-hover-fill-color);\n",
              "  }\n",
              "\n",
              "  .colab-df-quickchart-complete:disabled,\n",
              "  .colab-df-quickchart-complete:disabled:hover {\n",
              "    background-color: var(--disabled-bg-color);\n",
              "    fill: var(--disabled-fill-color);\n",
              "    box-shadow: none;\n",
              "  }\n",
              "\n",
              "  .colab-df-spinner {\n",
              "    border: 2px solid var(--fill-color);\n",
              "    border-color: transparent;\n",
              "    border-bottom-color: var(--fill-color);\n",
              "    animation:\n",
              "      spin 1s steps(1) infinite;\n",
              "  }\n",
              "\n",
              "  @keyframes spin {\n",
              "    0% {\n",
              "      border-color: transparent;\n",
              "      border-bottom-color: var(--fill-color);\n",
              "      border-left-color: var(--fill-color);\n",
              "    }\n",
              "    20% {\n",
              "      border-color: transparent;\n",
              "      border-left-color: var(--fill-color);\n",
              "      border-top-color: var(--fill-color);\n",
              "    }\n",
              "    30% {\n",
              "      border-color: transparent;\n",
              "      border-left-color: var(--fill-color);\n",
              "      border-top-color: var(--fill-color);\n",
              "      border-right-color: var(--fill-color);\n",
              "    }\n",
              "    40% {\n",
              "      border-color: transparent;\n",
              "      border-right-color: var(--fill-color);\n",
              "      border-top-color: var(--fill-color);\n",
              "    }\n",
              "    60% {\n",
              "      border-color: transparent;\n",
              "      border-right-color: var(--fill-color);\n",
              "    }\n",
              "    80% {\n",
              "      border-color: transparent;\n",
              "      border-right-color: var(--fill-color);\n",
              "      border-bottom-color: var(--fill-color);\n",
              "    }\n",
              "    90% {\n",
              "      border-color: transparent;\n",
              "      border-bottom-color: var(--fill-color);\n",
              "    }\n",
              "  }\n",
              "</style>\n",
              "\n",
              "  <script>\n",
              "    async function quickchart(key) {\n",
              "      const quickchartButtonEl =\n",
              "        document.querySelector('#' + key + ' button');\n",
              "      quickchartButtonEl.disabled = true;  // To prevent multiple clicks.\n",
              "      quickchartButtonEl.classList.add('colab-df-spinner');\n",
              "      try {\n",
              "        const charts = await google.colab.kernel.invokeFunction(\n",
              "            'suggestCharts', [key], {});\n",
              "      } catch (error) {\n",
              "        console.error('Error during call to suggestCharts:', error);\n",
              "      }\n",
              "      quickchartButtonEl.classList.remove('colab-df-spinner');\n",
              "      quickchartButtonEl.classList.add('colab-df-quickchart-complete');\n",
              "    }\n",
              "    (() => {\n",
              "      let quickchartButtonEl =\n",
              "        document.querySelector('#df-8dbe78ff-4e1c-4508-9016-9af6a03ded4a button');\n",
              "      quickchartButtonEl.style.display =\n",
              "        google.colab.kernel.accessAllowed ? 'block' : 'none';\n",
              "    })();\n",
              "  </script>\n",
              "</div>\n",
              "\n",
              "    </div>\n",
              "  </div>\n"
            ],
            "application/vnd.google.colaboratory.intrinsic+json": {
              "type": "dataframe",
              "variable_name": "df",
              "summary": "{\n  \"name\": \"df\",\n  \"rows\": 53043,\n  \"fields\": [\n    {\n      \"column\": \"statement\",\n      \"properties\": {\n        \"dtype\": \"string\",\n        \"num_unique_values\": 51073,\n        \"samples\": [\n          \"he's been a chain smoker for 30 years.\",\n          \"Dependence on therapist I attend IOP groups and individual therapy sessions at the same place, my therapist who I have worked with on and off for a year and a couple months just told me today that she is leaving soon and I am heartbroken. I love my therapist and I don't know how I am going to keep progressing without her. There will be a replacement for her but idk what to do, I don't want a different therapist. :(\",\n          \"These feelings constantly come back. Someone from my past that hurt me came back a month ago and once again disrespected me and i just feel like shit. Idk why these feelings keep resurfacing but it just hurts. I do not want to be over dramatic but Its hurts when you were nothing but loving/kind to someone and they disrespect you. I just hate feeling like this, feeling like i cannot trust anyone or that no one would ever truly love me unless i have something to offer. I am always worried about my looks and its just making me depressed. I really do not feel like i fit in with the world I am just here. Idk what my next step should be to get help but I am really going through it. (Yes I am in therapy) but how do i help myself ? I have been depressed/anxious for years and most day i do not even leave my house. But nobody around me seems to care and honestly I am tired of feeling this way. But at the same time i do not want to give up on myself bc i feel like I am here to be somebody great. I am just trying to find my way right now. It keeps coming back\"\n        ],\n        \"semantic_type\": \"\",\n        \"description\": \"\"\n      }\n    },\n    {\n      \"column\": \"status\",\n      \"properties\": {\n        \"dtype\": \"category\",\n        \"num_unique_values\": 7,\n        \"samples\": [\n          \"Anxiety\",\n          \"Normal\",\n          \"Bipolar\"\n        ],\n        \"semantic_type\": \"\",\n        \"description\": \"\"\n      }\n    }\n  ]\n}"
            }
          },
          "metadata": {},
          "execution_count": 13
        }
      ]
    },
    {
      "cell_type": "code",
      "source": [
        "df.describe()"
      ],
      "metadata": {
        "execution": {
          "iopub.status.busy": "2024-08-29T16:50:10.69914Z",
          "iopub.execute_input": "2024-08-29T16:50:10.699589Z",
          "iopub.status.idle": "2024-08-29T16:50:10.81131Z",
          "shell.execute_reply.started": "2024-08-29T16:50:10.699538Z",
          "shell.execute_reply": "2024-08-29T16:50:10.810219Z"
        },
        "trusted": true,
        "id": "jQn6ESNo6stb",
        "colab": {
          "base_uri": "https://localhost:8080/",
          "height": 175
        },
        "outputId": "5b014313-5b60-48c0-fadc-c5493f0ace97"
      },
      "execution_count": 14,
      "outputs": [
        {
          "output_type": "execute_result",
          "data": {
            "text/plain": [
              "                statement  status\n",
              "count               52681   53043\n",
              "unique              51073       7\n",
              "top     what do you mean?  Normal\n",
              "freq                   22   16351"
            ],
            "text/html": [
              "\n",
              "  <div id=\"df-3679f54c-0b43-4510-ad3e-2cd938d37bff\" class=\"colab-df-container\">\n",
              "    <div>\n",
              "<style scoped>\n",
              "    .dataframe tbody tr th:only-of-type {\n",
              "        vertical-align: middle;\n",
              "    }\n",
              "\n",
              "    .dataframe tbody tr th {\n",
              "        vertical-align: top;\n",
              "    }\n",
              "\n",
              "    .dataframe thead th {\n",
              "        text-align: right;\n",
              "    }\n",
              "</style>\n",
              "<table border=\"1\" class=\"dataframe\">\n",
              "  <thead>\n",
              "    <tr style=\"text-align: right;\">\n",
              "      <th></th>\n",
              "      <th>statement</th>\n",
              "      <th>status</th>\n",
              "    </tr>\n",
              "  </thead>\n",
              "  <tbody>\n",
              "    <tr>\n",
              "      <th>count</th>\n",
              "      <td>52681</td>\n",
              "      <td>53043</td>\n",
              "    </tr>\n",
              "    <tr>\n",
              "      <th>unique</th>\n",
              "      <td>51073</td>\n",
              "      <td>7</td>\n",
              "    </tr>\n",
              "    <tr>\n",
              "      <th>top</th>\n",
              "      <td>what do you mean?</td>\n",
              "      <td>Normal</td>\n",
              "    </tr>\n",
              "    <tr>\n",
              "      <th>freq</th>\n",
              "      <td>22</td>\n",
              "      <td>16351</td>\n",
              "    </tr>\n",
              "  </tbody>\n",
              "</table>\n",
              "</div>\n",
              "    <div class=\"colab-df-buttons\">\n",
              "\n",
              "  <div class=\"colab-df-container\">\n",
              "    <button class=\"colab-df-convert\" onclick=\"convertToInteractive('df-3679f54c-0b43-4510-ad3e-2cd938d37bff')\"\n",
              "            title=\"Convert this dataframe to an interactive table.\"\n",
              "            style=\"display:none;\">\n",
              "\n",
              "  <svg xmlns=\"http://www.w3.org/2000/svg\" height=\"24px\" viewBox=\"0 -960 960 960\">\n",
              "    <path d=\"M120-120v-720h720v720H120Zm60-500h600v-160H180v160Zm220 220h160v-160H400v160Zm0 220h160v-160H400v160ZM180-400h160v-160H180v160Zm440 0h160v-160H620v160ZM180-180h160v-160H180v160Zm440 0h160v-160H620v160Z\"/>\n",
              "  </svg>\n",
              "    </button>\n",
              "\n",
              "  <style>\n",
              "    .colab-df-container {\n",
              "      display:flex;\n",
              "      gap: 12px;\n",
              "    }\n",
              "\n",
              "    .colab-df-convert {\n",
              "      background-color: #E8F0FE;\n",
              "      border: none;\n",
              "      border-radius: 50%;\n",
              "      cursor: pointer;\n",
              "      display: none;\n",
              "      fill: #1967D2;\n",
              "      height: 32px;\n",
              "      padding: 0 0 0 0;\n",
              "      width: 32px;\n",
              "    }\n",
              "\n",
              "    .colab-df-convert:hover {\n",
              "      background-color: #E2EBFA;\n",
              "      box-shadow: 0px 1px 2px rgba(60, 64, 67, 0.3), 0px 1px 3px 1px rgba(60, 64, 67, 0.15);\n",
              "      fill: #174EA6;\n",
              "    }\n",
              "\n",
              "    .colab-df-buttons div {\n",
              "      margin-bottom: 4px;\n",
              "    }\n",
              "\n",
              "    [theme=dark] .colab-df-convert {\n",
              "      background-color: #3B4455;\n",
              "      fill: #D2E3FC;\n",
              "    }\n",
              "\n",
              "    [theme=dark] .colab-df-convert:hover {\n",
              "      background-color: #434B5C;\n",
              "      box-shadow: 0px 1px 3px 1px rgba(0, 0, 0, 0.15);\n",
              "      filter: drop-shadow(0px 1px 2px rgba(0, 0, 0, 0.3));\n",
              "      fill: #FFFFFF;\n",
              "    }\n",
              "  </style>\n",
              "\n",
              "    <script>\n",
              "      const buttonEl =\n",
              "        document.querySelector('#df-3679f54c-0b43-4510-ad3e-2cd938d37bff button.colab-df-convert');\n",
              "      buttonEl.style.display =\n",
              "        google.colab.kernel.accessAllowed ? 'block' : 'none';\n",
              "\n",
              "      async function convertToInteractive(key) {\n",
              "        const element = document.querySelector('#df-3679f54c-0b43-4510-ad3e-2cd938d37bff');\n",
              "        const dataTable =\n",
              "          await google.colab.kernel.invokeFunction('convertToInteractive',\n",
              "                                                    [key], {});\n",
              "        if (!dataTable) return;\n",
              "\n",
              "        const docLinkHtml = 'Like what you see? Visit the ' +\n",
              "          '<a target=\"_blank\" href=https://colab.research.google.com/notebooks/data_table.ipynb>data table notebook</a>'\n",
              "          + ' to learn more about interactive tables.';\n",
              "        element.innerHTML = '';\n",
              "        dataTable['output_type'] = 'display_data';\n",
              "        await google.colab.output.renderOutput(dataTable, element);\n",
              "        const docLink = document.createElement('div');\n",
              "        docLink.innerHTML = docLinkHtml;\n",
              "        element.appendChild(docLink);\n",
              "      }\n",
              "    </script>\n",
              "  </div>\n",
              "\n",
              "\n",
              "<div id=\"df-f4b687ac-8beb-46eb-8f1b-3d92150d0c52\">\n",
              "  <button class=\"colab-df-quickchart\" onclick=\"quickchart('df-f4b687ac-8beb-46eb-8f1b-3d92150d0c52')\"\n",
              "            title=\"Suggest charts\"\n",
              "            style=\"display:none;\">\n",
              "\n",
              "<svg xmlns=\"http://www.w3.org/2000/svg\" height=\"24px\"viewBox=\"0 0 24 24\"\n",
              "     width=\"24px\">\n",
              "    <g>\n",
              "        <path d=\"M19 3H5c-1.1 0-2 .9-2 2v14c0 1.1.9 2 2 2h14c1.1 0 2-.9 2-2V5c0-1.1-.9-2-2-2zM9 17H7v-7h2v7zm4 0h-2V7h2v10zm4 0h-2v-4h2v4z\"/>\n",
              "    </g>\n",
              "</svg>\n",
              "  </button>\n",
              "\n",
              "<style>\n",
              "  .colab-df-quickchart {\n",
              "      --bg-color: #E8F0FE;\n",
              "      --fill-color: #1967D2;\n",
              "      --hover-bg-color: #E2EBFA;\n",
              "      --hover-fill-color: #174EA6;\n",
              "      --disabled-fill-color: #AAA;\n",
              "      --disabled-bg-color: #DDD;\n",
              "  }\n",
              "\n",
              "  [theme=dark] .colab-df-quickchart {\n",
              "      --bg-color: #3B4455;\n",
              "      --fill-color: #D2E3FC;\n",
              "      --hover-bg-color: #434B5C;\n",
              "      --hover-fill-color: #FFFFFF;\n",
              "      --disabled-bg-color: #3B4455;\n",
              "      --disabled-fill-color: #666;\n",
              "  }\n",
              "\n",
              "  .colab-df-quickchart {\n",
              "    background-color: var(--bg-color);\n",
              "    border: none;\n",
              "    border-radius: 50%;\n",
              "    cursor: pointer;\n",
              "    display: none;\n",
              "    fill: var(--fill-color);\n",
              "    height: 32px;\n",
              "    padding: 0;\n",
              "    width: 32px;\n",
              "  }\n",
              "\n",
              "  .colab-df-quickchart:hover {\n",
              "    background-color: var(--hover-bg-color);\n",
              "    box-shadow: 0 1px 2px rgba(60, 64, 67, 0.3), 0 1px 3px 1px rgba(60, 64, 67, 0.15);\n",
              "    fill: var(--button-hover-fill-color);\n",
              "  }\n",
              "\n",
              "  .colab-df-quickchart-complete:disabled,\n",
              "  .colab-df-quickchart-complete:disabled:hover {\n",
              "    background-color: var(--disabled-bg-color);\n",
              "    fill: var(--disabled-fill-color);\n",
              "    box-shadow: none;\n",
              "  }\n",
              "\n",
              "  .colab-df-spinner {\n",
              "    border: 2px solid var(--fill-color);\n",
              "    border-color: transparent;\n",
              "    border-bottom-color: var(--fill-color);\n",
              "    animation:\n",
              "      spin 1s steps(1) infinite;\n",
              "  }\n",
              "\n",
              "  @keyframes spin {\n",
              "    0% {\n",
              "      border-color: transparent;\n",
              "      border-bottom-color: var(--fill-color);\n",
              "      border-left-color: var(--fill-color);\n",
              "    }\n",
              "    20% {\n",
              "      border-color: transparent;\n",
              "      border-left-color: var(--fill-color);\n",
              "      border-top-color: var(--fill-color);\n",
              "    }\n",
              "    30% {\n",
              "      border-color: transparent;\n",
              "      border-left-color: var(--fill-color);\n",
              "      border-top-color: var(--fill-color);\n",
              "      border-right-color: var(--fill-color);\n",
              "    }\n",
              "    40% {\n",
              "      border-color: transparent;\n",
              "      border-right-color: var(--fill-color);\n",
              "      border-top-color: var(--fill-color);\n",
              "    }\n",
              "    60% {\n",
              "      border-color: transparent;\n",
              "      border-right-color: var(--fill-color);\n",
              "    }\n",
              "    80% {\n",
              "      border-color: transparent;\n",
              "      border-right-color: var(--fill-color);\n",
              "      border-bottom-color: var(--fill-color);\n",
              "    }\n",
              "    90% {\n",
              "      border-color: transparent;\n",
              "      border-bottom-color: var(--fill-color);\n",
              "    }\n",
              "  }\n",
              "</style>\n",
              "\n",
              "  <script>\n",
              "    async function quickchart(key) {\n",
              "      const quickchartButtonEl =\n",
              "        document.querySelector('#' + key + ' button');\n",
              "      quickchartButtonEl.disabled = true;  // To prevent multiple clicks.\n",
              "      quickchartButtonEl.classList.add('colab-df-spinner');\n",
              "      try {\n",
              "        const charts = await google.colab.kernel.invokeFunction(\n",
              "            'suggestCharts', [key], {});\n",
              "      } catch (error) {\n",
              "        console.error('Error during call to suggestCharts:', error);\n",
              "      }\n",
              "      quickchartButtonEl.classList.remove('colab-df-spinner');\n",
              "      quickchartButtonEl.classList.add('colab-df-quickchart-complete');\n",
              "    }\n",
              "    (() => {\n",
              "      let quickchartButtonEl =\n",
              "        document.querySelector('#df-f4b687ac-8beb-46eb-8f1b-3d92150d0c52 button');\n",
              "      quickchartButtonEl.style.display =\n",
              "        google.colab.kernel.accessAllowed ? 'block' : 'none';\n",
              "    })();\n",
              "  </script>\n",
              "</div>\n",
              "\n",
              "    </div>\n",
              "  </div>\n"
            ],
            "application/vnd.google.colaboratory.intrinsic+json": {
              "type": "dataframe",
              "summary": "{\n  \"name\": \"df\",\n  \"rows\": 4,\n  \"fields\": [\n    {\n      \"column\": \"statement\",\n      \"properties\": {\n        \"dtype\": \"string\",\n        \"num_unique_values\": 4,\n        \"samples\": [\n          51073,\n          \"22\",\n          \"52681\"\n        ],\n        \"semantic_type\": \"\",\n        \"description\": \"\"\n      }\n    },\n    {\n      \"column\": \"status\",\n      \"properties\": {\n        \"dtype\": \"string\",\n        \"num_unique_values\": 4,\n        \"samples\": [\n          7,\n          \"16351\",\n          \"53043\"\n        ],\n        \"semantic_type\": \"\",\n        \"description\": \"\"\n      }\n    }\n  ]\n}"
            }
          },
          "metadata": {},
          "execution_count": 14
        }
      ]
    },
    {
      "cell_type": "code",
      "source": [
        "df.info()"
      ],
      "metadata": {
        "execution": {
          "iopub.status.busy": "2024-08-29T16:50:10.812866Z",
          "iopub.execute_input": "2024-08-29T16:50:10.813347Z",
          "iopub.status.idle": "2024-08-29T16:50:10.843087Z",
          "shell.execute_reply.started": "2024-08-29T16:50:10.813289Z",
          "shell.execute_reply": "2024-08-29T16:50:10.841645Z"
        },
        "trusted": true,
        "id": "bCw7qOP66stb",
        "colab": {
          "base_uri": "https://localhost:8080/"
        },
        "outputId": "456b34ec-e2e2-4bbc-98f1-2271006e9122"
      },
      "execution_count": 15,
      "outputs": [
        {
          "output_type": "stream",
          "name": "stdout",
          "text": [
            "<class 'pandas.core.frame.DataFrame'>\n",
            "Index: 53043 entries, 0 to 53042\n",
            "Data columns (total 2 columns):\n",
            " #   Column     Non-Null Count  Dtype \n",
            "---  ------     --------------  ----- \n",
            " 0   statement  52681 non-null  object\n",
            " 1   status     53043 non-null  object\n",
            "dtypes: object(2)\n",
            "memory usage: 1.2+ MB\n"
          ]
        }
      ]
    },
    {
      "cell_type": "markdown",
      "source": [
        "### Removing missing data"
      ],
      "metadata": {
        "id": "sxJEIq2s6stc"
      }
    },
    {
      "cell_type": "code",
      "source": [
        "df.isna().sum()"
      ],
      "metadata": {
        "execution": {
          "iopub.status.busy": "2024-08-29T16:50:10.84497Z",
          "iopub.execute_input": "2024-08-29T16:50:10.845536Z",
          "iopub.status.idle": "2024-08-29T16:50:10.869086Z",
          "shell.execute_reply.started": "2024-08-29T16:50:10.845468Z",
          "shell.execute_reply": "2024-08-29T16:50:10.867891Z"
        },
        "trusted": true,
        "id": "Tn29hFdn6stc",
        "colab": {
          "base_uri": "https://localhost:8080/",
          "height": 147
        },
        "outputId": "eeb95ff0-4370-4144-8734-6013ae7fdad2"
      },
      "execution_count": 16,
      "outputs": [
        {
          "output_type": "execute_result",
          "data": {
            "text/plain": [
              "statement    362\n",
              "status         0\n",
              "dtype: int64"
            ],
            "text/html": [
              "<div>\n",
              "<style scoped>\n",
              "    .dataframe tbody tr th:only-of-type {\n",
              "        vertical-align: middle;\n",
              "    }\n",
              "\n",
              "    .dataframe tbody tr th {\n",
              "        vertical-align: top;\n",
              "    }\n",
              "\n",
              "    .dataframe thead th {\n",
              "        text-align: right;\n",
              "    }\n",
              "</style>\n",
              "<table border=\"1\" class=\"dataframe\">\n",
              "  <thead>\n",
              "    <tr style=\"text-align: right;\">\n",
              "      <th></th>\n",
              "      <th>0</th>\n",
              "    </tr>\n",
              "  </thead>\n",
              "  <tbody>\n",
              "    <tr>\n",
              "      <th>statement</th>\n",
              "      <td>362</td>\n",
              "    </tr>\n",
              "    <tr>\n",
              "      <th>status</th>\n",
              "      <td>0</td>\n",
              "    </tr>\n",
              "  </tbody>\n",
              "</table>\n",
              "</div><br><label><b>dtype:</b> int64</label>"
            ]
          },
          "metadata": {},
          "execution_count": 16
        }
      ]
    },
    {
      "cell_type": "code",
      "source": [
        "df.dropna(inplace = True)\n",
        "df.isna().sum()"
      ],
      "metadata": {
        "execution": {
          "iopub.status.busy": "2024-08-29T16:50:10.870805Z",
          "iopub.execute_input": "2024-08-29T16:50:10.871305Z",
          "iopub.status.idle": "2024-08-29T16:50:10.91036Z",
          "shell.execute_reply.started": "2024-08-29T16:50:10.87122Z",
          "shell.execute_reply": "2024-08-29T16:50:10.909341Z"
        },
        "trusted": true,
        "id": "grFbx_n66stc",
        "colab": {
          "base_uri": "https://localhost:8080/",
          "height": 147
        },
        "outputId": "149cecc5-148a-4e17-b2c5-76a35d254edb"
      },
      "execution_count": 17,
      "outputs": [
        {
          "output_type": "execute_result",
          "data": {
            "text/plain": [
              "statement    0\n",
              "status       0\n",
              "dtype: int64"
            ],
            "text/html": [
              "<div>\n",
              "<style scoped>\n",
              "    .dataframe tbody tr th:only-of-type {\n",
              "        vertical-align: middle;\n",
              "    }\n",
              "\n",
              "    .dataframe tbody tr th {\n",
              "        vertical-align: top;\n",
              "    }\n",
              "\n",
              "    .dataframe thead th {\n",
              "        text-align: right;\n",
              "    }\n",
              "</style>\n",
              "<table border=\"1\" class=\"dataframe\">\n",
              "  <thead>\n",
              "    <tr style=\"text-align: right;\">\n",
              "      <th></th>\n",
              "      <th>0</th>\n",
              "    </tr>\n",
              "  </thead>\n",
              "  <tbody>\n",
              "    <tr>\n",
              "      <th>statement</th>\n",
              "      <td>0</td>\n",
              "    </tr>\n",
              "    <tr>\n",
              "      <th>status</th>\n",
              "      <td>0</td>\n",
              "    </tr>\n",
              "  </tbody>\n",
              "</table>\n",
              "</div><br><label><b>dtype:</b> int64</label>"
            ]
          },
          "metadata": {},
          "execution_count": 17
        }
      ]
    },
    {
      "cell_type": "markdown",
      "source": [
        "### Looking at target variable"
      ],
      "metadata": {
        "id": "fX6OX8Qx6stc"
      }
    },
    {
      "cell_type": "code",
      "source": [
        "df.status.value_counts()"
      ],
      "metadata": {
        "execution": {
          "iopub.status.busy": "2024-08-29T16:50:10.911921Z",
          "iopub.execute_input": "2024-08-29T16:50:10.912294Z",
          "iopub.status.idle": "2024-08-29T16:50:10.928191Z",
          "shell.execute_reply.started": "2024-08-29T16:50:10.912254Z",
          "shell.execute_reply": "2024-08-29T16:50:10.927002Z"
        },
        "trusted": true,
        "id": "Y1PaYnol6std",
        "colab": {
          "base_uri": "https://localhost:8080/",
          "height": 335
        },
        "outputId": "2f6e3040-758f-4753-bb15-7df2cca23c1e"
      },
      "execution_count": 18,
      "outputs": [
        {
          "output_type": "execute_result",
          "data": {
            "text/plain": [
              "status\n",
              "Normal                  16343\n",
              "Depression              15404\n",
              "Suicidal                10652\n",
              "Anxiety                  3841\n",
              "Bipolar                  2777\n",
              "Stress                   2587\n",
              "Personality disorder     1077\n",
              "Name: count, dtype: int64"
            ],
            "text/html": [
              "<div>\n",
              "<style scoped>\n",
              "    .dataframe tbody tr th:only-of-type {\n",
              "        vertical-align: middle;\n",
              "    }\n",
              "\n",
              "    .dataframe tbody tr th {\n",
              "        vertical-align: top;\n",
              "    }\n",
              "\n",
              "    .dataframe thead th {\n",
              "        text-align: right;\n",
              "    }\n",
              "</style>\n",
              "<table border=\"1\" class=\"dataframe\">\n",
              "  <thead>\n",
              "    <tr style=\"text-align: right;\">\n",
              "      <th></th>\n",
              "      <th>count</th>\n",
              "    </tr>\n",
              "    <tr>\n",
              "      <th>status</th>\n",
              "      <th></th>\n",
              "    </tr>\n",
              "  </thead>\n",
              "  <tbody>\n",
              "    <tr>\n",
              "      <th>Normal</th>\n",
              "      <td>16343</td>\n",
              "    </tr>\n",
              "    <tr>\n",
              "      <th>Depression</th>\n",
              "      <td>15404</td>\n",
              "    </tr>\n",
              "    <tr>\n",
              "      <th>Suicidal</th>\n",
              "      <td>10652</td>\n",
              "    </tr>\n",
              "    <tr>\n",
              "      <th>Anxiety</th>\n",
              "      <td>3841</td>\n",
              "    </tr>\n",
              "    <tr>\n",
              "      <th>Bipolar</th>\n",
              "      <td>2777</td>\n",
              "    </tr>\n",
              "    <tr>\n",
              "      <th>Stress</th>\n",
              "      <td>2587</td>\n",
              "    </tr>\n",
              "    <tr>\n",
              "      <th>Personality disorder</th>\n",
              "      <td>1077</td>\n",
              "    </tr>\n",
              "  </tbody>\n",
              "</table>\n",
              "</div><br><label><b>dtype:</b> int64</label>"
            ]
          },
          "metadata": {},
          "execution_count": 18
        }
      ]
    },
    {
      "cell_type": "code",
      "source": [
        "# Count the occurrences of each category\n",
        "status_counts = df['status'].value_counts()\n",
        "\n",
        "# Define colors for each category (7 colors)\n",
        "colors = ['#419D78', '#E0A458', '#2D3047', '#FFDBB5', '#C04ABC', '#B3CDE0', '#D0D0D0']\n",
        "\n",
        "# Create the pie chart\n",
        "plt.figure(figsize=(7, 7))\n",
        "plt.pie(status_counts, labels=status_counts.index, autopct='%1.1f%%',\n",
        "        startangle=140, colors=colors, shadow=True)\n",
        "\n",
        "plt.title('Distribution of Mental Health Conditions')\n",
        "plt.axis('equal')  # Equal aspect ratio ensures that the pie is drawn as a circle.\n",
        "\n",
        "# Display the chart\n",
        "plt.tight_layout()\n",
        "plt.show()"
      ],
      "metadata": {
        "execution": {
          "iopub.status.busy": "2024-08-29T16:50:10.930119Z",
          "iopub.execute_input": "2024-08-29T16:50:10.930553Z",
          "iopub.status.idle": "2024-08-29T16:50:11.392647Z",
          "shell.execute_reply.started": "2024-08-29T16:50:10.930497Z",
          "shell.execute_reply": "2024-08-29T16:50:11.391475Z"
        },
        "trusted": true,
        "id": "Pw6DNpGy6std",
        "colab": {
          "base_uri": "https://localhost:8080/",
          "height": 707
        },
        "outputId": "e953a186-3025-41b7-dc67-a6fa040bd4a5"
      },
      "execution_count": 19,
      "outputs": [
        {
          "output_type": "display_data",
          "data": {
            "text/plain": [
              "<Figure size 700x700 with 1 Axes>"
            ],
            "image/png": "[encoded data removed]"
          },
          "metadata": {}
        }
      ]
    },
    {
      "cell_type": "markdown",
      "source": [
        "<div style=\"padding: 20px; border-color: #419D78; border-radius: 10px; box-shadow: 0 2px 4px 0 rgba(0, 0, 0, 0.1); border: 2px solid #419D78;\">\n",
        "    <ul style=\"font-size: 18px; font-family: 'Arial'; line-height: 1.5em; \">\n",
        "        The target variable in our dataset is <strong>unbalanced</strong>. This imbalance could affect our model's performance, so we'll need to address it later to ensure accurate and fair predictions.\n",
        "    </ul>\n",
        "</div>"
      ],
      "metadata": {
        "id": "7zG4K1Sm6std"
      }
    },
    {
      "cell_type": "markdown",
      "source": [
        "### Looking at raw texts"
      ],
      "metadata": {
        "id": "b7AkFimp6std"
      }
    },
    {
      "cell_type": "code",
      "source": [
        "# Group by status and get a random statement from each group\n",
        "random_statements = df.groupby('status')['statement'].apply(lambda x: x.sample(n=1).iloc[0])\n",
        "\n",
        "# Print the results\n",
        "for status, statement in random_statements.items():\n",
        "    print(f\"Status: {status}\")\n",
        "    print(f\"Statement: {statement}\\n\")"
      ],
      "metadata": {
        "execution": {
          "iopub.status.busy": "2024-08-29T16:50:11.396852Z",
          "iopub.execute_input": "2024-08-29T16:50:11.397671Z",
          "iopub.status.idle": "2024-08-29T16:50:11.422492Z",
          "shell.execute_reply.started": "2024-08-29T16:50:11.397624Z",
          "shell.execute_reply": "2024-08-29T16:50:11.421434Z"
        },
        "trusted": true,
        "id": "pmqkExhP6std",
        "colab": {
          "base_uri": "https://localhost:8080/"
        },
        "outputId": "c1b5ec11-fb56-4363-c34a-340c8f643d8b"
      },
      "execution_count": 20,
      "outputs": [
        {
          "output_type": "stream",
          "name": "stdout",
          "text": [
            "Status: Anxiety\n",
            "Statement: 32 female upper back pain and chest pressure Of course delete if this doesnt belong here. As title suggests I've been experiencing upper back pain (between the shoulder blades) and chest pressure with palpitations for about 8 days now. Some fatigue but no other symptoms. Went to ER on Friday, they did urine and blood samples and a chest xray. All clear. Sent me home with a prescription for Tecta and said it was acid reflux. It very well could be of course, but I've struggled with acid reflux a lot in the past and it doesn't feel like this and has never exhibited itself in the form of upper back pain.  Taking pain meds doesn't really relieve the pain and it lasts all day and is worse near the evenings/night. I found taking a hot bath and a massage from my husband can relieve symptoms temporarily (20 mins tops) but it always creeps back. I'm 32 female, 5'1 102lbs, eat relatively well but get little exercise. I am also a long time smoker. Obviously that last point is the most concerning. My GP is generally very dismissive and I don't feel she's going to be much help. Any information at all would be extremely appreciated.\n",
            "\n",
            "Status: Bipolar\n",
            "Statement: Suddenly really confrontational? So I have yet to meet with my psychiatrist to confirm my diagnosis but it's looking quite likely that I'm living with bipolar II. \n",
            "\n",
            "Over the past few months I've experienced my first full-blown manic episode, with all the characteristic symptoms. \n",
            "\n",
            "Now I'm back in a really bad depressive state. Nevertheless, I've really been treated like shit over the past few months by some people who were once friends. In the past, I'd have been very meek and mild and probably would have let such behaviour slide. But over the past month or so, I've been very confrontational about the way I've been mistreated. \n",
            "\n",
            "I also went to the annual general meeting of a society I used to be president of, and called them out for their causal homophobia, misogyny, racism etc. \n",
            "\n",
            "These are things I wouldn't have considered doing in the past - I'd have been far too anxious and frankly conflict avoidant. Now that fear has gone and I see willing to embrace confrontation when I've been wronged. \n",
            "\n",
            "Is this just a sign of personal growth or have others experienced a surge in confrontational behaviours as well?\n",
            "\n",
            "Thanks guys and love to you all\n",
            "\n",
            "Status: Depression\n",
            "Statement: im talking about the kind of depressive episode where you lay in bed all day for day week and struggle to find energy motivation for simple functioning such a eating and showering just lay sit there having negative thought and feeling hopeless useless and pathetic i have these episode a few or so time a year my question is do you generally have something in your mind that feel like the obstacle you need to cross to start the process of getting out of your depressive episode for example sometimes for me i just feel like if only i could completely clean my house i d start to feel better other time it might be something else on my to do list or a few thing i feel are the obstacle to feeling better the obstacle always seem insanely mundane but also impossible to do in my state a if i d have to put on a ton of body weight and get up and do it with all that extra weight and already feeling fatigued it bizarre because ive noticed over the year that completing whatever it is that i ve decided a my obstacle is generally the st step to leaving my major depressive episode i can t describe the mental workout it is to get something done sometimes though like i may attempt to get it done time in a week to just end up giving up and going back to bed i m just wondering if anyone else get this and set up hurdle type thing for themselves when they are super depressive and do you ever eventually complete your obstacle amp doe it help you to coming out of the episode\n",
            "\n",
            "Status: Normal\n",
            "Statement: three day since my last tweet and no concern i could have been dead peep the reality is i forgot my password\n",
            "\n",
            "Status: Personality disorder\n",
            "Statement: I only see two options in my future Abandon my entire life, leaving everyone and everything behind. Or just kill myself. Or both.\n",
            "\n",
            "I let the closest friendships I’ve ever had die because I can’t be a normal person. I never contact people first because I feel like I’m rudely intruding whenever I present myself to someone in any fashion. I don’t even call my own family members and tell them I love them because it feels like anything I do is placing a burden on others.\n",
            "\n",
            "I don’t have a plan, I just wanna drive until I run out of money. I just wanna experience what life is like without having  the people you know perceive your actions, even if it’s just for a short time before I eventually succumb to my suicidal ideation.\n",
            "\n",
            "Status: Stress\n",
            "Statement: Investigating whether sexual fantasies are associated with personality, desire, and beliefs about one's own thoughts.  \\*\\*Content Warning\\*\\* - Sensitive/Sexual topics. As part of my Psychology degree at the University of Lincoln, I am carrying out research for my final dissertation project. If you are aged 18 years old or older and can read/write in English, I would appreciate it if you could take the time to complete my study, which will take about 20 minutes. This study is examining the influence of beliefs, personality traits, and desire on sexual fantasising. Gender will also be investigated as an influence. You should only take part if you feel comfortable with these topics, specifically sexual fantasy content. The brief in the study link will provide more information and details of what the study will involve (ethics approval code: 2022\\_10295). Please note, if you are negatively affected by the questions/topics, you are free to withdraw from the study while participating by closing the browser. Please feel free to share this, along with the study link, to friends or group chats who you think may be interested in taking part. Your help would be very valuable. Thank you! \n",
            "\n",
            "[**https://unioflincoln.eu.qualtrics.com/jfe/form/SV\\_eXwS4nz1Z4SB3jo**](https://unioflincoln.eu.qualtrics.com/jfe/form/SV_eXwS4nz1Z4SB3jo)\n",
            "\n",
            "Status: Suicidal\n",
            "Statement: For the past 2-3 years I spent my time diving deep into text about the universe, spirituality being positive etc. I have officially lost my mind. It gets too deep. I do not know what is real anymore and the point for anything and I have become numb. Numb to a point where I feel like I am always a Asshole or idk. I generally care for anyone but everything is so hard to do now a days. I cannot seem to make my family proud. I am lazy I do not feel like cleaning up. Its too hard to keep eating I lack desire to eat or move or do anything. I am a 19 year old female living in NJ. I do not like parties etc. I do not want to go to school. I hate the state of the world and I tried to be that better person for it but it just does not work. Its becoming a drag. I love my boyfriend but I feel like I am becoming a nuisance to him. My insecurities are getting him annoyed I can tell and I do not know how to like myself anymore. I feel like an alien I do not even relate to how I look. I feel bipolar I instantly regret the things I say/do I feel like I have 20 different people inside me. I tell myself I want to do what is right, the better thing but then I just do not. I was not like this before as I started to dive into occult &amp; the universe I lost my sense of self,reality etc. nobody around me seems to have it figured out either. It seems as though there is literally no point of existing. I have already left my body before &amp; I feel like I know what is on the other side. I am tired of making decisions like what to eat or what career to pick or how to pay bills or which doctor can fix my damaged toe. Etc.its just so much I have problems with. I have not one friend I have acquaintances who are fake . Please convince me to live I feel like I have a valid reason to kill myself\n",
            "\n"
          ]
        }
      ]
    },
    {
      "cell_type": "markdown",
      "source": [
        "### Adding new features"
      ],
      "metadata": {
        "id": "zSYOtRJ46ste"
      }
    },
    {
      "cell_type": "code",
      "source": [
        "# fix error, Resource punkt_tab not found.\n",
        "nltk.download('punkt_tab')"
      ],
      "metadata": {
        "colab": {
          "base_uri": "https://localhost:8080/"
        },
        "id": "OSJFaUR29ssC",
        "outputId": "b59d85c8-2746-43c4-df54-067dfe9ae6bd"
      },
      "execution_count": 22,
      "outputs": [
        {
          "output_type": "stream",
          "name": "stderr",
          "text": [
            "[nltk_data] Downloading package punkt_tab to /root/nltk_data...\n",
            "[nltk_data]   Unzipping tokenizers/punkt_tab.zip.\n"
          ]
        },
        {
          "output_type": "execute_result",
          "data": {
            "text/plain": [
              "True"
            ]
          },
          "metadata": {},
          "execution_count": 22
        }
      ]
    },
    {
      "cell_type": "code",
      "source": [
        "# Calculate the number of characters and sentences\n",
        "df['num_of_characters'] = df['statement'].str.len()\n",
        "df['num_of_sentences'] = df['statement'].apply(lambda x: len(nltk.sent_tokenize(x)))\n",
        "\n",
        "# Generate descriptive statistics\n",
        "description = df[['num_of_characters', 'num_of_sentences']].describe()\n",
        "\n",
        "# Display the descriptive statistics\n",
        "print(description)"
      ],
      "metadata": {
        "execution": {
          "iopub.status.busy": "2024-08-29T16:50:11.423659Z",
          "iopub.execute_input": "2024-08-29T16:50:11.423988Z",
          "iopub.status.idle": "2024-08-29T16:50:37.587301Z",
          "shell.execute_reply.started": "2024-08-29T16:50:11.423949Z",
          "shell.execute_reply": "2024-08-29T16:50:37.586196Z"
        },
        "trusted": true,
        "id": "8Amzy8nW6ste",
        "colab": {
          "base_uri": "https://localhost:8080/"
        },
        "outputId": "9e2fa9d7-bd79-4741-aa72-e3dbd62d59c7"
      },
      "execution_count": 23,
      "outputs": [
        {
          "output_type": "stream",
          "name": "stdout",
          "text": [
            "       num_of_characters  num_of_sentences\n",
            "count       52681.000000      52681.000000\n",
            "mean          578.713863          6.280215\n",
            "std           846.269078         10.688388\n",
            "min             2.000000          1.000000\n",
            "25%            80.000000          1.000000\n",
            "50%           317.000000          3.000000\n",
            "75%           752.000000          8.000000\n",
            "max         32759.000000       1260.000000\n"
          ]
        }
      ]
    },
    {
      "cell_type": "markdown",
      "source": [
        "<div style=\"padding: 20px; border-color: #419D78; border-radius: 10px; box-shadow: 0 2px 4px 0 rgba(0, 0, 0, 0.1); border: 2px solid #419D78;\">\n",
        "    <ul style=\"font-size: 18px; font-family: 'Arial'; line-height: 1.5em; \">\n",
        "        We have several lengthy messages, most of which express suicidal thoughts or signs of depression:\n",
        "    </ul>\n",
        "</div>"
      ],
      "metadata": {
        "id": "AWhXutXQ6ste"
      }
    },
    {
      "cell_type": "code",
      "source": [
        "df[df['num_of_characters'] > 10000]"
      ],
      "metadata": {
        "execution": {
          "iopub.status.busy": "2024-08-29T16:50:37.588652Z",
          "iopub.execute_input": "2024-08-29T16:50:37.588987Z",
          "iopub.status.idle": "2024-08-29T16:50:37.604832Z",
          "shell.execute_reply.started": "2024-08-29T16:50:37.588952Z",
          "shell.execute_reply": "2024-08-29T16:50:37.603676Z"
        },
        "trusted": true,
        "id": "NFwSJ7-r6ste",
        "colab": {
          "base_uri": "https://localhost:8080/",
          "height": 683
        },
        "outputId": "56fcacec-0b34-4432-fa91-b418c27c4c07"
      },
      "execution_count": 24,
      "outputs": [
        {
          "output_type": "execute_result",
          "data": {
            "text/plain": [
              "                                               statement  \\\n",
              "7851   So introduction I guess.. my name is Michael a...   \n",
              "9416   AAAAAAAAAAAAAAAAAAAAAAAAAAAAAAAAAAAAAAAAAAAAAA...   \n",
              "9504   Hello everyone,I rarely post on Reddit but.......   \n",
              "10834  I have only 1 person I can somewhat open to bu...   \n",
              "11537  The title is not meant to discourage others, b...   \n",
              "11581  I no longer know what else to do but write thi...   \n",
              "11636  And has life gotten better?&amp;#x200B;No. Eve...   \n",
              "11831  Sorry this is long but I doubt anyone will eve...   \n",
              "13293  I cannot TAKE IT ANYMORE. I cannot TAKE IT ANY...   \n",
              "18215  I am someone living in Turkey. My age is proba...   \n",
              "21396  will i ever be noticed? is my life worth anyth...   \n",
              "21858  I constantly repeat to myself that I have neve...   \n",
              "22243  I do not expect anyone to read this rambly mes...   \n",
              "22563  I have been thinking about posting online for ...   \n",
              "23820  I need support or encouragement. I (29M) reall...   \n",
              "23845  This is a a vent. I (29M) really do not know w...   \n",
              "39752  it doesn t matter anymore i m going to copy an...   \n",
              "46660  DEPRESSION HAS A PURPOSE: HOW TO USE IT RIGHT ...   \n",
              "51396  Please help me understand what I went through ...   \n",
              "\n",
              "                     status  num_of_characters  num_of_sentences  \n",
              "7851             Depression              10679               136  \n",
              "9416               Suicidal              25302                 1  \n",
              "9504             Depression              11163               139  \n",
              "10834              Suicidal              27390               237  \n",
              "11537            Depression              12304               155  \n",
              "11581            Depression              13530               140  \n",
              "11636            Depression              12819                96  \n",
              "11831            Depression              11122               155  \n",
              "13293              Suicidal              32759              1260  \n",
              "18215              Suicidal              10219               180  \n",
              "21396            Depression              12298               160  \n",
              "21858            Depression              13054               149  \n",
              "22243              Suicidal              12227               118  \n",
              "22563              Suicidal              12028               132  \n",
              "23820            Depression              11111               127  \n",
              "23845              Suicidal              11075               133  \n",
              "39752            Depression              19822                 1  \n",
              "46660               Bipolar              26163               430  \n",
              "51396  Personality disorder              27588               374  "
            ],
            "text/html": [
              "\n",
              "  <div id=\"df-4f757b49-8d87-4a9e-ae84-61b92c332a63\" class=\"colab-df-container\">\n",
              "    <div>\n",
              "<style scoped>\n",
              "    .dataframe tbody tr th:only-of-type {\n",
              "        vertical-align: middle;\n",
              "    }\n",
              "\n",
              "    .dataframe tbody tr th {\n",
              "        vertical-align: top;\n",
              "    }\n",
              "\n",
              "    .dataframe thead th {\n",
              "        text-align: right;\n",
              "    }\n",
              "</style>\n",
              "<table border=\"1\" class=\"dataframe\">\n",
              "  <thead>\n",
              "    <tr style=\"text-align: right;\">\n",
              "      <th></th>\n",
              "      <th>statement</th>\n",
              "      <th>status</th>\n",
              "      <th>num_of_characters</th>\n",
              "      <th>num_of_sentences</th>\n",
              "    </tr>\n",
              "  </thead>\n",
              "  <tbody>\n",
              "    <tr>\n",
              "      <th>7851</th>\n",
              "      <td>So introduction I guess.. my name is Michael a...</td>\n",
              "      <td>Depression</td>\n",
              "      <td>10679</td>\n",
              "      <td>136</td>\n",
              "    </tr>\n",
              "    <tr>\n",
              "      <th>9416</th>\n",
              "      <td>AAAAAAAAAAAAAAAAAAAAAAAAAAAAAAAAAAAAAAAAAAAAAA...</td>\n",
              "      <td>Suicidal</td>\n",
              "      <td>25302</td>\n",
              "      <td>1</td>\n",
              "    </tr>\n",
              "    <tr>\n",
              "      <th>9504</th>\n",
              "      <td>Hello everyone,I rarely post on Reddit but.......</td>\n",
              "      <td>Depression</td>\n",
              "      <td>11163</td>\n",
              "      <td>139</td>\n",
              "    </tr>\n",
              "    <tr>\n",
              "      <th>10834</th>\n",
              "      <td>I have only 1 person I can somewhat open to bu...</td>\n",
              "      <td>Suicidal</td>\n",
              "      <td>27390</td>\n",
              "      <td>237</td>\n",
              "    </tr>\n",
              "    <tr>\n",
              "      <th>11537</th>\n",
              "      <td>The title is not meant to discourage others, b...</td>\n",
              "      <td>Depression</td>\n",
              "      <td>12304</td>\n",
              "      <td>155</td>\n",
              "    </tr>\n",
              "    <tr>\n",
              "      <th>11581</th>\n",
              "      <td>I no longer know what else to do but write thi...</td>\n",
              "      <td>Depression</td>\n",
              "      <td>13530</td>\n",
              "      <td>140</td>\n",
              "    </tr>\n",
              "    <tr>\n",
              "      <th>11636</th>\n",
              "      <td>And has life gotten better?&amp;amp;#x200B;No. Eve...</td>\n",
              "      <td>Depression</td>\n",
              "      <td>12819</td>\n",
              "      <td>96</td>\n",
              "    </tr>\n",
              "    <tr>\n",
              "      <th>11831</th>\n",
              "      <td>Sorry this is long but I doubt anyone will eve...</td>\n",
              "      <td>Depression</td>\n",
              "      <td>11122</td>\n",
              "      <td>155</td>\n",
              "    </tr>\n",
              "    <tr>\n",
              "      <th>13293</th>\n",
              "      <td>I cannot TAKE IT ANYMORE. I cannot TAKE IT ANY...</td>\n",
              "      <td>Suicidal</td>\n",
              "      <td>32759</td>\n",
              "      <td>1260</td>\n",
              "    </tr>\n",
              "    <tr>\n",
              "      <th>18215</th>\n",
              "      <td>I am someone living in Turkey. My age is proba...</td>\n",
              "      <td>Suicidal</td>\n",
              "      <td>10219</td>\n",
              "      <td>180</td>\n",
              "    </tr>\n",
              "    <tr>\n",
              "      <th>21396</th>\n",
              "      <td>will i ever be noticed? is my life worth anyth...</td>\n",
              "      <td>Depression</td>\n",
              "      <td>12298</td>\n",
              "      <td>160</td>\n",
              "    </tr>\n",
              "    <tr>\n",
              "      <th>21858</th>\n",
              "      <td>I constantly repeat to myself that I have neve...</td>\n",
              "      <td>Depression</td>\n",
              "      <td>13054</td>\n",
              "      <td>149</td>\n",
              "    </tr>\n",
              "    <tr>\n",
              "      <th>22243</th>\n",
              "      <td>I do not expect anyone to read this rambly mes...</td>\n",
              "      <td>Suicidal</td>\n",
              "      <td>12227</td>\n",
              "      <td>118</td>\n",
              "    </tr>\n",
              "    <tr>\n",
              "      <th>22563</th>\n",
              "      <td>I have been thinking about posting online for ...</td>\n",
              "      <td>Suicidal</td>\n",
              "      <td>12028</td>\n",
              "      <td>132</td>\n",
              "    </tr>\n",
              "    <tr>\n",
              "      <th>23820</th>\n",
              "      <td>I need support or encouragement. I (29M) reall...</td>\n",
              "      <td>Depression</td>\n",
              "      <td>11111</td>\n",
              "      <td>127</td>\n",
              "    </tr>\n",
              "    <tr>\n",
              "      <th>23845</th>\n",
              "      <td>This is a a vent. I (29M) really do not know w...</td>\n",
              "      <td>Suicidal</td>\n",
              "      <td>11075</td>\n",
              "      <td>133</td>\n",
              "    </tr>\n",
              "    <tr>\n",
              "      <th>39752</th>\n",
              "      <td>it doesn t matter anymore i m going to copy an...</td>\n",
              "      <td>Depression</td>\n",
              "      <td>19822</td>\n",
              "      <td>1</td>\n",
              "    </tr>\n",
              "    <tr>\n",
              "      <th>46660</th>\n",
              "      <td>DEPRESSION HAS A PURPOSE: HOW TO USE IT RIGHT ...</td>\n",
              "      <td>Bipolar</td>\n",
              "      <td>26163</td>\n",
              "      <td>430</td>\n",
              "    </tr>\n",
              "    <tr>\n",
              "      <th>51396</th>\n",
              "      <td>Please help me understand what I went through ...</td>\n",
              "      <td>Personality disorder</td>\n",
              "      <td>27588</td>\n",
              "      <td>374</td>\n",
              "    </tr>\n",
              "  </tbody>\n",
              "</table>\n",
              "</div>\n",
              "    <div class=\"colab-df-buttons\">\n",
              "\n",
              "  <div class=\"colab-df-container\">\n",
              "    <button class=\"colab-df-convert\" onclick=\"convertToInteractive('df-4f757b49-8d87-4a9e-ae84-61b92c332a63')\"\n",
              "            title=\"Convert this dataframe to an interactive table.\"\n",
              "            style=\"display:none;\">\n",
              "\n",
              "  <svg xmlns=\"http://www.w3.org/2000/svg\" height=\"24px\" viewBox=\"0 -960 960 960\">\n",
              "    <path d=\"M120-120v-720h720v720H120Zm60-500h600v-160H180v160Zm220 220h160v-160H400v160Zm0 220h160v-160H400v160ZM180-400h160v-160H180v160Zm440 0h160v-160H620v160ZM180-180h160v-160H180v160Zm440 0h160v-160H620v160Z\"/>\n",
              "  </svg>\n",
              "    </button>\n",
              "\n",
              "  <style>\n",
              "    .colab-df-container {\n",
              "      display:flex;\n",
              "      gap: 12px;\n",
              "    }\n",
              "\n",
              "    .colab-df-convert {\n",
              "      background-color: #E8F0FE;\n",
              "      border: none;\n",
              "      border-radius: 50%;\n",
              "      cursor: pointer;\n",
              "      display: none;\n",
              "      fill: #1967D2;\n",
              "      height: 32px;\n",
              "      padding: 0 0 0 0;\n",
              "      width: 32px;\n",
              "    }\n",
              "\n",
              "    .colab-df-convert:hover {\n",
              "      background-color: #E2EBFA;\n",
              "      box-shadow: 0px 1px 2px rgba(60, 64, 67, 0.3), 0px 1px 3px 1px rgba(60, 64, 67, 0.15);\n",
              "      fill: #174EA6;\n",
              "    }\n",
              "\n",
              "    .colab-df-buttons div {\n",
              "      margin-bottom: 4px;\n",
              "    }\n",
              "\n",
              "    [theme=dark] .colab-df-convert {\n",
              "      background-color: #3B4455;\n",
              "      fill: #D2E3FC;\n",
              "    }\n",
              "\n",
              "    [theme=dark] .colab-df-convert:hover {\n",
              "      background-color: #434B5C;\n",
              "      box-shadow: 0px 1px 3px 1px rgba(0, 0, 0, 0.15);\n",
              "      filter: drop-shadow(0px 1px 2px rgba(0, 0, 0, 0.3));\n",
              "      fill: #FFFFFF;\n",
              "    }\n",
              "  </style>\n",
              "\n",
              "    <script>\n",
              "      const buttonEl =\n",
              "        document.querySelector('#df-4f757b49-8d87-4a9e-ae84-61b92c332a63 button.colab-df-convert');\n",
              "      buttonEl.style.display =\n",
              "        google.colab.kernel.accessAllowed ? 'block' : 'none';\n",
              "\n",
              "      async function convertToInteractive(key) {\n",
              "        const element = document.querySelector('#df-4f757b49-8d87-4a9e-ae84-61b92c332a63');\n",
              "        const dataTable =\n",
              "          await google.colab.kernel.invokeFunction('convertToInteractive',\n",
              "                                                    [key], {});\n",
              "        if (!dataTable) return;\n",
              "\n",
              "        const docLinkHtml = 'Like what you see? Visit the ' +\n",
              "          '<a target=\"_blank\" href=https://colab.research.google.com/notebooks/data_table.ipynb>data table notebook</a>'\n",
              "          + ' to learn more about interactive tables.';\n",
              "        element.innerHTML = '';\n",
              "        dataTable['output_type'] = 'display_data';\n",
              "        await google.colab.output.renderOutput(dataTable, element);\n",
              "        const docLink = document.createElement('div');\n",
              "        docLink.innerHTML = docLinkHtml;\n",
              "        element.appendChild(docLink);\n",
              "      }\n",
              "    </script>\n",
              "  </div>\n",
              "\n",
              "\n",
              "<div id=\"df-b721dc78-bd00-4400-9bc2-2524ac0872c3\">\n",
              "  <button class=\"colab-df-quickchart\" onclick=\"quickchart('df-b721dc78-bd00-4400-9bc2-2524ac0872c3')\"\n",
              "            title=\"Suggest charts\"\n",
              "            style=\"display:none;\">\n",
              "\n",
              "<svg xmlns=\"http://www.w3.org/2000/svg\" height=\"24px\"viewBox=\"0 0 24 24\"\n",
              "     width=\"24px\">\n",
              "    <g>\n",
              "        <path d=\"M19 3H5c-1.1 0-2 .9-2 2v14c0 1.1.9 2 2 2h14c1.1 0 2-.9 2-2V5c0-1.1-.9-2-2-2zM9 17H7v-7h2v7zm4 0h-2V7h2v10zm4 0h-2v-4h2v4z\"/>\n",
              "    </g>\n",
              "</svg>\n",
              "  </button>\n",
              "\n",
              "<style>\n",
              "  .colab-df-quickchart {\n",
              "      --bg-color: #E8F0FE;\n",
              "      --fill-color: #1967D2;\n",
              "      --hover-bg-color: #E2EBFA;\n",
              "      --hover-fill-color: #174EA6;\n",
              "      --disabled-fill-color: #AAA;\n",
              "      --disabled-bg-color: #DDD;\n",
              "  }\n",
              "\n",
              "  [theme=dark] .colab-df-quickchart {\n",
              "      --bg-color: #3B4455;\n",
              "      --fill-color: #D2E3FC;\n",
              "      --hover-bg-color: #434B5C;\n",
              "      --hover-fill-color: #FFFFFF;\n",
              "      --disabled-bg-color: #3B4455;\n",
              "      --disabled-fill-color: #666;\n",
              "  }\n",
              "\n",
              "  .colab-df-quickchart {\n",
              "    background-color: var(--bg-color);\n",
              "    border: none;\n",
              "    border-radius: 50%;\n",
              "    cursor: pointer;\n",
              "    display: none;\n",
              "    fill: var(--fill-color);\n",
              "    height: 32px;\n",
              "    padding: 0;\n",
              "    width: 32px;\n",
              "  }\n",
              "\n",
              "  .colab-df-quickchart:hover {\n",
              "    background-color: var(--hover-bg-color);\n",
              "    box-shadow: 0 1px 2px rgba(60, 64, 67, 0.3), 0 1px 3px 1px rgba(60, 64, 67, 0.15);\n",
              "    fill: var(--button-hover-fill-color);\n",
              "  }\n",
              "\n",
              "  .colab-df-quickchart-complete:disabled,\n",
              "  .colab-df-quickchart-complete:disabled:hover {\n",
              "    background-color: var(--disabled-bg-color);\n",
              "    fill: var(--disabled-fill-color);\n",
              "    box-shadow: none;\n",
              "  }\n",
              "\n",
              "  .colab-df-spinner {\n",
              "    border: 2px solid var(--fill-color);\n",
              "    border-color: transparent;\n",
              "    border-bottom-color: var(--fill-color);\n",
              "    animation:\n",
              "      spin 1s steps(1) infinite;\n",
              "  }\n",
              "\n",
              "  @keyframes spin {\n",
              "    0% {\n",
              "      border-color: transparent;\n",
              "      border-bottom-color: var(--fill-color);\n",
              "      border-left-color: var(--fill-color);\n",
              "    }\n",
              "    20% {\n",
              "      border-color: transparent;\n",
              "      border-left-color: var(--fill-color);\n",
              "      border-top-color: var(--fill-color);\n",
              "    }\n",
              "    30% {\n",
              "      border-color: transparent;\n",
              "      border-left-color: var(--fill-color);\n",
              "      border-top-color: var(--fill-color);\n",
              "      border-right-color: var(--fill-color);\n",
              "    }\n",
              "    40% {\n",
              "      border-color: transparent;\n",
              "      border-right-color: var(--fill-color);\n",
              "      border-top-color: var(--fill-color);\n",
              "    }\n",
              "    60% {\n",
              "      border-color: transparent;\n",
              "      border-right-color: var(--fill-color);\n",
              "    }\n",
              "    80% {\n",
              "      border-color: transparent;\n",
              "      border-right-color: var(--fill-color);\n",
              "      border-bottom-color: var(--fill-color);\n",
              "    }\n",
              "    90% {\n",
              "      border-color: transparent;\n",
              "      border-bottom-color: var(--fill-color);\n",
              "    }\n",
              "  }\n",
              "</style>\n",
              "\n",
              "  <script>\n",
              "    async function quickchart(key) {\n",
              "      const quickchartButtonEl =\n",
              "        document.querySelector('#' + key + ' button');\n",
              "      quickchartButtonEl.disabled = true;  // To prevent multiple clicks.\n",
              "      quickchartButtonEl.classList.add('colab-df-spinner');\n",
              "      try {\n",
              "        const charts = await google.colab.kernel.invokeFunction(\n",
              "            'suggestCharts', [key], {});\n",
              "      } catch (error) {\n",
              "        console.error('Error during call to suggestCharts:', error);\n",
              "      }\n",
              "      quickchartButtonEl.classList.remove('colab-df-spinner');\n",
              "      quickchartButtonEl.classList.add('colab-df-quickchart-complete');\n",
              "    }\n",
              "    (() => {\n",
              "      let quickchartButtonEl =\n",
              "        document.querySelector('#df-b721dc78-bd00-4400-9bc2-2524ac0872c3 button');\n",
              "      quickchartButtonEl.style.display =\n",
              "        google.colab.kernel.accessAllowed ? 'block' : 'none';\n",
              "    })();\n",
              "  </script>\n",
              "</div>\n",
              "\n",
              "    </div>\n",
              "  </div>\n"
            ],
            "application/vnd.google.colaboratory.intrinsic+json": {
              "type": "dataframe",
              "summary": "{\n  \"name\": \"df[df['num_of_characters'] > 10000]\",\n  \"rows\": 19,\n  \"fields\": [\n    {\n      \"column\": \"statement\",\n      \"properties\": {\n        \"dtype\": \"string\",\n        \"num_unique_values\": 19,\n        \"samples\": [\n          \"So introduction I guess.. my name is Michael and I am 20 yo. I live in Slovakia though I would be surprised if anybody knew where that is located. And I am struggling with..I do not know maybe deppresion?The problems started like long time ago back when I was still a child. My mum hated the fuck out of my dad and for some reason my dad hated her too. My dad is like the typical stereotype guy who thinks that woman should be in kitchen taking care of her husband. He was and still is to be honest addicted to alcohol. I remember when I was a child and my mum had to go away for a couple of days that everytime my dad stepped through front door I prayed to god because I was always afraid that he arrives drunk again. I was so genuinely happy when he did not and I always hid in my closet when he did. In school I was not very popular. I am the kind of guy who thinks that if you have the means, if you have the option and ability to help somebody you should by all means do that. Of course people tend to take advantage of that. Everytime they needed something I would do it eventhough if it meant that I had to spent 4 hours doing their homework or writing an essay. Of course I was bullied too when they did not need me because why the fuck not right I deserved that. I did not have a single true friend everybody I considered to be my friends they insulted me and humilliated me most of the time and I did not like it. I was so alone that I just decided that I had to have a friend. And that is when my schizophrenia probably started.I made myself a friend. He is called Martin Ladec I even created him a facebook account so I could chat with him because I had always wanted to have friend that I could chat with on facebook. Everytime I was alone I talked to him. My imaginary best friend. It all started like nothing too serious every conversation I had with him always played in my head like I only imagined that I was talking to him because I had known that he was not real. But then I started talking out loud to him.. It just went like this I do not really know how to explain it properly. I just sat on the ground and started crying and telling him how I was feeling but after I was done talking I got up smiled at the spot where I had been crying and tried to reassure the spot you know like if I was Martin cheering up Michael. After some time I got better but then I started hearing voices it was around 8th or 9th grade. They were telling me how pitiful I was, that I should kill myself that everybody hated me. I started to feel really deppressed and it was not helping when the actual people were telling me how pitiful I am and how they hated me. So at the end of elementary school my mind was shattered like glass into so many parts. Part that wants to kill me, other part who argues with the first part and telling me to live, Martin and myself.Then the high school came and I found new friends..like true friends. I liked them so much and they seemed to like me too. There was this particular guy that I enjoyed spending my time with we had so much in common. He loved the same type of music I did, movies, TV series and so on. Of course I had fallen in love with him. I did not even realized that I was gay but when I did I just went along with it. But I loved and still I love him so much..I guess I was really obsessed with him. I was jealous everytime he went out with somebody else ( of course i did not tell him I am not dumb I knew it would ruin everything) I was thinking of him everytime I went to bed and everytime I woke up. He had a best friend, our classmate, and the three of us started hanging out a lot. It got to a point when we had like really deep shit conversation and I remember that the other guy ( not the one I love ) told me ( because he could see that I had been struggling ) : ,,The stupidest thing that a person can do when he has some problems is that he never tells anyone about those problems. Talk about it.\\\" and then the guy I loved said : ,,We are telling everything to each other. Tell us.\\\" And I told them because I believed in them. I told them about the voices and about Martin and everything. It went fine it seemed they believed me but of course.. shit had to get worse. ( for the sake of this the guy I love is : T and his best friend is : S)At one point I do not know what happened but S accused me of lying. He said that nothing that happened to me never really happened to me and that I like the attention I am getting because of that and I just want people to pity me. He told other guys in my class and so I became the guy who is constantly lying, exaggerating and deppressed. I never stopped talking to them though. I understood that this shit is really hard to believe. T was still my number 1 friend because he seemed that he still believed me. I started to love him even more. I have always had money I did not even know how. From insurance, when my grandma and aunt died and what they left me. So always when I needed or wanted something I had it. And he did not have the luck he had like no money. Like he was not poor or anything but when he wanted Converse for example he could not afford. And I felt selfish because I had the money and he did not so I felt like it would be really selfish of me not to buy things for him. I bought him those. And trousers. And jackets. And games on ps4 ( which by the waay I bought just so I could play with him ). I remember that once he told me how much he dreamed of getting a new computer but his mum did not let him have it. So I literally started building my own new pc for 600 eventhough the one I currently had was completely fine. The old one I had cost me around 500. I told I am that I had built myself a new pc so I can give him my old one. For free. And I did. I literally spent on him around 600 because I gave him my monitor because he did not have one and I had to buy myself a new one. And I still was so happy when I bought those things for him and gave those things to him. I loved him so much like this is probably the true love you know.Then last year came and it all went to shit. It was my last year on my school and we had a party the entire class after Stukova. ( Stukova is like the Ball you have in last year of high school. After Stukova you have Dozvuky where all students just drink a lot ). S dated my classmate but they broke up before Dozvuky. I was really good friend with S' ex at that time. I am not going to explain what happened exactly this post is long enough even without those details but basically S \\\" fooled around \\\" with two girls. Two girls his ex hated the most. She was really sad and I was talking to her the entire time. After Dozvuky and everything I met him and he told me that I really fucked up. He told me that I disgust him and if I feel hurt that I deserve it. He blamed me for something I did not do. He did not want me to explain to him and he stopped talking to me. In the same week every guy from our class stopped talking to me including T and I realized that he told them his version and they all feel same as him about me. It could not come in worse moment. I was feeling during this time deppressed a lot. I had a friend ( M ) She was like my best friend after S and T. She knew that I was gay and she knew that I loved T. Still she fooled around with him when we had parties. When I was there. 3 times. Everytime she did it she told me that she was sorry and promised me she would never do it again. And she did it two more times. One time i was in the same bed as T and M and they started making out next to me. It was the worst feeling ever because I loved him so much and she knew and still she did it. I was heartbroken and defeated and I started cutting myself. And then S dumped me because of the misunderstanding and every guy dumped me and I was alone again. Fortunately I am not that stupid and I realized that I coudln't continue like this. I am proud of myself that I realized that I need professional help because most people cannot do it.So I started looking for a psychologist at first.Someone to talk to. I tried 9 different ones. And they all told me the same thing. Only time can help. I did the Rorschach test numerous times and still they were not able to find anything wrong with me eventhough my every goddamn answer was really deppressing, negative and not positive at all. I cut myself. I hear voices telling me that I should kill myself or the ones that hurt me. I created an imaginary friend. For fuck sake even I as a patient was able to realize that something is a bit fucking fishy about me. They did not help. One psychologist even tried to touch my thigh. So that much for proffessional help. So I started looking for a psychiatrist . I told him the same story and he gave me pills. Arisppa. It did not help. The best part is that I told him that I had told S about my voices and stuff and how I hurt felt when he did not believe me and accused me of being a drama queen and guess what did the fucking psychiatrist asked? \\\" Michael, are you telling me the truth? Do you really hear the voices or have you made this all up just to skip school or be different? To let people pity you?\\\" Is this even possible in modern world? in which fucking dimension would sane psychiatrist ask such a dumb question? I snapped and I started laughing hysterically after that. I was laughing at my place for good 3 hours and then I started crying. And laughing after that. Some people just insult those who kill themselves and say that it is selfish decision. I totally understand suicide now. I have problems I accept that. I wanted help I desperatelly needed help but everything is against me. In this world if you are not selfish bastard you cannot be happy. This world is not made for people like me. it is really easy to say that \\\" get some help\\\" because apparently nobody can help. Like I do not even know if anybody is going to read this or not. But if some lost sould read this entire novel to the end just wanted to let you know that do not worry I promise I WILL NOT kill myself. I tried sure but I am not strong enough to do that. Besides my paranoid me thinks that it would make other guys happy and I do not want to give them this satisfaction.Honestly I do not know what I expected from this. I do not know if I want your help because I know you cannot help me. But I tried everything. Psychologists, psychiatrists, telling friends, group therapies, fucking taiwan mantras to calm my mind, tropical teas and herbs to soothe my mind. Nothing worked so I just thought fuck it let us give it a shot. Maybe miracle will happen. do not know what else to do so I just leave it up here\",\n          \"I no longer know what else to do but write this. I am not even sure what I expect to come of it except for hopefully support and sympathy and trying to see light at the end of this dark tunnel. I will preface this quickly with the fact that I am generally a very happy person, but I feel so defeated I do not know where else to turn. I have been with one woman the past 9 years of my life, and I am only 26. We have an immense story together over all that time, but I think like any person in my position, I thought we were going to last forever. We even share a kiddo together.When I learned she was pregnant, I really started to get my life together. We got married too around this time. I was working whatever jobs I possibly could, and I was always taking the next step forward to provide for my family. After about 2 years, and wanting more out of life, I overextended into a career I was not ready for. I made a few \\\"mistakes\\\" in their eyes and they politely asked me to leave. I was really devastated by this because it was a career I had put a lot of time and research into only for it to fall flat. Nevertheless, I pushed forward, and with constant strain from my wife's side of the family, I decided to move my family to my home state with the help of my side of the family. Things were no fairy tale, however. Our living situation was very bad, especially with a kiddo. Again, I started working, and only thanks to my best friend willing to let us stay in his home were we able to salvage the situation. For the first time in our relationship and marriage, my wife got a job with me while my mom watched our kiddo. We worked very hard together, and I cherish those memories a lot. I think due to all of the stress, we both decided to start smoking weed. I think she was 24, and I was 22 at the time. We were a very straight edge couple before then. Anyway, after about 3 months, we were back on our feet, but once we had our own place again and bills to pay, the financial strain started to hit again even with us both working. Mostly because of the long drive to get work and very little hours. I asked our boss for a raise and she said no, despite us working there for 6 months and always going above and beyond what was asked of us while others slacked, slept on the job, and had us covering their messes. We quit promptly, and afraid of losing our situation again, I uttered the words: \\\"If I have to work fast food, I will.\\\" Well, I ate those words quickly. With no other job prospects in sight, I literally had to work at a fast food restaurant up the street despite all my prior work experience. I hated it at first. My wife and I played a lot of video games together, and in an attempt to better ourselves we started livestreaming. We had mild success together, but it was not enough to pay the bills. The thought of coming home to livestream after my horrid job was the only thing pushing me through. Once again with this job, I would actually run the entire restaurant with maybe just one other person while the managers would sit in the back. I did dishes, cleaned disgusting grease traps over and over, cooked all the food at the highest quality, and trained new members because people would quit left and right. I did this for about 6 months praying that our livestreaming would pay any sort of dividend. Despite the immense effort we had put into building a quality livestream and building a community, we just could not get it off the ground. I started heavily abusing marijuana because I felt so lost, and it made me feel good even when things were not good. I think with being the age I was, and the drug use, I started to experience a severe break in my mental health. Therapy resolved the issues almost entirely, but I did do pretty severe damage to my family as a whole while they carried me through that low point. No meds, no more weed, and I was back on track. Just to add a little more to that last section of the story too, I was really banking on being a popular enough streamer to get by in life. There was not anything else I wanted to do. However, smoking weed did open my mind to the thought of making music. When our streams would end unsuccessfully, I would get high, and stay awake another 4 hours or so into the night and write music even though I had never done such a thing my entire life. The music was pretty bad, but it was entertaining enough to keep me distracted while I tried to escape my struggles. I tried to become a manager at the restaurant, but somebody else always got promoted before me. Even people working there for 2 weeks were on the path to becoming a manager before I was. I did mention a lot that I was more interested in livestreaming or music panning out for me than I was working as a manager, but the thing was that I was literally doing the entire job anyway in hindsight. When I made an actual shot at it, I was told no. We had the worst skeleton crew you could ever imagine. Frustrated, I quit the restaurant, I quit livestreaming, I quit gaming, and actually caught a break getting a new sales job with an unlimited earning potential. I was still writing music as sort of a gag to show my friends and express my creativity. The sales job was a major blessing, but I sucked very bad at it. Every single person told me they were not interested in the product I was supposed to be selling. My sales manager actually commented about never seeing someone quite as bad as me at sales. It hurt me a lot, but I figured it just was not for me despite how much I loved the thrill of talking to people so directly and trying to get them excited about a product. I tried 2 sales jobs, and eventually found a chill job doing security work. I never forgot what I learned from my sales jobs. With all the time to think about my future at my new job, I finally decided to give my music career a real go. I would actually produce music on an old laptop in my car at the worksite. I had worked in almost every industry besides automotive and medical so I really did not know what else to try. This is where it all gets very interesting. My security job was reasonably getting my family by while I did this whole music thing. With the combination of all the things I had learned in the past, music was actually my greatest tool in the end. It helped me sell myself as a person to get the things I wanted. My music never spread the way I saw some others did. Millions of plays, thousands of plays, hell, I was lucky to even get 20 plays. It did not matter. I could show people my songs, socialize, and get everything I really wanted which was to be heard. I cannot express how much life was getting exponentially better day by day. I was so confident that my music was just one good ear away from either going viral or helping me to my next big opportunity. Naturally, with my charisma growing, my marriage getting stronger, and really selling myself as a true rockstar, I was ready to take things to the next level. My wife had discovered her bisexuality over the course of this time since starting to smoke weed. We talked about having experiences with other women, but as I am sure any person knows, it is difficult to swing getting lucky with one person, let alone two at the same time. I saw it as a good challenge, but never expected it to work. After a solid year at my security job, I had produced so much music. I loved every single song so much, and still I was not able to really turn a profit on anything. I did have one song reach 100,000 plays, but it hardly translated into any traction as far as followers or return listeners. To reiterate, I was more focused on how I could use music as a tool to gain the interest of another woman in my life rather than money. I met many different women, had wonderful experiences, but my wife and I really wanted to be with someone the way we were with each other. Long term, committed, etc. Before long, we actually had attracted someone. We talked for about a month, and made things official. We were all dating as a \\\"triad.\\\" If you could not guess, as a man, living like this was heaven on Earth. I even found a job in this automotive parts factory making great money while I worked on my next huge musical project. Unfortunately, dating like this with all the new emotions really tore me up at times. I experienced a lot of jealousy while I provided on the job side of things while my girlfriend and wife stayed at home. My mental health broke down again for the first time in years, and out of paranoia, I broke up with my girlfriend. She was pissed at me, and did not take being broken up with lightly. I regretted my decision within days, and begged her to come back. She declined over and over. My wife and her kept seeing each other while I worked, and I mostly found it fair just because of the mistakes I had made. I was determined to show my girlfriend that I still loved her and make amends. I leveraged my factory work into an even better factory job making more money and with one of the most solid companies nationwide. I drastically improved myself as a person, and I even found a confidence being \\\"alone\\\" like never before. My wife actually missed the 3 of us being together just as much as I did, and then she convinced my ex-girlfriend to give me another chance. To celebrate, I took them on a vacation to a beautiful beach condominium. We all grew closer, and I even decided to try smoking weed again with my ladies after being sober for like 2 years. I had never been so high in my entire life, I was literally shaking and could barely even use the microwave to make myself food. It felt like the most earned vacation of a lifetime even in my own head. I had an extremely pleasant thought that was something like: \\\"Wow, I am really just a normal guy with nobody coming after me to hurt me being like this. I can just live my life and enjoy this heaven forever.\\\" Our relationships peaked so hard here. I was actually in heaven, with only a little paranoia of my nontraditional dating habits coming back to bite me in some way. Great money, 2 beautiful women, my credit was building to buy a house, and a new album ready to be dropped on the horizons. With my relationships settled, the only thing I was really suffering in was the typical 9-5 work in a factory which had nothing to do with the career I actually wanted: music. With a sizable savings to give my music all the promotion, hard work, and love it really needed, I quit my factory job. I told my ladies, and they were very apprehensive. This is where things take a drastic turn for the worst. Little did I know, my chicks were still actually having some issues regarding the whole relationship. It came in a way I could have least expected. My wife, the person I had been through thick and thin with for 9 years, came out as being fully gay. It makes my stomach turn to even think about how they sat me on the bed to tell me that. I thought I had done something wrong to mess things up, or they were mad about the job, but no. It was something entirely out of my control. My girlfriend looked at me with sorrow because she knew it meant it was over for us too even though we had just fixed things. I wrote the song \\\"Mistakes Are Lessons\\\" as the final flex that despite not making a mainstream appearance, I was living the life that every dude on Earth could have dreamed of. The beat came first, but I did not finish the 2nd half of the lyrics until I had been broken up with which is why they are kind of somber sounding. I am now going through a divorce, I am unemployed, and despite searching for a job, I cannot find one. Even if I could, I am almost completely spent as a person. I had a short run going back to school thinking I wanted to be a doctor, but after studying biology, it really just hammered into me more that I need to pursue my passion of music. The only energy I have left to give this world is my music and my story. I am scared writing this because at the moment I have $24 in my bank account. I have never reached such a rock bottom in my life. The hardest, most depressing thought of my life is returning to the typical work grind where I have to hide my real personality. People always made me feel like I had to live and experience things to create great music, so that is what I went and did. I know there is still more experiences to be had, but I feel like I have learned lessons no man my age should know. I have gone from living in heaven to feeling like a slug. I do not know what else to do. Believe it or not, there is so many details I left out of this story I would love to tell, but it is already long enough as is. On a happy note, I ended up in a long distance relationship with an amazing friend that I actually had been telling my life story to for months on end. She did not care about my past, and she was actually the first person to ever describe my music as \\\"beautiful.\\\" I really do try and make it that way sometimes, and she saw that. I have never loved someone as much as her. All I want out of life at this point is to tell my stories, listen to music, create music, perform music, and still be financially sound. that is really the whole baseline of this story too. I have been chasing financial freedom for years trying different things only to be taken advantage of time and time again. I just do not know if I can do it anymore. Being in this situation makes me feel like a failure as a Dad, a failure as a musician, and a failure as a person. Will I ever be enough? Financial Freedom\",\n          \"I constantly repeat to myself that I have never really been given a fighting chance. Quite honestly all the odds are against me and I have spent so long fighting and I am just tired. I grew up with abusive parents, I am mixed so my mom is a stereotypical Chinese mom. She was brutal in ways a lot of daughters of immigrant parents can relate to, physically, mentally, emotionally. She challenged me a lot academically, I started playing piano when I was 3 I was in advanced tutoring, ballet, I never really got a chance to be a kid. My dad on the other hand is something else, hes significantly older than my mom. He had a failed marriage and I was raised along my half sisters, I watched them get treated awfully by him until their mom took them away. That caused me to have a lot of abandonment issues. My dad is not a good person. Hes very religious and abuses it. He raised me teaching me I am an object, to fulfill male desire and pleasure and to create children. I was taught about purity and how my destiny is to make my husband happy, save my body for him and create children. These teachings began when I was old enough to comprehend and continue even now. Its traumatizing and this has caused me to develop sexual triggers concerning my anxiety and OCD diagnoses. Its made iy impossible for me to have healthy relationships, or have sex. I feel like my body and my heart are broken. It does not help that he sexualized me significantly while also teaching me to hate my body. It confused me. he would hit me a lot, but he would do it while saying he loved me. I am just really confused. I was under a lot of pressure in every area, my parents are successful business people they trained me to adhere to productivity culture. they would always tell me I am on my own and need to learn to work. When I was 10 I got severely ill. Auto immune disease. It was very severe and I was practically living in hospitals until I was 14. I could not go to school, I lost the majority of my friends. I had tried extreme diets, chemotherapy, steroids, I had a feeding type for two years, and ultimately had a surgery to remove an organ. During the times I was really sick the abuse and mistreatment would stop and as sick as it sounds Id almost be thankful for being unwell so I would not be hurt so badly. My illness made me so mad though. Ever since I was 8 Id tell myself every day 10 more years you can run away you will be out of here you will be independent just make it to 18 my illness resulted in a physical disability and since its autoimmune I live with the fear iy could come back at any time now I am forever dependent on my parents for money and health insurance and I can never be free from them. I am so angry about this, all I ever wanted was to be free and that caused me to not be. I am interested in psychology I read a lot of research surrounding trauma and I know very well that my illness could be a direct because of the abuse. I guess my soul just could not take it, I feel weak. Every time Id get better the abuse would begin again. we have had cps visits, lots of people are concerned. My parents made up a lie I have autism so when teachers or health care providers are worried about how anxious I am amongst other signs of abuse they have something to cover it up with. They say they have always suspected me to have autism they try to convince me to fake certain traits when they take me in for testing. I know better and I know what its all about. I feel like a lot of people failed me. Eventually when I got smart enough to get help on my own my parents told me of how my illness can come at any time and if I were to leave and go to foster care they would not be able to help me get the best medical care. And at times I need constant medical care. A really difficult situation as you can see. Before I could tell myself 18 and I am gone and all of a sudden I did not even know if that is possible anymore. Eventually I got better do go surgery and I was able to be fully normal again I went back to school made a lot of friends and developed a plan to become financially stable by the time I am 18. I was not allowed to go out hardly ever, while I was sick I could never leave home and they would punish me in ways such as taking away electronics, wifi, books etc. so Id be forced to be in a room with no distractions at all. I knew these punishments could come back so I had to think smart. I began building a persona and platform online through different social media platforms. I marketed myself as a teen creator, photography, fashion etc. like an influencer basically. More than anything I value my privacy and I know how sad my life is so I hated portraying a happy teenager online I never wanted to be influencer I just wanted a platform so when the time came I could use it to create a business. Over time I built a big platform I was featured in publications I had brand deals I was even invited to prestigious events. This did not result in much money, just experience. you would think Id be proud of my accomplishments but I am not at all. I regret it more than anything, I hated being a 15 year old essentially selling myself like a product online. Getting myself into situations and events filled with adults. I feel embarrassed for all the danger I put myself in online. I wish I could have still been able to be a kid. I kept pushing and pushing myself, my new endeavor was writing a book about my experiences as a teen influencer and my illness and such. I should not have done this. I spent a year doing this, it was essentially shadow work. By the end of it I realized how sad my life was, how all of this was not the result of passion or ambition just a desperate attempt of freedom. As a teenager I was never allowed to drive. I am turning 18 in a few days I still cannot drive. I cannot go anywhere without permission if I try to leave my house my parents call the cops on me which incites a panic attack. They know this and claim my panic attacks are of a mentally unstable person needing to go to a psyche ward. Everyone I know tells me I remind them of Britney Spears, its sad. When covid quarantine was announced it was the worst day of my life. No one understood why I was freaking out so much, they did not realize that all my life I had been subject to extreme lockdowns. Not being able to leave my house being stuck with them, I knew what it was like to never leave the house a house filled with so much awfulness. It was happening again. I had already realized how I wanted to step away from my online platform after realizing the real reason I did all of this. My parents are high risk as well as me so they went extreme for quarantine. Since March 2020 up until may 2021 I was being held captive in my home. We had security systems set with a password only my mom knew, I could never leave. If I left my room I risk having a panic attack or being yelled at ao I stayed in my room for almost a year with no other human contact. all I had was social media this is awful for mental health and I am now left with severe depression anxiety and ocd. I had a boyfriend at the time, he was my first love, my everything really. We started dating a year before lockdown we only got serious a few months prior though. To say he was a miracle in my life is an understatement. Before him I did not even know what love was or how I deserved to be treated, I had no idea what normal human kind interactions of love were, I had not even been able to cry for 5 years. He opened my heart up he helped me understand all that had happened to me and how it was not my fault. He knew how much I went through and how much I was going through he put his life on hold to help me feel as comfortable as I could while I was stuck in the house. he would stay on the phone with me every day, he would plan virtual movie dates, he would write me letters, he would stay on the phone while I napped or slept to make sure I did not have nightmares, he would drop off gifts and food for me. (Lockdown meant everyone working from home in my house and all food and grocerys delivered, it was intense. For a year and a half.) during this time my friends all grew up, they are indecent now and although I still have close friends we drifted. My boyfriend was the only one who stayed by me helping me with everything. This time period caused me to decline mentally a lot, I took out all my anger at him, I was so mean to him Id yell at him. I have ocd and because it is triggered by my fathers teachings it can make me think I do not love my boyfriend or it can make me think he has hurt me physically/sexually/mentally etc. Id take out all my frustration on him. I was not a good girlfriend. He stayed by me though so patient never yelled never fought back he treated me with all the kindness I could have hoped to have when I was young. He knew how much I had been hurt and was still being hurt so he started working jobs to save up money to get me out once I turn 18, he contacted family to help him and help me. I felt guilty, him giving up his future for me. But he really did love me, he just wanted me to be happy and be there to see it. He knew about my disability and sickness he would help take care of me too. In January a lot of family issues arose, tragedies and death. I started spiraling then I was overwhelmed unbelievably overwhelmed I do not know exactly what happened a depressive episode maybe, manic episode I do not know. I broke up with my boyfriend out of no where. A mix of the guilt and just idk, I knew it was a mistake he was the only good thing in my life and my way out of this family but I broke up with him. Its been 7 months we talk every day I want him back I tell him that but I hurt him so much I gave up on him when he never gave up on me. Its too late for anything now, hes back on track with a new career plan and hes doing amazing. I am not. After I broke up with him I launched a online business reading astrological charts for people, I made an insane amount of money utilizing my social platforms. It robbed me of the passion I had for my hobby with astrology though, really burned me out. During quarantine to pass time I also became a certified doula. Youngest to become one from the program I trained with. I have no patience I worked day and night to create my business materials and it failed, never got work except for birth fetishizers that scammed me into talking about birth with them. Sick, traumatizing. This episode I had caused me to shut off emotion, I was unhinged just working my ass off just like before I met my boyfriend investing all my energy into work. Then I had a wake up call, realized how unhappy and miserable I am having to conform to hustle entrepreneurial ship culture just for freedom. I want to drive, I want to get a job outside. I want to go to school. I do not want this I do not want this at all. I am allowed to go out now, but every time I do I get panic attacks. Being in isolation for so long causes you to get overwhelm very easily. I can hardly function. My friends are all going to college now, I wanted to take a gap year to heal but I still have no independence. I lost it all I lost everything or maybe I just had nothing to begin with. My birthday is in a week. I get something I call birthday blues every birthday I feel so depressed and borderline suicidal. Most of my birthdays in my childhood were traumatic, it would be a peak day of abuse and such so now every birthday I just wish I was dead. This one is going to be the worse. I spent my whole life looking forward to turning 18. It was going to be the day I am free. Its not anymore. That was my only goal I told myself this every day ever single fucking day and now I am turning 18 with absolutely nothing. Nothing. I have nothing. I fought for this long and for what. For absolutely nothing. I thought last year would be my worst birthday. My then boyfriend knew I would not be allowed out even if its just outside to say hi. So he created a big surprise for me full of my favorite things and left it outside for me all I wanted to do was bring it in and get my flowers and balloons. I love flowers and balloons and I realized a new security system had been set and I was now completely trapped in the house. My dad was crowding around me he scares me a lot I have not talked to him in over a year I cannot without panicking. Hes scary. I ran to my room and sobbed all I wanted was to get my flowers and balloons. I locked myself in my room and cried all day, just like every year. My boyfriend was on the phone though. he would sing to me and tell me stories to help calm me down. Hes not here anymore and no one else is either. My friends are all living their own grown up lives now. Its just me now. And I told myself for years that all I had to do was turn 18 and it would be over. Now its worse than ever. I feel hopeless, I have never been happy in my life, I live in isolation, I feel like I am being held captive. I have lost everything. I never had anything to begin with.\"\n        ],\n        \"semantic_type\": \"\",\n        \"description\": \"\"\n      }\n    },\n    {\n      \"column\": \"status\",\n      \"properties\": {\n        \"dtype\": \"category\",\n        \"num_unique_values\": 4,\n        \"samples\": [\n          \"Suicidal\",\n          \"Personality disorder\",\n          \"Depression\"\n        ],\n        \"semantic_type\": \"\",\n        \"description\": \"\"\n      }\n    },\n    {\n      \"column\": \"num_of_characters\",\n      \"properties\": {\n        \"dtype\": \"number\",\n        \"std\": 7396,\n        \"min\": 10219,\n        \"max\": 32759,\n        \"num_unique_values\": 19,\n        \"samples\": [\n          10679,\n          13530,\n          13054\n        ],\n        \"semantic_type\": \"\",\n        \"description\": \"\"\n      }\n    },\n    {\n      \"column\": \"num_of_sentences\",\n      \"properties\": {\n        \"dtype\": \"number\",\n        \"std\": 272,\n        \"min\": 1,\n        \"max\": 1260,\n        \"num_unique_values\": 17,\n        \"samples\": [\n          136,\n          1,\n          140\n        ],\n        \"semantic_type\": \"\",\n        \"description\": \"\"\n      }\n    }\n  ]\n}"
            }
          },
          "metadata": {},
          "execution_count": 24
        }
      ]
    },
    {
      "cell_type": "markdown",
      "source": [
        "<a id=\"preprocessing\"></a>\n",
        "# <div style=\"text-align:center; border-radius:30px 30px; padding:9px; color:white; margin:0; font-size:110%; font-family:Arial; background-color:#419D78; overflow:hidden\"><b> 3. Text Preprocessing </b></div>"
      ],
      "metadata": {
        "id": "40svYILc6ste"
      }
    },
    {
      "cell_type": "markdown",
      "source": [
        "## 3.1. Lowercasing"
      ],
      "metadata": {
        "id": "u_ZYkCUz6ste"
      }
    },
    {
      "cell_type": "markdown",
      "source": [
        "Convert all statements to lowercase to ensure uniformity."
      ],
      "metadata": {
        "id": "Bo2WmQBf6ste"
      }
    },
    {
      "cell_type": "code",
      "source": [
        "df.rename(columns={'statement': 'original_statement'}, inplace=True)\n",
        "\n",
        "df['statement']=df['original_statement'].str.lower()\n",
        "df.head()"
      ],
      "metadata": {
        "execution": {
          "iopub.status.busy": "2024-08-29T16:50:37.606186Z",
          "iopub.execute_input": "2024-08-29T16:50:37.606539Z",
          "iopub.status.idle": "2024-08-29T16:50:37.730778Z",
          "shell.execute_reply.started": "2024-08-29T16:50:37.606482Z",
          "shell.execute_reply": "2024-08-29T16:50:37.729856Z"
        },
        "trusted": true,
        "id": "rRszfccZ6stf",
        "colab": {
          "base_uri": "https://localhost:8080/",
          "height": 276
        },
        "outputId": "466faaa9-0ea2-4be7-d282-a58ffea9f9cd"
      },
      "execution_count": 25,
      "outputs": [
        {
          "output_type": "execute_result",
          "data": {
            "text/plain": [
              "                                  original_statement   status  \\\n",
              "0                                         oh my gosh  Anxiety   \n",
              "1  trouble sleeping, confused mind, restless hear...  Anxiety   \n",
              "2  All wrong, back off dear, forward doubt. Stay ...  Anxiety   \n",
              "3  I've shifted my focus to something else but I'...  Anxiety   \n",
              "4  I'm restless and restless, it's been a month n...  Anxiety   \n",
              "\n",
              "   num_of_characters  num_of_sentences  \\\n",
              "0                 10                 1   \n",
              "1                 64                 2   \n",
              "2                 78                 2   \n",
              "3                 61                 1   \n",
              "4                 72                 2   \n",
              "\n",
              "                                           statement  \n",
              "0                                         oh my gosh  \n",
              "1  trouble sleeping, confused mind, restless hear...  \n",
              "2  all wrong, back off dear, forward doubt. stay ...  \n",
              "3  i've shifted my focus to something else but i'...  \n",
              "4  i'm restless and restless, it's been a month n...  "
            ],
            "text/html": [
              "\n",
              "  <div id=\"df-6e9cf8de-70b6-42e1-b2ca-fe9cd96ff56a\" class=\"colab-df-container\">\n",
              "    <div>\n",
              "<style scoped>\n",
              "    .dataframe tbody tr th:only-of-type {\n",
              "        vertical-align: middle;\n",
              "    }\n",
              "\n",
              "    .dataframe tbody tr th {\n",
              "        vertical-align: top;\n",
              "    }\n",
              "\n",
              "    .dataframe thead th {\n",
              "        text-align: right;\n",
              "    }\n",
              "</style>\n",
              "<table border=\"1\" class=\"dataframe\">\n",
              "  <thead>\n",
              "    <tr style=\"text-align: right;\">\n",
              "      <th></th>\n",
              "      <th>original_statement</th>\n",
              "      <th>status</th>\n",
              "      <th>num_of_characters</th>\n",
              "      <th>num_of_sentences</th>\n",
              "      <th>statement</th>\n",
              "    </tr>\n",
              "  </thead>\n",
              "  <tbody>\n",
              "    <tr>\n",
              "      <th>0</th>\n",
              "      <td>oh my gosh</td>\n",
              "      <td>Anxiety</td>\n",
              "      <td>10</td>\n",
              "      <td>1</td>\n",
              "      <td>oh my gosh</td>\n",
              "    </tr>\n",
              "    <tr>\n",
              "      <th>1</th>\n",
              "      <td>trouble sleeping, confused mind, restless hear...</td>\n",
              "      <td>Anxiety</td>\n",
              "      <td>64</td>\n",
              "      <td>2</td>\n",
              "      <td>trouble sleeping, confused mind, restless hear...</td>\n",
              "    </tr>\n",
              "    <tr>\n",
              "      <th>2</th>\n",
              "      <td>All wrong, back off dear, forward doubt. Stay ...</td>\n",
              "      <td>Anxiety</td>\n",
              "      <td>78</td>\n",
              "      <td>2</td>\n",
              "      <td>all wrong, back off dear, forward doubt. stay ...</td>\n",
              "    </tr>\n",
              "    <tr>\n",
              "      <th>3</th>\n",
              "      <td>I've shifted my focus to something else but I'...</td>\n",
              "      <td>Anxiety</td>\n",
              "      <td>61</td>\n",
              "      <td>1</td>\n",
              "      <td>i've shifted my focus to something else but i'...</td>\n",
              "    </tr>\n",
              "    <tr>\n",
              "      <th>4</th>\n",
              "      <td>I'm restless and restless, it's been a month n...</td>\n",
              "      <td>Anxiety</td>\n",
              "      <td>72</td>\n",
              "      <td>2</td>\n",
              "      <td>i'm restless and restless, it's been a month n...</td>\n",
              "    </tr>\n",
              "  </tbody>\n",
              "</table>\n",
              "</div>\n",
              "    <div class=\"colab-df-buttons\">\n",
              "\n",
              "  <div class=\"colab-df-container\">\n",
              "    <button class=\"colab-df-convert\" onclick=\"convertToInteractive('df-6e9cf8de-70b6-42e1-b2ca-fe9cd96ff56a')\"\n",
              "            title=\"Convert this dataframe to an interactive table.\"\n",
              "            style=\"display:none;\">\n",
              "\n",
              "  <svg xmlns=\"http://www.w3.org/2000/svg\" height=\"24px\" viewBox=\"0 -960 960 960\">\n",
              "    <path d=\"M120-120v-720h720v720H120Zm60-500h600v-160H180v160Zm220 220h160v-160H400v160Zm0 220h160v-160H400v160ZM180-400h160v-160H180v160Zm440 0h160v-160H620v160ZM180-180h160v-160H180v160Zm440 0h160v-160H620v160Z\"/>\n",
              "  </svg>\n",
              "    </button>\n",
              "\n",
              "  <style>\n",
              "    .colab-df-container {\n",
              "      display:flex;\n",
              "      gap: 12px;\n",
              "    }\n",
              "\n",
              "    .colab-df-convert {\n",
              "      background-color: #E8F0FE;\n",
              "      border: none;\n",
              "      border-radius: 50%;\n",
              "      cursor: pointer;\n",
              "      display: none;\n",
              "      fill: #1967D2;\n",
              "      height: 32px;\n",
              "      padding: 0 0 0 0;\n",
              "      width: 32px;\n",
              "    }\n",
              "\n",
              "    .colab-df-convert:hover {\n",
              "      background-color: #E2EBFA;\n",
              "      box-shadow: 0px 1px 2px rgba(60, 64, 67, 0.3), 0px 1px 3px 1px rgba(60, 64, 67, 0.15);\n",
              "      fill: #174EA6;\n",
              "    }\n",
              "\n",
              "    .colab-df-buttons div {\n",
              "      margin-bottom: 4px;\n",
              "    }\n",
              "\n",
              "    [theme=dark] .colab-df-convert {\n",
              "      background-color: #3B4455;\n",
              "      fill: #D2E3FC;\n",
              "    }\n",
              "\n",
              "    [theme=dark] .colab-df-convert:hover {\n",
              "      background-color: #434B5C;\n",
              "      box-shadow: 0px 1px 3px 1px rgba(0, 0, 0, 0.15);\n",
              "      filter: drop-shadow(0px 1px 2px rgba(0, 0, 0, 0.3));\n",
              "      fill: #FFFFFF;\n",
              "    }\n",
              "  </style>\n",
              "\n",
              "    <script>\n",
              "      const buttonEl =\n",
              "        document.querySelector('#df-6e9cf8de-70b6-42e1-b2ca-fe9cd96ff56a button.colab-df-convert');\n",
              "      buttonEl.style.display =\n",
              "        google.colab.kernel.accessAllowed ? 'block' : 'none';\n",
              "\n",
              "      async function convertToInteractive(key) {\n",
              "        const element = document.querySelector('#df-6e9cf8de-70b6-42e1-b2ca-fe9cd96ff56a');\n",
              "        const dataTable =\n",
              "          await google.colab.kernel.invokeFunction('convertToInteractive',\n",
              "                                                    [key], {});\n",
              "        if (!dataTable) return;\n",
              "\n",
              "        const docLinkHtml = 'Like what you see? Visit the ' +\n",
              "          '<a target=\"_blank\" href=https://colab.research.google.com/notebooks/data_table.ipynb>data table notebook</a>'\n",
              "          + ' to learn more about interactive tables.';\n",
              "        element.innerHTML = '';\n",
              "        dataTable['output_type'] = 'display_data';\n",
              "        await google.colab.output.renderOutput(dataTable, element);\n",
              "        const docLink = document.createElement('div');\n",
              "        docLink.innerHTML = docLinkHtml;\n",
              "        element.appendChild(docLink);\n",
              "      }\n",
              "    </script>\n",
              "  </div>\n",
              "\n",
              "\n",
              "<div id=\"df-70442403-e838-41fe-af85-fe471c1629e9\">\n",
              "  <button class=\"colab-df-quickchart\" onclick=\"quickchart('df-70442403-e838-41fe-af85-fe471c1629e9')\"\n",
              "            title=\"Suggest charts\"\n",
              "            style=\"display:none;\">\n",
              "\n",
              "<svg xmlns=\"http://www.w3.org/2000/svg\" height=\"24px\"viewBox=\"0 0 24 24\"\n",
              "     width=\"24px\">\n",
              "    <g>\n",
              "        <path d=\"M19 3H5c-1.1 0-2 .9-2 2v14c0 1.1.9 2 2 2h14c1.1 0 2-.9 2-2V5c0-1.1-.9-2-2-2zM9 17H7v-7h2v7zm4 0h-2V7h2v10zm4 0h-2v-4h2v4z\"/>\n",
              "    </g>\n",
              "</svg>\n",
              "  </button>\n",
              "\n",
              "<style>\n",
              "  .colab-df-quickchart {\n",
              "      --bg-color: #E8F0FE;\n",
              "      --fill-color: #1967D2;\n",
              "      --hover-bg-color: #E2EBFA;\n",
              "      --hover-fill-color: #174EA6;\n",
              "      --disabled-fill-color: #AAA;\n",
              "      --disabled-bg-color: #DDD;\n",
              "  }\n",
              "\n",
              "  [theme=dark] .colab-df-quickchart {\n",
              "      --bg-color: #3B4455;\n",
              "      --fill-color: #D2E3FC;\n",
              "      --hover-bg-color: #434B5C;\n",
              "      --hover-fill-color: #FFFFFF;\n",
              "      --disabled-bg-color: #3B4455;\n",
              "      --disabled-fill-color: #666;\n",
              "  }\n",
              "\n",
              "  .colab-df-quickchart {\n",
              "    background-color: var(--bg-color);\n",
              "    border: none;\n",
              "    border-radius: 50%;\n",
              "    cursor: pointer;\n",
              "    display: none;\n",
              "    fill: var(--fill-color);\n",
              "    height: 32px;\n",
              "    padding: 0;\n",
              "    width: 32px;\n",
              "  }\n",
              "\n",
              "  .colab-df-quickchart:hover {\n",
              "    background-color: var(--hover-bg-color);\n",
              "    box-shadow: 0 1px 2px rgba(60, 64, 67, 0.3), 0 1px 3px 1px rgba(60, 64, 67, 0.15);\n",
              "    fill: var(--button-hover-fill-color);\n",
              "  }\n",
              "\n",
              "  .colab-df-quickchart-complete:disabled,\n",
              "  .colab-df-quickchart-complete:disabled:hover {\n",
              "    background-color: var(--disabled-bg-color);\n",
              "    fill: var(--disabled-fill-color);\n",
              "    box-shadow: none;\n",
              "  }\n",
              "\n",
              "  .colab-df-spinner {\n",
              "    border: 2px solid var(--fill-color);\n",
              "    border-color: transparent;\n",
              "    border-bottom-color: var(--fill-color);\n",
              "    animation:\n",
              "      spin 1s steps(1) infinite;\n",
              "  }\n",
              "\n",
              "  @keyframes spin {\n",
              "    0% {\n",
              "      border-color: transparent;\n",
              "      border-bottom-color: var(--fill-color);\n",
              "      border-left-color: var(--fill-color);\n",
              "    }\n",
              "    20% {\n",
              "      border-color: transparent;\n",
              "      border-left-color: var(--fill-color);\n",
              "      border-top-color: var(--fill-color);\n",
              "    }\n",
              "    30% {\n",
              "      border-color: transparent;\n",
              "      border-left-color: var(--fill-color);\n",
              "      border-top-color: var(--fill-color);\n",
              "      border-right-color: var(--fill-color);\n",
              "    }\n",
              "    40% {\n",
              "      border-color: transparent;\n",
              "      border-right-color: var(--fill-color);\n",
              "      border-top-color: var(--fill-color);\n",
              "    }\n",
              "    60% {\n",
              "      border-color: transparent;\n",
              "      border-right-color: var(--fill-color);\n",
              "    }\n",
              "    80% {\n",
              "      border-color: transparent;\n",
              "      border-right-color: var(--fill-color);\n",
              "      border-bottom-color: var(--fill-color);\n",
              "    }\n",
              "    90% {\n",
              "      border-color: transparent;\n",
              "      border-bottom-color: var(--fill-color);\n",
              "    }\n",
              "  }\n",
              "</style>\n",
              "\n",
              "  <script>\n",
              "    async function quickchart(key) {\n",
              "      const quickchartButtonEl =\n",
              "        document.querySelector('#' + key + ' button');\n",
              "      quickchartButtonEl.disabled = true;  // To prevent multiple clicks.\n",
              "      quickchartButtonEl.classList.add('colab-df-spinner');\n",
              "      try {\n",
              "        const charts = await google.colab.kernel.invokeFunction(\n",
              "            'suggestCharts', [key], {});\n",
              "      } catch (error) {\n",
              "        console.error('Error during call to suggestCharts:', error);\n",
              "      }\n",
              "      quickchartButtonEl.classList.remove('colab-df-spinner');\n",
              "      quickchartButtonEl.classList.add('colab-df-quickchart-complete');\n",
              "    }\n",
              "    (() => {\n",
              "      let quickchartButtonEl =\n",
              "        document.querySelector('#df-70442403-e838-41fe-af85-fe471c1629e9 button');\n",
              "      quickchartButtonEl.style.display =\n",
              "        google.colab.kernel.accessAllowed ? 'block' : 'none';\n",
              "    })();\n",
              "  </script>\n",
              "</div>\n",
              "\n",
              "    </div>\n",
              "  </div>\n"
            ],
            "application/vnd.google.colaboratory.intrinsic+json": {
              "type": "dataframe",
              "variable_name": "df",
              "summary": "{\n  \"name\": \"df\",\n  \"rows\": 52681,\n  \"fields\": [\n    {\n      \"column\": \"original_statement\",\n      \"properties\": {\n        \"dtype\": \"string\",\n        \"num_unique_values\": 51073,\n        \"samples\": [\n          \"he's been a chain smoker for 30 years.\",\n          \"Dependence on therapist I attend IOP groups and individual therapy sessions at the same place, my therapist who I have worked with on and off for a year and a couple months just told me today that she is leaving soon and I am heartbroken. I love my therapist and I don't know how I am going to keep progressing without her. There will be a replacement for her but idk what to do, I don't want a different therapist. :(\",\n          \"These feelings constantly come back. Someone from my past that hurt me came back a month ago and once again disrespected me and i just feel like shit. Idk why these feelings keep resurfacing but it just hurts. I do not want to be over dramatic but Its hurts when you were nothing but loving/kind to someone and they disrespect you. I just hate feeling like this, feeling like i cannot trust anyone or that no one would ever truly love me unless i have something to offer. I am always worried about my looks and its just making me depressed. I really do not feel like i fit in with the world I am just here. Idk what my next step should be to get help but I am really going through it. (Yes I am in therapy) but how do i help myself ? I have been depressed/anxious for years and most day i do not even leave my house. But nobody around me seems to care and honestly I am tired of feeling this way. But at the same time i do not want to give up on myself bc i feel like I am here to be somebody great. I am just trying to find my way right now. It keeps coming back\"\n        ],\n        \"semantic_type\": \"\",\n        \"description\": \"\"\n      }\n    },\n    {\n      \"column\": \"status\",\n      \"properties\": {\n        \"dtype\": \"category\",\n        \"num_unique_values\": 7,\n        \"samples\": [\n          \"Anxiety\",\n          \"Normal\",\n          \"Bipolar\"\n        ],\n        \"semantic_type\": \"\",\n        \"description\": \"\"\n      }\n    },\n    {\n      \"column\": \"num_of_characters\",\n      \"properties\": {\n        \"dtype\": \"number\",\n        \"std\": 846,\n        \"min\": 2,\n        \"max\": 32759,\n        \"num_unique_values\": 3577,\n        \"samples\": [\n          476,\n          2990,\n          5201\n        ],\n        \"semantic_type\": \"\",\n        \"description\": \"\"\n      }\n    },\n    {\n      \"column\": \"num_of_sentences\",\n      \"properties\": {\n        \"dtype\": \"number\",\n        \"std\": 10,\n        \"min\": 1,\n        \"max\": 1260,\n        \"num_unique_values\": 124,\n        \"samples\": [\n          38,\n          73,\n          102\n        ],\n        \"semantic_type\": \"\",\n        \"description\": \"\"\n      }\n    },\n    {\n      \"column\": \"statement\",\n      \"properties\": {\n        \"dtype\": \"string\",\n        \"num_unique_values\": 51049,\n        \"samples\": [\n          \"tolu pepper omo this happens every period but not through out the depression is overwhelming and i crave so much sugar to balance the mood usually chocolate help me feel better\",\n          \"not going to kms, just take a break for a while. stay safe, ily &lt;3 bye\",\n          \"hi guys, i am looking for podcasts to listen to that tall about depression, anxiety, mood disorders, grieving, trauma healing etc. i do not want a comedic approach, not after interview's, success stories etc. ideally one host just talking you through why people feel this way, tips on managing your mental health, etc.i am going through a very very dark time, and while i would like to eventually listen to more light hearted podcasts i find people making jokes and laughing etc a bit off putting at the moment. hopefully i am making sense. thanks. podcast recommendation\"\n        ],\n        \"semantic_type\": \"\",\n        \"description\": \"\"\n      }\n    }\n  ]\n}"
            }
          },
          "metadata": {},
          "execution_count": 25
        }
      ]
    },
    {
      "cell_type": "markdown",
      "source": [
        "## 3.2. Removing URLs, handles, punctuation and special characters"
      ],
      "metadata": {
        "id": "YG_PHzOR6stf"
      }
    },
    {
      "cell_type": "markdown",
      "source": [
        "To remove specific patterns such as URLs or other unwanted text (like ```[View Poll](https://www.reddit.com/poll/...)```) from a column in a pandas DataFrame, we can use regular expressions with the re module or pandas built-in string methods."
      ],
      "metadata": {
        "id": "X_5h00lG6stf"
      }
    },
    {
      "cell_type": "code",
      "source": [
        "def remove_patterns(text):\n",
        "    # Remove URLs\n",
        "    text = re.sub(r'http[s]?://\\S+', '', text)\n",
        "    # Remove markdown-style links\n",
        "    text = re.sub(r'\\[.*?\\]\\(.*?\\)', '', text)\n",
        "    # Remove handles (that start with '@')\n",
        "    text = re.sub(r'@\\w+', '', text)\n",
        "    # Remove punctuation and other special characters\n",
        "    text = re.sub(r'[^\\w\\s]', '', text)\n",
        "    return text.strip()\n",
        "\n",
        "# Apply the function to the 'statement' column\n",
        "df['statement'] = df['statement'].apply(remove_patterns)\n",
        "df.head()"
      ],
      "metadata": {
        "execution": {
          "iopub.status.busy": "2024-08-29T16:50:37.732075Z",
          "iopub.execute_input": "2024-08-29T16:50:37.732405Z",
          "iopub.status.idle": "2024-08-29T16:50:39.362974Z",
          "shell.execute_reply.started": "2024-08-29T16:50:37.732369Z",
          "shell.execute_reply": "2024-08-29T16:50:39.361832Z"
        },
        "trusted": true,
        "id": "IVUPlu486stf",
        "colab": {
          "base_uri": "https://localhost:8080/",
          "height": 276
        },
        "outputId": "7d01417e-fccc-44ad-842e-8dbff9a11445"
      },
      "execution_count": 26,
      "outputs": [
        {
          "output_type": "execute_result",
          "data": {
            "text/plain": [
              "                                  original_statement   status  \\\n",
              "0                                         oh my gosh  Anxiety   \n",
              "1  trouble sleeping, confused mind, restless hear...  Anxiety   \n",
              "2  All wrong, back off dear, forward doubt. Stay ...  Anxiety   \n",
              "3  I've shifted my focus to something else but I'...  Anxiety   \n",
              "4  I'm restless and restless, it's been a month n...  Anxiety   \n",
              "\n",
              "   num_of_characters  num_of_sentences  \\\n",
              "0                 10                 1   \n",
              "1                 64                 2   \n",
              "2                 78                 2   \n",
              "3                 61                 1   \n",
              "4                 72                 2   \n",
              "\n",
              "                                           statement  \n",
              "0                                         oh my gosh  \n",
              "1  trouble sleeping confused mind restless heart ...  \n",
              "2  all wrong back off dear forward doubt stay in ...  \n",
              "3  ive shifted my focus to something else but im ...  \n",
              "4  im restless and restless its been a month now ...  "
            ],
            "text/html": [
              "\n",
              "  <div id=\"df-bb845887-b693-4b13-857e-b7228add9a57\" class=\"colab-df-container\">\n",
              "    <div>\n",
              "<style scoped>\n",
              "    .dataframe tbody tr th:only-of-type {\n",
              "        vertical-align: middle;\n",
              "    }\n",
              "\n",
              "    .dataframe tbody tr th {\n",
              "        vertical-align: top;\n",
              "    }\n",
              "\n",
              "    .dataframe thead th {\n",
              "        text-align: right;\n",
              "    }\n",
              "</style>\n",
              "<table border=\"1\" class=\"dataframe\">\n",
              "  <thead>\n",
              "    <tr style=\"text-align: right;\">\n",
              "      <th></th>\n",
              "      <th>original_statement</th>\n",
              "      <th>status</th>\n",
              "      <th>num_of_characters</th>\n",
              "      <th>num_of_sentences</th>\n",
              "      <th>statement</th>\n",
              "    </tr>\n",
              "  </thead>\n",
              "  <tbody>\n",
              "    <tr>\n",
              "      <th>0</th>\n",
              "      <td>oh my gosh</td>\n",
              "      <td>Anxiety</td>\n",
              "      <td>10</td>\n",
              "      <td>1</td>\n",
              "      <td>oh my gosh</td>\n",
              "    </tr>\n",
              "    <tr>\n",
              "      <th>1</th>\n",
              "      <td>trouble sleeping, confused mind, restless hear...</td>\n",
              "      <td>Anxiety</td>\n",
              "      <td>64</td>\n",
              "      <td>2</td>\n",
              "      <td>trouble sleeping confused mind restless heart ...</td>\n",
              "    </tr>\n",
              "    <tr>\n",
              "      <th>2</th>\n",
              "      <td>All wrong, back off dear, forward doubt. Stay ...</td>\n",
              "      <td>Anxiety</td>\n",
              "      <td>78</td>\n",
              "      <td>2</td>\n",
              "      <td>all wrong back off dear forward doubt stay in ...</td>\n",
              "    </tr>\n",
              "    <tr>\n",
              "      <th>3</th>\n",
              "      <td>I've shifted my focus to something else but I'...</td>\n",
              "      <td>Anxiety</td>\n",
              "      <td>61</td>\n",
              "      <td>1</td>\n",
              "      <td>ive shifted my focus to something else but im ...</td>\n",
              "    </tr>\n",
              "    <tr>\n",
              "      <th>4</th>\n",
              "      <td>I'm restless and restless, it's been a month n...</td>\n",
              "      <td>Anxiety</td>\n",
              "      <td>72</td>\n",
              "      <td>2</td>\n",
              "      <td>im restless and restless its been a month now ...</td>\n",
              "    </tr>\n",
              "  </tbody>\n",
              "</table>\n",
              "</div>\n",
              "    <div class=\"colab-df-buttons\">\n",
              "\n",
              "  <div class=\"colab-df-container\">\n",
              "    <button class=\"colab-df-convert\" onclick=\"convertToInteractive('df-bb845887-b693-4b13-857e-b7228add9a57')\"\n",
              "            title=\"Convert this dataframe to an interactive table.\"\n",
              "            style=\"display:none;\">\n",
              "\n",
              "  <svg xmlns=\"http://www.w3.org/2000/svg\" height=\"24px\" viewBox=\"0 -960 960 960\">\n",
              "    <path d=\"M120-120v-720h720v720H120Zm60-500h600v-160H180v160Zm220 220h160v-160H400v160Zm0 220h160v-160H400v160ZM180-400h160v-160H180v160Zm440 0h160v-160H620v160ZM180-180h160v-160H180v160Zm440 0h160v-160H620v160Z\"/>\n",
              "  </svg>\n",
              "    </button>\n",
              "\n",
              "  <style>\n",
              "    .colab-df-container {\n",
              "      display:flex;\n",
              "      gap: 12px;\n",
              "    }\n",
              "\n",
              "    .colab-df-convert {\n",
              "      background-color: #E8F0FE;\n",
              "      border: none;\n",
              "      border-radius: 50%;\n",
              "      cursor: pointer;\n",
              "      display: none;\n",
              "      fill: #1967D2;\n",
              "      height: 32px;\n",
              "      padding: 0 0 0 0;\n",
              "      width: 32px;\n",
              "    }\n",
              "\n",
              "    .colab-df-convert:hover {\n",
              "      background-color: #E2EBFA;\n",
              "      box-shadow: 0px 1px 2px rgba(60, 64, 67, 0.3), 0px 1px 3px 1px rgba(60, 64, 67, 0.15);\n",
              "      fill: #174EA6;\n",
              "    }\n",
              "\n",
              "    .colab-df-buttons div {\n",
              "      margin-bottom: 4px;\n",
              "    }\n",
              "\n",
              "    [theme=dark] .colab-df-convert {\n",
              "      background-color: #3B4455;\n",
              "      fill: #D2E3FC;\n",
              "    }\n",
              "\n",
              "    [theme=dark] .colab-df-convert:hover {\n",
              "      background-color: #434B5C;\n",
              "      box-shadow: 0px 1px 3px 1px rgba(0, 0, 0, 0.15);\n",
              "      filter: drop-shadow(0px 1px 2px rgba(0, 0, 0, 0.3));\n",
              "      fill: #FFFFFF;\n",
              "    }\n",
              "  </style>\n",
              "\n",
              "    <script>\n",
              "      const buttonEl =\n",
              "        document.querySelector('#df-bb845887-b693-4b13-857e-b7228add9a57 button.colab-df-convert');\n",
              "      buttonEl.style.display =\n",
              "        google.colab.kernel.accessAllowed ? 'block' : 'none';\n",
              "\n",
              "      async function convertToInteractive(key) {\n",
              "        const element = document.querySelector('#df-bb845887-b693-4b13-857e-b7228add9a57');\n",
              "        const dataTable =\n",
              "          await google.colab.kernel.invokeFunction('convertToInteractive',\n",
              "                                                    [key], {});\n",
              "        if (!dataTable) return;\n",
              "\n",
              "        const docLinkHtml = 'Like what you see? Visit the ' +\n",
              "          '<a target=\"_blank\" href=https://colab.research.google.com/notebooks/data_table.ipynb>data table notebook</a>'\n",
              "          + ' to learn more about interactive tables.';\n",
              "        element.innerHTML = '';\n",
              "        dataTable['output_type'] = 'display_data';\n",
              "        await google.colab.output.renderOutput(dataTable, element);\n",
              "        const docLink = document.createElement('div');\n",
              "        docLink.innerHTML = docLinkHtml;\n",
              "        element.appendChild(docLink);\n",
              "      }\n",
              "    </script>\n",
              "  </div>\n",
              "\n",
              "\n",
              "<div id=\"df-798bb10d-43c1-4755-a788-3de0bbdb35af\">\n",
              "  <button class=\"colab-df-quickchart\" onclick=\"quickchart('df-798bb10d-43c1-4755-a788-3de0bbdb35af')\"\n",
              "            title=\"Suggest charts\"\n",
              "            style=\"display:none;\">\n",
              "\n",
              "<svg xmlns=\"http://www.w3.org/2000/svg\" height=\"24px\"viewBox=\"0 0 24 24\"\n",
              "     width=\"24px\">\n",
              "    <g>\n",
              "        <path d=\"M19 3H5c-1.1 0-2 .9-2 2v14c0 1.1.9 2 2 2h14c1.1 0 2-.9 2-2V5c0-1.1-.9-2-2-2zM9 17H7v-7h2v7zm4 0h-2V7h2v10zm4 0h-2v-4h2v4z\"/>\n",
              "    </g>\n",
              "</svg>\n",
              "  </button>\n",
              "\n",
              "<style>\n",
              "  .colab-df-quickchart {\n",
              "      --bg-color: #E8F0FE;\n",
              "      --fill-color: #1967D2;\n",
              "      --hover-bg-color: #E2EBFA;\n",
              "      --hover-fill-color: #174EA6;\n",
              "      --disabled-fill-color: #AAA;\n",
              "      --disabled-bg-color: #DDD;\n",
              "  }\n",
              "\n",
              "  [theme=dark] .colab-df-quickchart {\n",
              "      --bg-color: #3B4455;\n",
              "      --fill-color: #D2E3FC;\n",
              "      --hover-bg-color: #434B5C;\n",
              "      --hover-fill-color: #FFFFFF;\n",
              "      --disabled-bg-color: #3B4455;\n",
              "      --disabled-fill-color: #666;\n",
              "  }\n",
              "\n",
              "  .colab-df-quickchart {\n",
              "    background-color: var(--bg-color);\n",
              "    border: none;\n",
              "    border-radius: 50%;\n",
              "    cursor: pointer;\n",
              "    display: none;\n",
              "    fill: var(--fill-color);\n",
              "    height: 32px;\n",
              "    padding: 0;\n",
              "    width: 32px;\n",
              "  }\n",
              "\n",
              "  .colab-df-quickchart:hover {\n",
              "    background-color: var(--hover-bg-color);\n",
              "    box-shadow: 0 1px 2px rgba(60, 64, 67, 0.3), 0 1px 3px 1px rgba(60, 64, 67, 0.15);\n",
              "    fill: var(--button-hover-fill-color);\n",
              "  }\n",
              "\n",
              "  .colab-df-quickchart-complete:disabled,\n",
              "  .colab-df-quickchart-complete:disabled:hover {\n",
              "    background-color: var(--disabled-bg-color);\n",
              "    fill: var(--disabled-fill-color);\n",
              "    box-shadow: none;\n",
              "  }\n",
              "\n",
              "  .colab-df-spinner {\n",
              "    border: 2px solid var(--fill-color);\n",
              "    border-color: transparent;\n",
              "    border-bottom-color: var(--fill-color);\n",
              "    animation:\n",
              "      spin 1s steps(1) infinite;\n",
              "  }\n",
              "\n",
              "  @keyframes spin {\n",
              "    0% {\n",
              "      border-color: transparent;\n",
              "      border-bottom-color: var(--fill-color);\n",
              "      border-left-color: var(--fill-color);\n",
              "    }\n",
              "    20% {\n",
              "      border-color: transparent;\n",
              "      border-left-color: var(--fill-color);\n",
              "      border-top-color: var(--fill-color);\n",
              "    }\n",
              "    30% {\n",
              "      border-color: transparent;\n",
              "      border-left-color: var(--fill-color);\n",
              "      border-top-color: var(--fill-color);\n",
              "      border-right-color: var(--fill-color);\n",
              "    }\n",
              "    40% {\n",
              "      border-color: transparent;\n",
              "      border-right-color: var(--fill-color);\n",
              "      border-top-color: var(--fill-color);\n",
              "    }\n",
              "    60% {\n",
              "      border-color: transparent;\n",
              "      border-right-color: var(--fill-color);\n",
              "    }\n",
              "    80% {\n",
              "      border-color: transparent;\n",
              "      border-right-color: var(--fill-color);\n",
              "      border-bottom-color: var(--fill-color);\n",
              "    }\n",
              "    90% {\n",
              "      border-color: transparent;\n",
              "      border-bottom-color: var(--fill-color);\n",
              "    }\n",
              "  }\n",
              "</style>\n",
              "\n",
              "  <script>\n",
              "    async function quickchart(key) {\n",
              "      const quickchartButtonEl =\n",
              "        document.querySelector('#' + key + ' button');\n",
              "      quickchartButtonEl.disabled = true;  // To prevent multiple clicks.\n",
              "      quickchartButtonEl.classList.add('colab-df-spinner');\n",
              "      try {\n",
              "        const charts = await google.colab.kernel.invokeFunction(\n",
              "            'suggestCharts', [key], {});\n",
              "      } catch (error) {\n",
              "        console.error('Error during call to suggestCharts:', error);\n",
              "      }\n",
              "      quickchartButtonEl.classList.remove('colab-df-spinner');\n",
              "      quickchartButtonEl.classList.add('colab-df-quickchart-complete');\n",
              "    }\n",
              "    (() => {\n",
              "      let quickchartButtonEl =\n",
              "        document.querySelector('#df-798bb10d-43c1-4755-a788-3de0bbdb35af button');\n",
              "      quickchartButtonEl.style.display =\n",
              "        google.colab.kernel.accessAllowed ? 'block' : 'none';\n",
              "    })();\n",
              "  </script>\n",
              "</div>\n",
              "\n",
              "    </div>\n",
              "  </div>\n"
            ],
            "application/vnd.google.colaboratory.intrinsic+json": {
              "type": "dataframe",
              "variable_name": "df",
              "summary": "{\n  \"name\": \"df\",\n  \"rows\": 52681,\n  \"fields\": [\n    {\n      \"column\": \"original_statement\",\n      \"properties\": {\n        \"dtype\": \"string\",\n        \"num_unique_values\": 51073,\n        \"samples\": [\n          \"he's been a chain smoker for 30 years.\",\n          \"Dependence on therapist I attend IOP groups and individual therapy sessions at the same place, my therapist who I have worked with on and off for a year and a couple months just told me today that she is leaving soon and I am heartbroken. I love my therapist and I don't know how I am going to keep progressing without her. There will be a replacement for her but idk what to do, I don't want a different therapist. :(\",\n          \"These feelings constantly come back. Someone from my past that hurt me came back a month ago and once again disrespected me and i just feel like shit. Idk why these feelings keep resurfacing but it just hurts. I do not want to be over dramatic but Its hurts when you were nothing but loving/kind to someone and they disrespect you. I just hate feeling like this, feeling like i cannot trust anyone or that no one would ever truly love me unless i have something to offer. I am always worried about my looks and its just making me depressed. I really do not feel like i fit in with the world I am just here. Idk what my next step should be to get help but I am really going through it. (Yes I am in therapy) but how do i help myself ? I have been depressed/anxious for years and most day i do not even leave my house. But nobody around me seems to care and honestly I am tired of feeling this way. But at the same time i do not want to give up on myself bc i feel like I am here to be somebody great. I am just trying to find my way right now. It keeps coming back\"\n        ],\n        \"semantic_type\": \"\",\n        \"description\": \"\"\n      }\n    },\n    {\n      \"column\": \"status\",\n      \"properties\": {\n        \"dtype\": \"category\",\n        \"num_unique_values\": 7,\n        \"samples\": [\n          \"Anxiety\",\n          \"Normal\",\n          \"Bipolar\"\n        ],\n        \"semantic_type\": \"\",\n        \"description\": \"\"\n      }\n    },\n    {\n      \"column\": \"num_of_characters\",\n      \"properties\": {\n        \"dtype\": \"number\",\n        \"std\": 846,\n        \"min\": 2,\n        \"max\": 32759,\n        \"num_unique_values\": 3577,\n        \"samples\": [\n          476,\n          2990,\n          5201\n        ],\n        \"semantic_type\": \"\",\n        \"description\": \"\"\n      }\n    },\n    {\n      \"column\": \"num_of_sentences\",\n      \"properties\": {\n        \"dtype\": \"number\",\n        \"std\": 10,\n        \"min\": 1,\n        \"max\": 1260,\n        \"num_unique_values\": 124,\n        \"samples\": [\n          38,\n          73,\n          102\n        ],\n        \"semantic_type\": \"\",\n        \"description\": \"\"\n      }\n    },\n    {\n      \"column\": \"statement\",\n      \"properties\": {\n        \"dtype\": \"string\",\n        \"num_unique_values\": 50962,\n        \"samples\": [\n          \"hey everyone first of all this is a throwaway account i am a really frustrated 16 year old guy who has been through 8 rejections so far not counting those in when i tried to actually befriend girls well that is the only thing i have been trying to do for the last couple of months i see all my friends with their girlfriends and it makes me frustrated not the thing that i cannot get a girlfriend the thing that i cannot get a friend who is a girl i cannot get a girl to talk to mei get absolutely zero attention from girls i have thought that it is because of my looks  maybe i am ugly  but several people told me that i am above average looking i am also not fat not skinny but kind of muscular i do work outi do not seek validation from other people i get enough i am a 3d modeler and a video editor and my friends praise me all the time when i make something new i seek female attention but do not get any it makes me depressed and frustrated i cannot get my work done because of it makes me unmotivated and sad i rarely go out these days because of the fear of rejection whenever i try to focus on my projects i get reminded of these things every time how do i not concentrate on girls or what should i do being unmotivated because of no female attention what do i do to get my motivation back\",\n          \"title says it all but i am done with depression i am already so low so empty and unmotivated i spend all day fighting my mind and thoughts all day feeling worthless and hopeless and some days i cannot even get out of bed i have had a life of this ups and downs and the lowest of lows i have been here before i know this road like the back of my hand and as much as my depression wants to trick me into staying i am not that person any more i cannot be or it will kill meso i am fighting every step of the way if i am going to feel empty and hollowed out then ill do it while crawling forward because anything is better then this life and depression 21 days to form a habit that habit is breaking my thoughts and slapping the hell out of my depression like it has me this year because i am not going down with this ship i am getting on a whole different ship and captaining that one to better tides i am done suffering i am fighting my way back out of this hole and i am not stopping until i have won\",\n          \"but what do i know i keep reassuring myself that this is normal and never tell anyone about this  im surprising one of the top students at a selective high school but i really want this to end im good at hiding things like this because i dont want others feeling pity for me for things they didnt cause or can change      tldr older brother psychologically and physically abuses me and my younger brother\"\n        ],\n        \"semantic_type\": \"\",\n        \"description\": \"\"\n      }\n    }\n  ]\n}"
            }
          },
          "metadata": {},
          "execution_count": 26
        }
      ]
    },
    {
      "cell_type": "markdown",
      "source": [
        "## 3.3. Tokenization"
      ],
      "metadata": {
        "id": "I0kTrjp_6stf"
      }
    },
    {
      "cell_type": "markdown",
      "source": [
        "Split text into individual words or tokens."
      ],
      "metadata": {
        "id": "aa0fTC8-6stf"
      }
    },
    {
      "cell_type": "code",
      "source": [
        "# Apply word_tokenize to each element in the 'statement' column\n",
        "df['tokens'] = df['statement'].apply(word_tokenize)\n",
        "df.head()"
      ],
      "metadata": {
        "execution": {
          "iopub.status.busy": "2024-08-29T16:50:39.364224Z",
          "iopub.execute_input": "2024-08-29T16:50:39.364654Z",
          "iopub.status.idle": "2024-08-29T16:51:37.338988Z",
          "shell.execute_reply.started": "2024-08-29T16:50:39.364608Z",
          "shell.execute_reply": "2024-08-29T16:51:37.33786Z"
        },
        "trusted": true,
        "id": "ODJxF9jQ6stg"
      },
      "execution_count": null,
      "outputs": []
    },
    {
      "cell_type": "markdown",
      "source": [
        "## 3.4. Stemming"
      ],
      "metadata": {
        "id": "Onw0aJn36stg"
      }
    },
    {
      "cell_type": "markdown",
      "source": [
        "Reduce words to their base or root form. However, in some cases, the stemming process produces words that are not correct spellings of the root word. For example, **happi** and **sunni**. That's because it chooses the most common stem for related words. For example, we can look at the set of words that comprises the different forms of happy:\n",
        "\n",
        "- happy\n",
        "- happiness\n",
        "- happier\n",
        "\n",
        "We can see that the prefix **happi** is more commonly used. We cannot choose **happ** because it is the stem of unrelated words like **happen**."
      ],
      "metadata": {
        "id": "TQHsGwcM6stg"
      }
    },
    {
      "cell_type": "code",
      "source": [
        "# Initialize the stemmer\n",
        "stemmer = PorterStemmer()\n",
        "\n",
        "# Function to stem tokens and convert them to strings\n",
        "def stem_tokens(tokens):\n",
        "    return ' '.join(stemmer.stem(str(token)) for token in tokens)\n",
        "\n",
        "# Apply the function to the 'tokens' column\n",
        "df['tokens_stemmed'] = df['tokens'].apply(stem_tokens)\n",
        "\n",
        "df.head()"
      ],
      "metadata": {
        "execution": {
          "iopub.status.busy": "2024-08-29T16:51:37.340079Z",
          "iopub.execute_input": "2024-08-29T16:51:37.340399Z",
          "iopub.status.idle": "2024-08-29T16:54:15.632627Z",
          "shell.execute_reply.started": "2024-08-29T16:51:37.340364Z",
          "shell.execute_reply": "2024-08-29T16:54:15.631547Z"
        },
        "trusted": true,
        "id": "eLF04crD6stg"
      },
      "execution_count": null,
      "outputs": []
    },
    {
      "cell_type": "markdown",
      "source": [
        "## 3.5. Stop Words"
      ],
      "metadata": {
        "id": "FRMt66eT6stg"
      }
    },
    {
      "cell_type": "markdown",
      "source": [
        "While stop words are typically removed to reduce noise, in sentiment analysis for mental health, many stop words are actually crucial for understanding context and sentiment. Words like negations and those related to emotions (e.g., 'how', 'why', 'because') provide important insights. Removing these can decrease the accuracy of the analysis."
      ],
      "metadata": {
        "id": "TJcGeF026stm"
      }
    },
    {
      "cell_type": "markdown",
      "source": [
        "##  3.6. Word Clouds"
      ],
      "metadata": {
        "id": "7x5A0pvp6stm"
      }
    },
    {
      "cell_type": "code",
      "source": [
        "# Get unique categories in 'status'\n",
        "statuses = df['status'].unique()\n",
        "\n",
        "# Define a color function\n",
        "def color_func(word, font_size, position, orientation, random_state=101, **kwargs):\n",
        "    return random.choice(colors)\n",
        "\n",
        "# Generate and plot the WordCloud for each category\n",
        "for status in statuses:\n",
        "    # Filter the tokens data for the current status\n",
        "    tokens_data = ' '.join(df[df['status'] == status]['tokens'].dropna().apply(lambda x: ' '.join(x)).tolist())\n",
        "\n",
        "    # Generate the WordCloud\n",
        "    wordcloud = WordCloud(width=800, height=400, background_color='white', color_func=color_func).generate(tokens_data)\n",
        "\n",
        "    # Plot the WordCloud\n",
        "    plt.figure(figsize=(10, 5))\n",
        "    plt.imshow(wordcloud, interpolation='bilinear')\n",
        "    plt.axis('off')  # Turn off axis\n",
        "    plt.title(f'WordCloud for Status: {status}')\n",
        "    plt.show()\n"
      ],
      "metadata": {
        "execution": {
          "iopub.status.busy": "2024-08-29T16:54:15.633861Z",
          "iopub.execute_input": "2024-08-29T16:54:15.634207Z",
          "iopub.status.idle": "2024-08-29T16:54:46.393144Z",
          "shell.execute_reply.started": "2024-08-29T16:54:15.634172Z",
          "shell.execute_reply": "2024-08-29T16:54:46.392116Z"
        },
        "trusted": true,
        "id": "qjpHiXGI6stm"
      },
      "execution_count": null,
      "outputs": []
    },
    {
      "cell_type": "markdown",
      "source": [
        "<div style=\"padding: 20px; border-color: #419D78; border-radius: 10px; box-shadow: 0 2px 4px 0 rgba(0, 0, 0, 0.1); border: 2px solid #419D78;\">\n",
        "    <ul style=\"font-size: 18px; font-family: 'Arial'; line-height: 1.5em; \">\n",
        "        There is a significant overlap in the language used for discussing depression and suicidal thoughts in our data. Many terms and phrases are used interchangeably or similarly for both conditions, which may complicate the distinction between them.\n",
        "    </ul>\n",
        "</div>"
      ],
      "metadata": {
        "id": "1Pcnl_Cd6stm"
      }
    },
    {
      "cell_type": "markdown",
      "source": [
        "<a id=\"datapreprocessing\"></a>\n",
        "# <div style=\"text-align:center; border-radius:30px 30px; padding:9px; color:white; margin:0; font-size:110%; font-family:Arial; background-color:#419D78; overflow:hidden\"><b> 4. Data Preprocessing </b></div>"
      ],
      "metadata": {
        "id": "9g_O0v1M6stn"
      }
    },
    {
      "cell_type": "markdown",
      "source": [
        "## 4.1. Separate features and labels"
      ],
      "metadata": {
        "id": "XkYxfC846stn"
      }
    },
    {
      "cell_type": "code",
      "source": [
        "X = df[['tokens_stemmed', 'num_of_characters', 'num_of_sentences']]\n",
        "y = df['status']"
      ],
      "metadata": {
        "execution": {
          "iopub.status.busy": "2024-08-29T16:54:46.394493Z",
          "iopub.execute_input": "2024-08-29T16:54:46.394857Z",
          "iopub.status.idle": "2024-08-29T16:54:46.402891Z",
          "shell.execute_reply.started": "2024-08-29T16:54:46.394819Z",
          "shell.execute_reply": "2024-08-29T16:54:46.401819Z"
        },
        "trusted": true,
        "id": "PsTPvitJ6stn"
      },
      "execution_count": null,
      "outputs": []
    },
    {
      "cell_type": "markdown",
      "source": [
        "## 4.2. Label encoding target variable"
      ],
      "metadata": {
        "id": "Ri1YnzY16stn"
      }
    },
    {
      "cell_type": "code",
      "source": [
        "lbl_enc = LabelEncoder()\n",
        "y = lbl_enc.fit_transform(y.values)"
      ],
      "metadata": {
        "execution": {
          "iopub.status.busy": "2024-08-29T16:54:46.404115Z",
          "iopub.execute_input": "2024-08-29T16:54:46.4045Z",
          "iopub.status.idle": "2024-08-29T16:54:46.426488Z",
          "shell.execute_reply.started": "2024-08-29T16:54:46.404461Z",
          "shell.execute_reply": "2024-08-29T16:54:46.425262Z"
        },
        "trusted": true,
        "id": "7hfGhMBX6stn"
      },
      "execution_count": null,
      "outputs": []
    },
    {
      "cell_type": "markdown",
      "source": [
        "## 4.3. Split the data into training and testing sets"
      ],
      "metadata": {
        "id": "2iAsJK386stn"
      }
    },
    {
      "cell_type": "code",
      "source": [
        "X_train, X_test, y_train, y_test = train_test_split(X, y, test_size=0.2, random_state=101)"
      ],
      "metadata": {
        "execution": {
          "iopub.status.busy": "2024-08-29T16:54:46.427924Z",
          "iopub.execute_input": "2024-08-29T16:54:46.42845Z",
          "iopub.status.idle": "2024-08-29T16:54:46.443924Z",
          "shell.execute_reply.started": "2024-08-29T16:54:46.428404Z",
          "shell.execute_reply": "2024-08-29T16:54:46.442932Z"
        },
        "trusted": true,
        "id": "ZHjQbthB6stn"
      },
      "execution_count": null,
      "outputs": []
    },
    {
      "cell_type": "markdown",
      "source": [
        "## 4.4. Convert text to features using TF-IDF vectoriser"
      ],
      "metadata": {
        "id": "S2iTMn_36sto"
      }
    },
    {
      "cell_type": "markdown",
      "source": [
        "Now, we will transform tokens (words) into numerical values that represent the importance of words in a document relative to a collection of documents. This helps highlight unique words in a document while downplaying common ones, making it easier for machine learning models to identify relevant patterns and make better predictions."
      ],
      "metadata": {
        "id": "D5-XehT26sto"
      }
    },
    {
      "cell_type": "code",
      "source": [
        "# 1. Initialize TF-IDF Vectorizer and fit/transform on the 'tokens' column\n",
        "vectorizer = TfidfVectorizer(ngram_range=(1, 2), max_features=50000)\n",
        "X_train_tfidf = vectorizer.fit_transform(X_train['tokens_stemmed'])\n",
        "X_test_tfidf = vectorizer.transform(X_test['tokens_stemmed'])\n",
        "\n",
        "# 2. Extract numerical features\n",
        "X_train_num = X_train[['num_of_characters', 'num_of_sentences']].values\n",
        "X_test_num = X_test[['num_of_characters', 'num_of_sentences']].values\n",
        "\n",
        "# 3. Combine TF-IDF features with numerical features\n",
        "X_train_combined = hstack([X_train_tfidf, X_train_num])\n",
        "X_test_combined = hstack([X_test_tfidf, X_test_num])\n",
        "\n",
        "print('Number of feature words: ', len(vectorizer.get_feature_names_out()))"
      ],
      "metadata": {
        "execution": {
          "iopub.status.busy": "2024-08-29T16:54:46.445162Z",
          "iopub.execute_input": "2024-08-29T16:54:46.445534Z",
          "iopub.status.idle": "2024-08-29T16:55:03.368491Z",
          "shell.execute_reply.started": "2024-08-29T16:54:46.445493Z",
          "shell.execute_reply": "2024-08-29T16:55:03.367456Z"
        },
        "trusted": true,
        "id": "dejwQxV16sto"
      },
      "execution_count": null,
      "outputs": []
    },
    {
      "cell_type": "code",
      "source": [
        "X_train_combined.shape"
      ],
      "metadata": {
        "execution": {
          "iopub.status.busy": "2024-08-29T16:55:03.370034Z",
          "iopub.execute_input": "2024-08-29T16:55:03.370541Z",
          "iopub.status.idle": "2024-08-29T16:55:03.376867Z",
          "shell.execute_reply.started": "2024-08-29T16:55:03.370489Z",
          "shell.execute_reply": "2024-08-29T16:55:03.375959Z"
        },
        "trusted": true,
        "id": "3vrxmwiR6sto"
      },
      "execution_count": null,
      "outputs": []
    },
    {
      "cell_type": "markdown",
      "source": [
        "## 4.5. Resampling"
      ],
      "metadata": {
        "id": "1D7P3-yW6sto"
      }
    },
    {
      "cell_type": "markdown",
      "source": [
        "We experimented with various resampling techniques, including SMOTE, Random Over-Sampling and Random Under-Sampling. Among these, Random Over-Sampling provided the best results."
      ],
      "metadata": {
        "id": "ETd7-D2M6stp"
      }
    },
    {
      "cell_type": "code",
      "source": [
        "# Apply Random Over-Sampling on the vectorized data\n",
        "ros = RandomOverSampler(random_state=101)\n",
        "X_train_resampled, y_train_resampled = ros.fit_resample(X_train_combined, y_train)"
      ],
      "metadata": {
        "execution": {
          "iopub.status.busy": "2024-08-29T16:55:03.378496Z",
          "iopub.execute_input": "2024-08-29T16:55:03.379271Z",
          "iopub.status.idle": "2024-08-29T16:55:03.814968Z",
          "shell.execute_reply.started": "2024-08-29T16:55:03.379235Z",
          "shell.execute_reply": "2024-08-29T16:55:03.813996Z"
        },
        "trusted": true,
        "id": "_MzXazxs6stp"
      },
      "execution_count": null,
      "outputs": []
    },
    {
      "cell_type": "code",
      "source": [
        "X_train_resampled.shape"
      ],
      "metadata": {
        "execution": {
          "iopub.status.busy": "2024-08-29T16:55:03.816229Z",
          "iopub.execute_input": "2024-08-29T16:55:03.816585Z",
          "iopub.status.idle": "2024-08-29T16:55:03.823394Z",
          "shell.execute_reply.started": "2024-08-29T16:55:03.816546Z",
          "shell.execute_reply": "2024-08-29T16:55:03.822219Z"
        },
        "trusted": true,
        "id": "z0DsIppi6stp"
      },
      "execution_count": null,
      "outputs": []
    },
    {
      "cell_type": "markdown",
      "source": [
        "<a id=\"model\"></a>\n",
        "# <div style=\"text-align:center; border-radius:30px 30px; padding:9px; color:white; margin:0; font-size:110%; font-family:Arial; background-color:#419D78; overflow:hidden\"><b> 5. Model Traning and Evaluation </b></div>"
      ],
      "metadata": {
        "id": "F-i1-wQt6stp"
      }
    },
    {
      "cell_type": "code",
      "source": [
        "# Define a dictionary of classifiers with their specific parameters.\n",
        "# Note: The hyperparameters for these classifiers were chosen after performing GridSearchCV to optimize performance.\n",
        "classifiers = {\n",
        "    'Bernoulli Naive Bayes': BernoulliNB(alpha=0.1, binarize=0.0),\n",
        "    'Decision Tree': DecisionTreeClassifier(max_depth=9, min_samples_split=5, random_state=101),\n",
        "    'Logistic Regression': LogisticRegression(solver='liblinear', penalty='l1', C=10, random_state=101),\n",
        "    'XGB': XGBClassifier(learning_rate=0.2, max_depth=7, n_estimators=500, random_state=101, tree_method='gpu_hist')\n",
        "}"
      ],
      "metadata": {
        "execution": {
          "iopub.status.busy": "2024-08-29T16:55:03.824654Z",
          "iopub.execute_input": "2024-08-29T16:55:03.825008Z",
          "iopub.status.idle": "2024-08-29T16:55:03.833755Z",
          "shell.execute_reply.started": "2024-08-29T16:55:03.824972Z",
          "shell.execute_reply": "2024-08-29T16:55:03.832672Z"
        },
        "trusted": true,
        "id": "AXlSIdzM6stp"
      },
      "execution_count": null,
      "outputs": []
    },
    {
      "cell_type": "code",
      "source": [
        "# Initialize a list to store accuracy scores for each classifier\n",
        "accuracy_scores = []\n",
        "\n",
        "# Iterate over each classifier and its name in the classifiers dictionary\n",
        "for name, clf in classifiers.items():\n",
        "    clf.fit(X_train_resampled, y_train_resampled)\n",
        "    y_pred = clf.predict(X_test_combined)\n",
        "    accuracy = accuracy_score(y_test, y_pred)\n",
        "\n",
        "    print(\"\\n\")\n",
        "    print(\"For\", name)\n",
        "    print(\"Accuracy:\", accuracy)\n",
        "\n",
        "    # Compute the confusion matrix for the predictions\n",
        "    # 'lbl_enc.classes_' provides the class labels for the confusion matrix and classification report\n",
        "    labels = lbl_enc.classes_\n",
        "    conf_matrix = confusion_matrix(y_test, y_pred)\n",
        "    print(classification_report(y_test, y_pred, target_names=labels))\n",
        "\n",
        "    # Plot the confusion matrix using a heatmap\n",
        "    # Annotate each cell with the numeric value of the confusion matrix\n",
        "    sns.heatmap(conf_matrix, annot=True, fmt='d', cmap='Greens', xticklabels=labels, yticklabels=labels)\n",
        "    plt.xlabel('Predicted')  # Label for x-axis\n",
        "    plt.ylabel('Actual')     # Label for y-axis\n",
        "    plt.title(f'Confusion Matrix for {name}')  # Title for the heatmap\n",
        "    plt.show()  # Display the heatmap\n",
        "\n",
        "    # Append the accuracy score to the list\n",
        "    accuracy_scores.append(accuracy)\n"
      ],
      "metadata": {
        "execution": {
          "iopub.status.busy": "2024-08-29T16:55:03.835121Z",
          "iopub.execute_input": "2024-08-29T16:55:03.835835Z",
          "iopub.status.idle": "2024-08-29T17:09:26.709385Z",
          "shell.execute_reply.started": "2024-08-29T16:55:03.835787Z",
          "shell.execute_reply": "2024-08-29T17:09:26.708416Z"
        },
        "trusted": true,
        "id": "bRuE2_c46stq"
      },
      "execution_count": null,
      "outputs": []
    },
    {
      "cell_type": "code",
      "source": [
        "# Create a DataFrame to store classifier names and their corresponding accuracy scores\n",
        "accuracies_df = pd.DataFrame({'Classifier': classifiers.keys(), 'Accuracy': accuracy_scores}).sort_values('Accuracy', ascending=False)\n",
        "\n",
        "plt.figure(figsize=(12, 8))\n",
        "palette = dict(zip(accuracies_df['Classifier'], colors[:4]))\n",
        "\n",
        "# Create a bar plot to visualize the accuracy of each classifier\n",
        "sns.barplot(x='Classifier', y='Accuracy', data=accuracies_df, palette=palette)\n",
        "\n",
        "plt.title(\"Classifier Accuracy Comparison\")\n",
        "plt.ylim(0, 1)\n",
        "\n",
        "plt.tight_layout()\n",
        "plt.show()"
      ],
      "metadata": {
        "execution": {
          "iopub.status.busy": "2024-08-29T17:09:26.710721Z",
          "iopub.execute_input": "2024-08-29T17:09:26.711032Z",
          "iopub.status.idle": "2024-08-29T17:09:27.078399Z",
          "shell.execute_reply.started": "2024-08-29T17:09:26.710998Z",
          "shell.execute_reply": "2024-08-29T17:09:27.077349Z"
        },
        "trusted": true,
        "id": "U1uJ77RF6stq"
      },
      "execution_count": null,
      "outputs": []
    },
    {
      "cell_type": "markdown",
      "source": [
        "<div style=\"padding: 20px; border-color: #419D78; border-radius: 10px; box-shadow: 0 2px 4px 0 rgba(0, 0, 0, 0.1); border: 2px solid #419D78;\">\n",
        "    <ul style=\"font-size: 18px; font-family: 'Arial'; line-height: 1.5em; \">\n",
        "        In our project, we evaluated four models designed to handle large datasets with numerous features: <strong>Bernoulli Naive Bayes</strong>, <strong>Decision Tree</strong>, <strong>Logistic Regression</strong>, and <strong>XGBoost (XGB)</strong>. <strong>XGBoost</strong> emerged as the top performer with an <strong>accuracy of 81%</strong>. The classification report showed that the Normal state was the easiest to distinguish with an F1 score of 93, followed by Anxiety and Bipolar with F1 scores of 85. Other states also performed well, with F1 scores above 70. Although the Confusion Matrix and WordCloud analysis revealed some overlap between depression and suicidal messages, XGBoost still outperformed the other models and demonstrated superior overall performance.\n",
        "    </ul>\n",
        "</div>"
      ],
      "metadata": {
        "id": "pPAYIaxo6stq"
      }
    }
  ]
}