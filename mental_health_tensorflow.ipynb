{
 "cells": [
  {
   "cell_type": "code",
   "execution_count": 39,
   "metadata": {
    "executionInfo": {
     "elapsed": 10051,
     "status": "ok",
     "timestamp": 1731754510631,
     "user": {
      "displayName": "Didi Prasetyo",
      "userId": "16658703034574393156"
     },
     "user_tz": -420
    },
    "id": "TUY0s-BMEmzm"
   },
   "outputs": [],
   "source": [
    "import pickle\n",
    "import pandas as pd\n",
    "import numpy as np\n",
    "import tensorflow as tf\n",
    "import matplotlib.pyplot as plt"
   ]
  },
  {
   "cell_type": "markdown",
   "metadata": {
    "id": "lAEIvTEgJyXB"
   },
   "source": [
    "## Defining some useful global variables\n",
    "\n",
    "Next you will define some global variables that will be used throughout the assignment. Feel free to reference them in the upcoming exercises:\n",
    "\n",
    "- `EMBEDDING_DIM`: Dimension of the dense embedding, will be used in the embedding layer of the model. Defaults to 100.\n",
    "\n",
    "\n",
    "- `MAX_LENGTH`: Maximum length of all sequences. Defaults to 32.\n",
    "\n",
    "    \n",
    "- `TRAINING_SPLIT`: Proportion of data used for training. Defaults to 0.9\n",
    "\n",
    "- `NUM_BATCHES`: Number of batches. Defaults to 128\n",
    "\n"
   ]
  },
  {
   "cell_type": "code",
   "execution_count": 40,
   "metadata": {
    "executionInfo": {
     "elapsed": 433,
     "status": "ok",
     "timestamp": 1731754516878,
     "user": {
      "displayName": "Didi Prasetyo",
      "userId": "16658703034574393156"
     },
     "user_tz": -420
    },
    "id": "mgLHICtKEzSw"
   },
   "outputs": [],
   "source": [
    "EMBEDDING_DIM = 100\n",
    "MAX_LENGTH = 32\n",
    "TRAINING_SPLIT = 0.9\n",
    "NUM_BATCHES = 128\n",
    "TEST_SPLIT_FROM_TRAIN = 0.05"
   ]
  },
  {
   "cell_type": "markdown",
   "metadata": {
    "id": "DG9Z2oIBJ2Qe"
   },
   "source": [
    "## Import dataset and cleaning data"
   ]
  },
  {
   "cell_type": "code",
   "execution_count": 41,
   "metadata": {
    "colab": {
     "base_uri": "https://localhost:8080/",
     "height": 206
    },
    "executionInfo": {
     "elapsed": 1171,
     "status": "ok",
     "timestamp": 1731754519712,
     "user": {
      "displayName": "Didi Prasetyo",
      "userId": "16658703034574393156"
     },
     "user_tz": -420
    },
    "id": "eAkjqxr6FBHU",
    "outputId": "408237fa-8158-4d63-f899-bab2fc210273"
   },
   "outputs": [
    {
     "data": {
      "text/html": [
       "<div>\n",
       "<style scoped>\n",
       "    .dataframe tbody tr th:only-of-type {\n",
       "        vertical-align: middle;\n",
       "    }\n",
       "\n",
       "    .dataframe tbody tr th {\n",
       "        vertical-align: top;\n",
       "    }\n",
       "\n",
       "    .dataframe thead th {\n",
       "        text-align: right;\n",
       "    }\n",
       "</style>\n",
       "<table border=\"1\" class=\"dataframe\">\n",
       "  <thead>\n",
       "    <tr style=\"text-align: right;\">\n",
       "      <th></th>\n",
       "      <th>0</th>\n",
       "      <th>1</th>\n",
       "      <th>2</th>\n",
       "    </tr>\n",
       "  </thead>\n",
       "  <tbody>\n",
       "    <tr>\n",
       "      <th>0</th>\n",
       "      <td>NaN</td>\n",
       "      <td>statement</td>\n",
       "      <td>status</td>\n",
       "    </tr>\n",
       "    <tr>\n",
       "      <th>1</th>\n",
       "      <td>0.0</td>\n",
       "      <td>oh my gosh</td>\n",
       "      <td>Anxiety</td>\n",
       "    </tr>\n",
       "    <tr>\n",
       "      <th>2</th>\n",
       "      <td>1.0</td>\n",
       "      <td>trouble sleeping, confused mind, restless hear...</td>\n",
       "      <td>Anxiety</td>\n",
       "    </tr>\n",
       "    <tr>\n",
       "      <th>3</th>\n",
       "      <td>2.0</td>\n",
       "      <td>All wrong, back off dear, forward doubt. Stay ...</td>\n",
       "      <td>Anxiety</td>\n",
       "    </tr>\n",
       "    <tr>\n",
       "      <th>4</th>\n",
       "      <td>3.0</td>\n",
       "      <td>I've shifted my focus to something else but I'...</td>\n",
       "      <td>Anxiety</td>\n",
       "    </tr>\n",
       "  </tbody>\n",
       "</table>\n",
       "</div>"
      ],
      "text/plain": [
       "     0                                                  1        2\n",
       "0  NaN                                          statement   status\n",
       "1  0.0                                         oh my gosh  Anxiety\n",
       "2  1.0  trouble sleeping, confused mind, restless hear...  Anxiety\n",
       "3  2.0  All wrong, back off dear, forward doubt. Stay ...  Anxiety\n",
       "4  3.0  I've shifted my focus to something else but I'...  Anxiety"
      ]
     },
     "execution_count": 41,
     "metadata": {},
     "output_type": "execute_result"
    }
   ],
   "source": [
    "data_path = \"./data/mental_health_conversations.csv\"\n",
    "df = pd.read_csv(data_path, header=None)\n",
    "df.head()"
   ]
  },
  {
   "cell_type": "code",
   "execution_count": 42,
   "metadata": {
    "colab": {
     "base_uri": "https://localhost:8080/",
     "height": 1000
    },
    "executionInfo": {
     "elapsed": 441,
     "status": "ok",
     "timestamp": 1731754521798,
     "user": {
      "displayName": "Didi Prasetyo",
      "userId": "16658703034574393156"
     },
     "user_tz": -420
    },
    "id": "wz9ng_7RFMUN",
    "outputId": "aeb7aaac-4cf8-4a6c-b6af-6cc0da7fbd47"
   },
   "outputs": [
    {
     "data": {
      "text/html": [
       "<div>\n",
       "<style scoped>\n",
       "    .dataframe tbody tr th:only-of-type {\n",
       "        vertical-align: middle;\n",
       "    }\n",
       "\n",
       "    .dataframe tbody tr th {\n",
       "        vertical-align: top;\n",
       "    }\n",
       "\n",
       "    .dataframe thead th {\n",
       "        text-align: right;\n",
       "    }\n",
       "</style>\n",
       "<table border=\"1\" class=\"dataframe\">\n",
       "  <thead>\n",
       "    <tr style=\"text-align: right;\">\n",
       "      <th></th>\n",
       "      <th>0</th>\n",
       "      <th>1</th>\n",
       "      <th>2</th>\n",
       "    </tr>\n",
       "  </thead>\n",
       "  <tbody>\n",
       "    <tr>\n",
       "      <th>0</th>\n",
       "      <td>0.0</td>\n",
       "      <td>oh my gosh</td>\n",
       "      <td>Anxiety</td>\n",
       "    </tr>\n",
       "    <tr>\n",
       "      <th>1</th>\n",
       "      <td>1.0</td>\n",
       "      <td>trouble sleeping, confused mind, restless hear...</td>\n",
       "      <td>Anxiety</td>\n",
       "    </tr>\n",
       "    <tr>\n",
       "      <th>2</th>\n",
       "      <td>2.0</td>\n",
       "      <td>All wrong, back off dear, forward doubt. Stay ...</td>\n",
       "      <td>Anxiety</td>\n",
       "    </tr>\n",
       "    <tr>\n",
       "      <th>3</th>\n",
       "      <td>3.0</td>\n",
       "      <td>I've shifted my focus to something else but I'...</td>\n",
       "      <td>Anxiety</td>\n",
       "    </tr>\n",
       "    <tr>\n",
       "      <th>4</th>\n",
       "      <td>4.0</td>\n",
       "      <td>I'm restless and restless, it's been a month n...</td>\n",
       "      <td>Anxiety</td>\n",
       "    </tr>\n",
       "  </tbody>\n",
       "</table>\n",
       "</div>"
      ],
      "text/plain": [
       "     0                                                  1        2\n",
       "0  0.0                                         oh my gosh  Anxiety\n",
       "1  1.0  trouble sleeping, confused mind, restless hear...  Anxiety\n",
       "2  2.0  All wrong, back off dear, forward doubt. Stay ...  Anxiety\n",
       "3  3.0  I've shifted my focus to something else but I'...  Anxiety\n",
       "4  4.0  I'm restless and restless, it's been a month n...  Anxiety"
      ]
     },
     "execution_count": 42,
     "metadata": {},
     "output_type": "execute_result"
    }
   ],
   "source": [
    "df = df.drop(index=0)\n",
    "\n",
    "# Reset index if needed\n",
    "df.reset_index(drop=True, inplace=True)\n",
    "\n",
    "df.head()"
   ]
  },
  {
   "cell_type": "code",
   "execution_count": 43,
   "metadata": {
    "colab": {
     "base_uri": "https://localhost:8080/"
    },
    "executionInfo": {
     "elapsed": 6,
     "status": "ok",
     "timestamp": 1731754522988,
     "user": {
      "displayName": "Didi Prasetyo",
      "userId": "16658703034574393156"
     },
     "user_tz": -420
    },
    "id": "fXcnZsyAJSri",
    "outputId": "7271ca39-25c8-4038-e9e1-c9bbca822d27"
   },
   "outputs": [
    {
     "name": "stdout",
     "output_type": "stream",
     "text": [
      "<class 'pandas.core.frame.DataFrame'>\n",
      "RangeIndex: 53043 entries, 0 to 53042\n",
      "Data columns (total 3 columns):\n",
      " #   Column  Non-Null Count  Dtype  \n",
      "---  ------  --------------  -----  \n",
      " 0   0       53043 non-null  float64\n",
      " 1   1       52681 non-null  object \n",
      " 2   2       53043 non-null  object \n",
      "dtypes: float64(1), object(2)\n",
      "memory usage: 1.2+ MB\n"
     ]
    }
   ],
   "source": [
    "df.info()"
   ]
  },
  {
   "cell_type": "code",
   "execution_count": 44,
   "metadata": {
    "colab": {
     "base_uri": "https://localhost:8080/",
     "height": 178
    },
    "executionInfo": {
     "elapsed": 391,
     "status": "ok",
     "timestamp": 1731754525398,
     "user": {
      "displayName": "Didi Prasetyo",
      "userId": "16658703034574393156"
     },
     "user_tz": -420
    },
    "id": "DGYBpfmVJaxJ",
    "outputId": "b777dd99-8878-4dbd-ccd7-8199ce221d1a"
   },
   "outputs": [
    {
     "data": {
      "text/plain": [
       "0    0\n",
       "1    0\n",
       "2    0\n",
       "dtype: int64"
      ]
     },
     "execution_count": 44,
     "metadata": {},
     "output_type": "execute_result"
    }
   ],
   "source": [
    "df.dropna(inplace = True)\n",
    "df.isna().sum()"
   ]
  },
  {
   "cell_type": "code",
   "execution_count": 45,
   "metadata": {
    "colab": {
     "base_uri": "https://localhost:8080/"
    },
    "executionInfo": {
     "elapsed": 5,
     "status": "ok",
     "timestamp": 1731754526915,
     "user": {
      "displayName": "Didi Prasetyo",
      "userId": "16658703034574393156"
     },
     "user_tz": -420
    },
    "id": "QYQq4Z6-JeFw",
    "outputId": "1a5b78d1-5abf-43c4-e499-9e11613d19dd"
   },
   "outputs": [
    {
     "name": "stdout",
     "output_type": "stream",
     "text": [
      "<class 'pandas.core.frame.DataFrame'>\n",
      "Index: 52681 entries, 0 to 53042\n",
      "Data columns (total 3 columns):\n",
      " #   Column  Non-Null Count  Dtype  \n",
      "---  ------  --------------  -----  \n",
      " 0   0       52681 non-null  float64\n",
      " 1   1       52681 non-null  object \n",
      " 2   2       52681 non-null  object \n",
      "dtypes: float64(1), object(2)\n",
      "memory usage: 1.6+ MB\n"
     ]
    }
   ],
   "source": [
    "df.info()"
   ]
  },
  {
   "cell_type": "code",
   "execution_count": 46,
   "metadata": {
    "colab": {
     "base_uri": "https://localhost:8080/"
    },
    "executionInfo": {
     "elapsed": 616,
     "status": "ok",
     "timestamp": 1731754529579,
     "user": {
      "displayName": "Didi Prasetyo",
      "userId": "16658703034574393156"
     },
     "user_tz": -420
    },
    "id": "yKsrFpq9Flf_",
    "outputId": "160a5c97-0c49-43df-ea13-bd00429d06ec"
   },
   "outputs": [
    {
     "name": "stdout",
     "output_type": "stream",
     "text": [
      "['Anxiety' 'Normal' 'Depression' 'Suicidal' 'Stress' 'Bipolar'\n",
      " 'Personality disorder']\n",
      "7\n"
     ]
    }
   ],
   "source": [
    "statuses = df[2].unique()\n",
    "print(statuses)\n",
    "print(len(statuses))"
   ]
  },
  {
   "cell_type": "code",
   "execution_count": 47,
   "metadata": {
    "colab": {
     "base_uri": "https://localhost:8080/"
    },
    "executionInfo": {
     "elapsed": 461,
     "status": "ok",
     "timestamp": 1731754531634,
     "user": {
      "displayName": "Didi Prasetyo",
      "userId": "16658703034574393156"
     },
     "user_tz": -420
    },
    "id": "OhCJJQHoFJxe",
    "outputId": "3595bdbf-7afe-4ee2-f1d6-4ac7abde414a"
   },
   "outputs": [
    {
     "name": "stdout",
     "output_type": "stream",
     "text": [
      "['oh my gosh'\n",
      " 'trouble sleeping, confused mind, restless heart. All out of tune'\n",
      " 'All wrong, back off dear, forward doubt. Stay in a restless and restless place'\n",
      " \"I've shifted my focus to something else but I'm still worried\"\n",
      " \"I'm restless and restless, it's been a month now, boy. What do you mean?\"]\n",
      "[0 0 0 0 0]\n"
     ]
    }
   ],
   "source": [
    "# Standardize labels so they have\n",
    "# 'Anxiety'              => 0\n",
    "# 'Normal'               => 1\n",
    "# 'Depression'           => 2\n",
    "# 'Suicidal'             => 3\n",
    "# 'Stress'               => 4\n",
    "# 'Bipolar'              => 5\n",
    "# 'Personality disorder' => 6\n",
    "status_mapping = {\n",
    "    'Anxiety': 0,\n",
    "    'Normal': 1,\n",
    "    'Depression': 2,\n",
    "    'Suicidal': 3,\n",
    "    'Stress': 4,\n",
    "    'Bipolar': 5,\n",
    "    'Personality disorder': 6\n",
    "}\n",
    "labels = df[2].apply(lambda x: status_mapping.get(x, -1)).to_numpy()  # Default to -1 if the value is not in the mapping\n",
    "\n",
    "# Since the original dataset does not provide headers you need to index the columns by their index\n",
    "sentences = df[1].to_numpy()\n",
    "\n",
    "print(sentences[:5])\n",
    "print(labels[:5])\n"
   ]
  },
  {
   "cell_type": "code",
   "execution_count": 48,
   "metadata": {},
   "outputs": [
    {
     "name": "stdout",
     "output_type": "stream",
     "text": [
      "dataset contains 52681 examples\n",
      "\n",
      "Text of second example look like this: trouble sleeping, confused mind, restless heart. All out of tune\n",
      "\n",
      "Labels of first 5 examples look like this: [np.int64(0), np.int64(0), np.int64(0), np.int64(0), np.int64(0)]\n"
     ]
    }
   ],
   "source": [
    "# Create the dataset\n",
    "dataset = tf.data.Dataset.from_tensor_slices((sentences, labels))\n",
    "\n",
    "# Get the first 5 elements of the dataset\n",
    "examples = list(dataset.take(5))\n",
    "\n",
    "print(f\"dataset contains {len(dataset)} examples\\n\")\n",
    "\n",
    "print(f\"Text of second example look like this: {examples[1][0].numpy().decode('utf-8')}\\n\")\n",
    "print(f\"Labels of first 5 examples look like this: {[x[1].numpy() for x in examples]}\")"
   ]
  },
  {
   "cell_type": "code",
   "execution_count": 49,
   "metadata": {
    "executionInfo": {
     "elapsed": 385,
     "status": "ok",
     "timestamp": 1731754535540,
     "user": {
      "displayName": "Didi Prasetyo",
      "userId": "16658703034574393156"
     },
     "user_tz": -420
    },
    "id": "DsuTGHBrKAmz"
   },
   "outputs": [],
   "source": [
    "def train_val_test_datasets(dataset, batch_size):\n",
    "    dataset_size = len(dataset)\n",
    "    \n",
    "    dataset = dataset.shuffle(buffer_size=dataset_size, seed=42)\n",
    "\n",
    "    # Compute sizes for each split\n",
    "    train_size = int(dataset_size * TRAINING_SPLIT)\n",
    "    val_size = dataset_size - train_size\n",
    "    test_size = int(train_size * TEST_SPLIT_FROM_TRAIN)\n",
    "    adjusted_train_size = train_size - test_size\n",
    "    \n",
    "    # Split the dataset\n",
    "    train_dataset = dataset.take(adjusted_train_size)  # Remaining training data\n",
    "    test_dataset = dataset.skip(adjusted_train_size).take(test_size)  # Test data\n",
    "    val_dataset = dataset.skip(adjusted_train_size + test_size)  # Validation data\n",
    "    \n",
    "    # Batch the datasets\n",
    "    train_dataset = train_dataset.batch(batch_size)\n",
    "    test_dataset = test_dataset.batch(batch_size)\n",
    "    val_dataset = val_dataset.batch(batch_size)\n",
    "    \n",
    "    return train_dataset, val_dataset, test_dataset"
   ]
  },
  {
   "cell_type": "code",
   "execution_count": 51,
   "metadata": {
    "colab": {
     "base_uri": "https://localhost:8080/"
    },
    "executionInfo": {
     "elapsed": 3,
     "status": "ok",
     "timestamp": 1731754537211,
     "user": {
      "displayName": "Didi Prasetyo",
      "userId": "16658703034574393156"
     },
     "user_tz": -420
    },
    "id": "je7k6l19Kavp",
    "outputId": "a18034a6-ec9d-4bfa-c8e6-3472768f7088"
   },
   "outputs": [
    {
     "name": "stdout",
     "output_type": "stream",
     "text": [
      "There are 352 batches for a total of 45056 elements for training.\n",
      "\n",
      "There are 42 batches for a total of 5376 elements for validation.\n",
      "\n",
      "There are 19 batches for a total of 2432 elements for test.\n",
      "\n"
     ]
    }
   ],
   "source": [
    "train_dataset, val_dataset, test_dataset = train_val_test_datasets(dataset, NUM_BATCHES)\n",
    "\n",
    "print(f\"There are {len(train_dataset)} batches for a total of {NUM_BATCHES*len(train_dataset)} elements for training.\\n\")\n",
    "print(f\"There are {len(val_dataset)} batches for a total of {NUM_BATCHES*len(val_dataset)} elements for validation.\\n\")\n",
    "print(f\"There are {len(test_dataset)} batches for a total of {NUM_BATCHES*len(test_dataset)} elements for test.\\n\")"
   ]
  },
  {
   "cell_type": "code",
   "execution_count": 52,
   "metadata": {
    "executionInfo": {
     "elapsed": 534,
     "status": "ok",
     "timestamp": 1731754540428,
     "user": {
      "displayName": "Didi Prasetyo",
      "userId": "16658703034574393156"
     },
     "user_tz": -420
    },
    "id": "CC8DH_FtKnfW"
   },
   "outputs": [],
   "source": [
    "def fit_vectorizer(dataset):\n",
    "  vectorizer = tf.keras.layers.TextVectorization(\n",
    "      standardize='lower_and_strip_punctuation',\n",
    "      output_mode='int',\n",
    "      output_sequence_length=MAX_LENGTH\n",
    "  )\n",
    "\n",
    "  vectorizer.adapt(dataset)\n",
    "\n",
    "  return vectorizer"
   ]
  },
  {
   "cell_type": "code",
   "execution_count": 53,
   "metadata": {
    "colab": {
     "base_uri": "https://localhost:8080/"
    },
    "executionInfo": {
     "elapsed": 4094,
     "status": "ok",
     "timestamp": 1731754546164,
     "user": {
      "displayName": "Didi Prasetyo",
      "userId": "16658703034574393156"
     },
     "user_tz": -420
    },
    "id": "gwUi9Ee1K_ve",
    "outputId": "bc742fb6-da29-4fbb-d6c1-a0109a33accb"
   },
   "outputs": [
    {
     "name": "stdout",
     "output_type": "stream",
     "text": [
      "Vocabulary contains 73830 words\n",
      "\n"
     ]
    },
    {
     "name": "stderr",
     "output_type": "stream",
     "text": [
      "2024-11-17 22:17:11.190766: I tensorflow/core/framework/local_rendezvous.cc:405] Local rendezvous is aborting with status: OUT_OF_RANGE: End of sequence\n"
     ]
    }
   ],
   "source": [
    "text_only_dataset = train_dataset.map(lambda text, label: text)\n",
    "\n",
    "vectorizer = fit_vectorizer(text_only_dataset)\n",
    "\n",
    "vocab_size = vectorizer.vocabulary_size()\n",
    "\n",
    "print(f\"Vocabulary contains {vocab_size} words\\n\")"
   ]
  },
  {
   "cell_type": "code",
   "execution_count": 54,
   "metadata": {
    "executionInfo": {
     "elapsed": 3,
     "status": "ok",
     "timestamp": 1731754546164,
     "user": {
      "displayName": "Didi Prasetyo",
      "userId": "16658703034574393156"
     },
     "user_tz": -420
    },
    "id": "SRw-N3j3LK2j"
   },
   "outputs": [],
   "source": [
    "train_dataset_vectorized = train_dataset.map(lambda text, label: (vectorizer(text), label))\n",
    "val_dataset_vectorized = val_dataset.map(lambda text, label: (vectorizer(text), label))"
   ]
  },
  {
   "cell_type": "code",
   "execution_count": 55,
   "metadata": {
    "executionInfo": {
     "elapsed": 16361,
     "status": "ok",
     "timestamp": 1731754562522,
     "user": {
      "displayName": "Didi Prasetyo",
      "userId": "16658703034574393156"
     },
     "user_tz": -420
    },
    "id": "MWHsvLnqLW6N"
   },
   "outputs": [],
   "source": [
    "glove_file = './data/glove.6B.100d.txt'\n",
    "\n",
    "glove_embeddings = {}\n",
    "\n",
    "with open(glove_file) as f:\n",
    "    for line in f:\n",
    "        values = line.split()\n",
    "        word = values[0]\n",
    "        coefs = np.asarray(values[1:], dtype='float32')\n",
    "        glove_embeddings[word] = coefs"
   ]
  },
  {
   "cell_type": "code",
   "execution_count": 56,
   "metadata": {
    "colab": {
     "base_uri": "https://localhost:8080/"
    },
    "executionInfo": {
     "elapsed": 6,
     "status": "ok",
     "timestamp": 1731754562523,
     "user": {
      "displayName": "Didi Prasetyo",
      "userId": "16658703034574393156"
     },
     "user_tz": -420
    },
    "id": "QnW9r0KnLqSn",
    "outputId": "cf1009a1-f679-4180-e9b8-28582c3aaafd"
   },
   "outputs": [
    {
     "name": "stdout",
     "output_type": "stream",
     "text": [
      "Vector representation of word dog looks like this:\n",
      "\n",
      "[ 0.30817    0.30938    0.52803   -0.92543   -0.73671    0.63475\n",
      "  0.44197    0.10262   -0.09142   -0.56607   -0.5327     0.2013\n",
      "  0.7704    -0.13983    0.13727    1.1128     0.89301   -0.17869\n",
      " -0.0019722  0.57289    0.59479    0.50428   -0.28991   -1.3491\n",
      "  0.42756    1.2748    -1.1613    -0.41084    0.042804   0.54866\n",
      "  0.18897    0.3759     0.58035    0.66975    0.81156    0.93864\n",
      " -0.51005   -0.070079   0.82819   -0.35346    0.21086   -0.24412\n",
      " -0.16554   -0.78358   -0.48482    0.38968   -0.86356   -0.016391\n",
      "  0.31984   -0.49246   -0.069363   0.018869  -0.098286   1.3126\n",
      " -0.12116   -1.2399    -0.091429   0.35294    0.64645    0.089642\n",
      "  0.70294    1.1244     0.38639    0.52084    0.98787    0.79952\n",
      " -0.34625    0.14095    0.80167    0.20987   -0.86007   -0.15308\n",
      "  0.074523   0.40816    0.019208   0.51587   -0.34428   -0.24525\n",
      " -0.77984    0.27425    0.22418    0.20164    0.017431  -0.014697\n",
      " -1.0235    -0.39695   -0.0056188  0.30569    0.31748    0.021404\n",
      "  0.11837   -0.11319    0.42456    0.53405   -0.16717   -0.27185\n",
      " -0.6255     0.12883    0.62529   -0.52086  ]\n"
     ]
    }
   ],
   "source": [
    "test_word = 'dog'\n",
    "\n",
    "test_vector = glove_embeddings[test_word]\n",
    "\n",
    "print(f\"Vector representation of word {test_word} looks like this:\\n\\n{test_vector}\")"
   ]
  },
  {
   "cell_type": "code",
   "execution_count": 57,
   "metadata": {
    "colab": {
     "base_uri": "https://localhost:8080/"
    },
    "executionInfo": {
     "elapsed": 5,
     "status": "ok",
     "timestamp": 1731754562523,
     "user": {
      "displayName": "Didi Prasetyo",
      "userId": "16658703034574393156"
     },
     "user_tz": -420
    },
    "id": "KP-EjHS-L0oc",
    "outputId": "0369ad13-f11a-4108-f666-bcf5b5ba89e0"
   },
   "outputs": [
    {
     "name": "stdout",
     "output_type": "stream",
     "text": [
      "Each word vector has shape: (100,)\n"
     ]
    }
   ],
   "source": [
    "print(f\"Each word vector has shape: {test_vector.shape}\")"
   ]
  },
  {
   "cell_type": "code",
   "execution_count": 58,
   "metadata": {
    "colab": {
     "base_uri": "https://localhost:8080/"
    },
    "executionInfo": {
     "elapsed": 447,
     "status": "ok",
     "timestamp": 1731754562967,
     "user": {
      "displayName": "Didi Prasetyo",
      "userId": "16658703034574393156"
     },
     "user_tz": -420
    },
    "id": "XgYekde-L4jT",
    "outputId": "64fa243d-a4bf-474f-b0b1-e05728c48ba3"
   },
   "outputs": [
    {
     "name": "stdout",
     "output_type": "stream",
     "text": [
      "The word dog is encoded as: 690\n"
     ]
    }
   ],
   "source": [
    "word_index = {x:i for i, x in enumerate(vectorizer.get_vocabulary())}\n",
    "\n",
    "print(f\"The word dog is encoded as: {word_index['dog']}\")"
   ]
  },
  {
   "cell_type": "code",
   "execution_count": 59,
   "metadata": {
    "executionInfo": {
     "elapsed": 3,
     "status": "ok",
     "timestamp": 1731754563783,
     "user": {
      "displayName": "Didi Prasetyo",
      "userId": "16658703034574393156"
     },
     "user_tz": -420
    },
    "id": "BoZKnj3KMUI2"
   },
   "outputs": [],
   "source": [
    "embedding_matrix = np.zeros((vocab_size, EMBEDDING_DIM))\n",
    "\n",
    "for word, index in word_index.items():\n",
    "    embedding_vector = glove_embeddings.get(word)\n",
    "    if embedding_vector is not None:\n",
    "        embedding_matrix[index] = embedding_vector"
   ]
  },
  {
   "cell_type": "code",
   "execution_count": 60,
   "metadata": {
    "colab": {
     "base_uri": "https://localhost:8080/"
    },
    "executionInfo": {
     "elapsed": 5,
     "status": "ok",
     "timestamp": 1731754564987,
     "user": {
      "displayName": "Didi Prasetyo",
      "userId": "16658703034574393156"
     },
     "user_tz": -420
    },
    "id": "_KUCwYbEMd4s",
    "outputId": "cd8e8ae8-d3cb-4c46-c37f-05fe99c6ea3a"
   },
   "outputs": [
    {
     "name": "stdout",
     "output_type": "stream",
     "text": [
      "word: dog, index: 690\n",
      "\n",
      "Embedding is equal to column 690 in the embeddings_matrix: True\n"
     ]
    }
   ],
   "source": [
    "test_word = 'dog'\n",
    "\n",
    "test_word_id = word_index[test_word]\n",
    "\n",
    "test_vector_dog = glove_embeddings[test_word]\n",
    "\n",
    "test_embedding_dog = embedding_matrix[test_word_id]\n",
    "\n",
    "both_equal = np.allclose(test_vector_dog, test_embedding_dog)\n",
    "\n",
    "print(f\"word: {test_word}, index: {test_word_id}\\n\\nEmbedding is equal to column {test_word_id} in the embeddings_matrix: {both_equal}\")"
   ]
  },
  {
   "cell_type": "code",
   "execution_count": 61,
   "metadata": {
    "executionInfo": {
     "elapsed": 412,
     "status": "ok",
     "timestamp": 1731756034235,
     "user": {
      "displayName": "Didi Prasetyo",
      "userId": "16658703034574393156"
     },
     "user_tz": -420
    },
    "id": "f7X09bvmM5bh"
   },
   "outputs": [],
   "source": [
    "def create_model(vocab_size, pretrained_embeddings):\n",
    "  model = tf.keras.Sequential([\n",
    "      tf.keras.layers.Input(shape=(MAX_LENGTH,)),\n",
    "\n",
    "      tf.keras.layers.Embedding(input_dim=vocab_size, output_dim=pretrained_embeddings.shape[1]),\n",
    "\n",
    "      tf.keras.layers.LSTM(units=64, return_sequences=True),\n",
    "\n",
    "      tf.keras.layers.Dropout(0.5),\n",
    "\n",
    "      tf.keras.layers.GlobalMaxPooling1D(),\n",
    "\n",
    "      tf.keras.layers.Dense(units=64, activation='relu'),\n",
    "      tf.keras.layers.Dense(units=7, activation='softmax')\n",
    "  ])\n",
    "\n",
    "  model.compile(\n",
    "      loss='sparse_categorical_crossentropy',\n",
    "      optimizer='adam',\n",
    "      metrics=['accuracy']\n",
    "  )\n",
    "\n",
    "  return model"
   ]
  },
  {
   "cell_type": "code",
   "execution_count": 62,
   "metadata": {
    "colab": {
     "base_uri": "https://localhost:8080/",
     "height": 337
    },
    "executionInfo": {
     "elapsed": 6,
     "status": "ok",
     "timestamp": 1731756036710,
     "user": {
      "displayName": "Didi Prasetyo",
      "userId": "16658703034574393156"
     },
     "user_tz": -420
    },
    "id": "ORxrNLjiN1T-",
    "outputId": "be9e5fe7-dd5e-4c4c-a13e-652d07b078f9"
   },
   "outputs": [
    {
     "data": {
      "text/html": [
       "<pre style=\"white-space:pre;overflow-x:auto;line-height:normal;font-family:Menlo,'DejaVu Sans Mono',consolas,'Courier New',monospace\"><span style=\"font-weight: bold\">Model: \"sequential_5\"</span>\n",
       "</pre>\n"
      ],
      "text/plain": [
       "\u001b[1mModel: \"sequential_5\"\u001b[0m\n"
      ]
     },
     "metadata": {},
     "output_type": "display_data"
    },
    {
     "data": {
      "text/html": [
       "<pre style=\"white-space:pre;overflow-x:auto;line-height:normal;font-family:Menlo,'DejaVu Sans Mono',consolas,'Courier New',monospace\">┏━━━━━━━━━━━━━━━━━━━━━━━━━━━━━━━━━┳━━━━━━━━━━━━━━━━━━━━━━━━┳━━━━━━━━━━━━━━━┓\n",
       "┃<span style=\"font-weight: bold\"> Layer (type)                    </span>┃<span style=\"font-weight: bold\"> Output Shape           </span>┃<span style=\"font-weight: bold\">       Param # </span>┃\n",
       "┡━━━━━━━━━━━━━━━━━━━━━━━━━━━━━━━━━╇━━━━━━━━━━━━━━━━━━━━━━━━╇━━━━━━━━━━━━━━━┩\n",
       "│ embedding_1 (<span style=\"color: #0087ff; text-decoration-color: #0087ff\">Embedding</span>)         │ (<span style=\"color: #00d7ff; text-decoration-color: #00d7ff\">None</span>, <span style=\"color: #00af00; text-decoration-color: #00af00\">32</span>, <span style=\"color: #00af00; text-decoration-color: #00af00\">100</span>)        │     <span style=\"color: #00af00; text-decoration-color: #00af00\">7,383,000</span> │\n",
       "├─────────────────────────────────┼────────────────────────┼───────────────┤\n",
       "│ lstm_1 (<span style=\"color: #0087ff; text-decoration-color: #0087ff\">LSTM</span>)                   │ (<span style=\"color: #00d7ff; text-decoration-color: #00d7ff\">None</span>, <span style=\"color: #00af00; text-decoration-color: #00af00\">32</span>, <span style=\"color: #00af00; text-decoration-color: #00af00\">64</span>)         │        <span style=\"color: #00af00; text-decoration-color: #00af00\">42,240</span> │\n",
       "├─────────────────────────────────┼────────────────────────┼───────────────┤\n",
       "│ dropout_1 (<span style=\"color: #0087ff; text-decoration-color: #0087ff\">Dropout</span>)             │ (<span style=\"color: #00d7ff; text-decoration-color: #00d7ff\">None</span>, <span style=\"color: #00af00; text-decoration-color: #00af00\">32</span>, <span style=\"color: #00af00; text-decoration-color: #00af00\">64</span>)         │             <span style=\"color: #00af00; text-decoration-color: #00af00\">0</span> │\n",
       "├─────────────────────────────────┼────────────────────────┼───────────────┤\n",
       "│ global_max_pooling1d_1          │ (<span style=\"color: #00d7ff; text-decoration-color: #00d7ff\">None</span>, <span style=\"color: #00af00; text-decoration-color: #00af00\">64</span>)             │             <span style=\"color: #00af00; text-decoration-color: #00af00\">0</span> │\n",
       "│ (<span style=\"color: #0087ff; text-decoration-color: #0087ff\">GlobalMaxPooling1D</span>)            │                        │               │\n",
       "├─────────────────────────────────┼────────────────────────┼───────────────┤\n",
       "│ dense_2 (<span style=\"color: #0087ff; text-decoration-color: #0087ff\">Dense</span>)                 │ (<span style=\"color: #00d7ff; text-decoration-color: #00d7ff\">None</span>, <span style=\"color: #00af00; text-decoration-color: #00af00\">64</span>)             │         <span style=\"color: #00af00; text-decoration-color: #00af00\">4,160</span> │\n",
       "├─────────────────────────────────┼────────────────────────┼───────────────┤\n",
       "│ dense_3 (<span style=\"color: #0087ff; text-decoration-color: #0087ff\">Dense</span>)                 │ (<span style=\"color: #00d7ff; text-decoration-color: #00d7ff\">None</span>, <span style=\"color: #00af00; text-decoration-color: #00af00\">7</span>)              │           <span style=\"color: #00af00; text-decoration-color: #00af00\">455</span> │\n",
       "└─────────────────────────────────┴────────────────────────┴───────────────┘\n",
       "</pre>\n"
      ],
      "text/plain": [
       "┏━━━━━━━━━━━━━━━━━━━━━━━━━━━━━━━━━┳━━━━━━━━━━━━━━━━━━━━━━━━┳━━━━━━━━━━━━━━━┓\n",
       "┃\u001b[1m \u001b[0m\u001b[1mLayer (type)                   \u001b[0m\u001b[1m \u001b[0m┃\u001b[1m \u001b[0m\u001b[1mOutput Shape          \u001b[0m\u001b[1m \u001b[0m┃\u001b[1m \u001b[0m\u001b[1m      Param #\u001b[0m\u001b[1m \u001b[0m┃\n",
       "┡━━━━━━━━━━━━━━━━━━━━━━━━━━━━━━━━━╇━━━━━━━━━━━━━━━━━━━━━━━━╇━━━━━━━━━━━━━━━┩\n",
       "│ embedding_1 (\u001b[38;5;33mEmbedding\u001b[0m)         │ (\u001b[38;5;45mNone\u001b[0m, \u001b[38;5;34m32\u001b[0m, \u001b[38;5;34m100\u001b[0m)        │     \u001b[38;5;34m7,383,000\u001b[0m │\n",
       "├─────────────────────────────────┼────────────────────────┼───────────────┤\n",
       "│ lstm_1 (\u001b[38;5;33mLSTM\u001b[0m)                   │ (\u001b[38;5;45mNone\u001b[0m, \u001b[38;5;34m32\u001b[0m, \u001b[38;5;34m64\u001b[0m)         │        \u001b[38;5;34m42,240\u001b[0m │\n",
       "├─────────────────────────────────┼────────────────────────┼───────────────┤\n",
       "│ dropout_1 (\u001b[38;5;33mDropout\u001b[0m)             │ (\u001b[38;5;45mNone\u001b[0m, \u001b[38;5;34m32\u001b[0m, \u001b[38;5;34m64\u001b[0m)         │             \u001b[38;5;34m0\u001b[0m │\n",
       "├─────────────────────────────────┼────────────────────────┼───────────────┤\n",
       "│ global_max_pooling1d_1          │ (\u001b[38;5;45mNone\u001b[0m, \u001b[38;5;34m64\u001b[0m)             │             \u001b[38;5;34m0\u001b[0m │\n",
       "│ (\u001b[38;5;33mGlobalMaxPooling1D\u001b[0m)            │                        │               │\n",
       "├─────────────────────────────────┼────────────────────────┼───────────────┤\n",
       "│ dense_2 (\u001b[38;5;33mDense\u001b[0m)                 │ (\u001b[38;5;45mNone\u001b[0m, \u001b[38;5;34m64\u001b[0m)             │         \u001b[38;5;34m4,160\u001b[0m │\n",
       "├─────────────────────────────────┼────────────────────────┼───────────────┤\n",
       "│ dense_3 (\u001b[38;5;33mDense\u001b[0m)                 │ (\u001b[38;5;45mNone\u001b[0m, \u001b[38;5;34m7\u001b[0m)              │           \u001b[38;5;34m455\u001b[0m │\n",
       "└─────────────────────────────────┴────────────────────────┴───────────────┘\n"
      ]
     },
     "metadata": {},
     "output_type": "display_data"
    },
    {
     "data": {
      "text/html": [
       "<pre style=\"white-space:pre;overflow-x:auto;line-height:normal;font-family:Menlo,'DejaVu Sans Mono',consolas,'Courier New',monospace\"><span style=\"font-weight: bold\"> Total params: </span><span style=\"color: #00af00; text-decoration-color: #00af00\">7,429,855</span> (28.34 MB)\n",
       "</pre>\n"
      ],
      "text/plain": [
       "\u001b[1m Total params: \u001b[0m\u001b[38;5;34m7,429,855\u001b[0m (28.34 MB)\n"
      ]
     },
     "metadata": {},
     "output_type": "display_data"
    },
    {
     "data": {
      "text/html": [
       "<pre style=\"white-space:pre;overflow-x:auto;line-height:normal;font-family:Menlo,'DejaVu Sans Mono',consolas,'Courier New',monospace\"><span style=\"font-weight: bold\"> Trainable params: </span><span style=\"color: #00af00; text-decoration-color: #00af00\">7,429,855</span> (28.34 MB)\n",
       "</pre>\n"
      ],
      "text/plain": [
       "\u001b[1m Trainable params: \u001b[0m\u001b[38;5;34m7,429,855\u001b[0m (28.34 MB)\n"
      ]
     },
     "metadata": {},
     "output_type": "display_data"
    },
    {
     "data": {
      "text/html": [
       "<pre style=\"white-space:pre;overflow-x:auto;line-height:normal;font-family:Menlo,'DejaVu Sans Mono',consolas,'Courier New',monospace\"><span style=\"font-weight: bold\"> Non-trainable params: </span><span style=\"color: #00af00; text-decoration-color: #00af00\">0</span> (0.00 B)\n",
       "</pre>\n"
      ],
      "text/plain": [
       "\u001b[1m Non-trainable params: \u001b[0m\u001b[38;5;34m0\u001b[0m (0.00 B)\n"
      ]
     },
     "metadata": {},
     "output_type": "display_data"
    }
   ],
   "source": [
    "model = create_model(vocab_size, embedding_matrix)\n",
    "\n",
    "model.summary()"
   ]
  },
  {
   "cell_type": "code",
   "execution_count": 63,
   "metadata": {
    "colab": {
     "base_uri": "https://localhost:8080/"
    },
    "executionInfo": {
     "elapsed": 2257,
     "status": "ok",
     "timestamp": 1731756041807,
     "user": {
      "displayName": "Didi Prasetyo",
      "userId": "16658703034574393156"
     },
     "user_tz": -420
    },
    "id": "BNtt9gFmN_Xs",
    "outputId": "1d80cd1d-55d0-4854-9bd5-06635d3a6f01"
   },
   "outputs": [
    {
     "name": "stdout",
     "output_type": "stream",
     "text": [
      "predictions have shape: (128, 7)\n"
     ]
    }
   ],
   "source": [
    "# Take an example batch of data\n",
    "example_batch = train_dataset_vectorized.take(1)\n",
    "\n",
    "try:\n",
    "\tmodel.evaluate(example_batch, verbose=False)\n",
    "except:\n",
    "\tprint(\"Your model is not compatible with the dataset you defined earlier. Check that the loss function and last layer are compatible with one another.\")\n",
    "else:\n",
    "\tpredictions = model.predict(example_batch, verbose=False)\n",
    "\tprint(f\"predictions have shape: {predictions.shape}\")"
   ]
  },
  {
   "cell_type": "code",
   "execution_count": 64,
   "metadata": {
    "executionInfo": {
     "elapsed": 3,
     "status": "ok",
     "timestamp": 1731756041807,
     "user": {
      "displayName": "Didi Prasetyo",
      "userId": "16658703034574393156"
     },
     "user_tz": -420
    },
    "id": "snvvHDmnPB1q"
   },
   "outputs": [],
   "source": [
    "early_stopping = tf.keras.callbacks.EarlyStopping(\n",
    "    monitor='val_accuracy',\n",
    "    min_delta=0.001,\n",
    "    patience=3,\n",
    "    verbose=1,\n",
    "    mode='auto',\n",
    "    baseline=0.90,\n",
    ")"
   ]
  },
  {
   "cell_type": "code",
   "execution_count": 65,
   "metadata": {
    "colab": {
     "base_uri": "https://localhost:8080/"
    },
    "executionInfo": {
     "elapsed": 716921,
     "status": "ok",
     "timestamp": 1731756759223,
     "user": {
      "displayName": "Didi Prasetyo",
      "userId": "16658703034574393156"
     },
     "user_tz": -420
    },
    "id": "yvZu1b6OOK68",
    "outputId": "334633f6-73be-409b-c16c-7e800c121154"
   },
   "outputs": [
    {
     "name": "stdout",
     "output_type": "stream",
     "text": [
      "Epoch 1/10\n",
      "\u001b[1m352/352\u001b[0m \u001b[32m━━━━━━━━━━━━━━━━━━━━\u001b[0m\u001b[37m\u001b[0m \u001b[1m37s\u001b[0m 101ms/step - accuracy: 0.5477 - loss: 1.2419 - val_accuracy: 0.7100 - val_loss: 0.9208\n",
      "Epoch 2/10\n",
      "\u001b[1m352/352\u001b[0m \u001b[32m━━━━━━━━━━━━━━━━━━━━\u001b[0m\u001b[37m\u001b[0m \u001b[1m35s\u001b[0m 98ms/step - accuracy: 0.7371 - loss: 0.6882 - val_accuracy: 0.8003 - val_loss: 0.7112\n",
      "Epoch 3/10\n",
      "\u001b[1m352/352\u001b[0m \u001b[32m━━━━━━━━━━━━━━━━━━━━\u001b[0m\u001b[37m\u001b[0m \u001b[1m36s\u001b[0m 102ms/step - accuracy: 0.8030 - loss: 0.5277 - val_accuracy: 0.8501 - val_loss: 0.5767\n",
      "Epoch 4/10\n",
      "\u001b[1m352/352\u001b[0m \u001b[32m━━━━━━━━━━━━━━━━━━━━\u001b[0m\u001b[37m\u001b[0m \u001b[1m36s\u001b[0m 101ms/step - accuracy: 0.8420 - loss: 0.4205 - val_accuracy: 0.8744 - val_loss: 0.4948\n",
      "Epoch 5/10\n",
      "\u001b[1m352/352\u001b[0m \u001b[32m━━━━━━━━━━━━━━━━━━━━\u001b[0m\u001b[37m\u001b[0m \u001b[1m35s\u001b[0m 99ms/step - accuracy: 0.8736 - loss: 0.3462 - val_accuracy: 0.8913 - val_loss: 0.4134\n",
      "Epoch 6/10\n",
      "\u001b[1m352/352\u001b[0m \u001b[32m━━━━━━━━━━━━━━━━━━━━\u001b[0m\u001b[37m\u001b[0m \u001b[1m35s\u001b[0m 99ms/step - accuracy: 0.8911 - loss: 0.2893 - val_accuracy: 0.9224 - val_loss: 0.3458\n",
      "Epoch 7/10\n",
      "\u001b[1m352/352\u001b[0m \u001b[32m━━━━━━━━━━━━━━━━━━━━\u001b[0m\u001b[37m\u001b[0m \u001b[1m36s\u001b[0m 102ms/step - accuracy: 0.9063 - loss: 0.2501 - val_accuracy: 0.9188 - val_loss: 0.3218\n",
      "Epoch 8/10\n",
      "\u001b[1m352/352\u001b[0m \u001b[32m━━━━━━━━━━━━━━━━━━━━\u001b[0m\u001b[37m\u001b[0m \u001b[1m35s\u001b[0m 100ms/step - accuracy: 0.9189 - loss: 0.2126 - val_accuracy: 0.9374 - val_loss: 0.2738\n",
      "Epoch 9/10\n",
      "\u001b[1m352/352\u001b[0m \u001b[32m━━━━━━━━━━━━━━━━━━━━\u001b[0m\u001b[37m\u001b[0m \u001b[1m36s\u001b[0m 101ms/step - accuracy: 0.9260 - loss: 0.1945 - val_accuracy: 0.9474 - val_loss: 0.2286\n",
      "Epoch 10/10\n",
      "\u001b[1m352/352\u001b[0m \u001b[32m━━━━━━━━━━━━━━━━━━━━\u001b[0m\u001b[37m\u001b[0m \u001b[1m42s\u001b[0m 104ms/step - accuracy: 0.9383 - loss: 0.1672 - val_accuracy: 0.9541 - val_loss: 0.2080\n"
     ]
    }
   ],
   "source": [
    "history = model.fit(\n",
    "    train_dataset_vectorized,\n",
    "    validation_data=val_dataset_vectorized,\n",
    "    epochs=10,\n",
    "    callbacks=[early_stopping]\n",
    ")"
   ]
  },
  {
   "cell_type": "code",
   "execution_count": 66,
   "metadata": {
    "colab": {
     "base_uri": "https://localhost:8080/",
     "height": 515
    },
    "executionInfo": {
     "elapsed": 491,
     "status": "ok",
     "timestamp": 1731756759710,
     "user": {
      "displayName": "Didi Prasetyo",
      "userId": "16658703034574393156"
     },
     "user_tz": -420
    },
    "id": "HbfC98HjOSNo",
    "outputId": "93509772-4a06-4f50-a45a-f4e32b7a0695"
   },
   "outputs": [
    {
     "data": {
      "image/png": "[encoded data removed]",
      "text/plain": [
       "<Figure size 1000x500 with 2 Axes>"
      ]
     },
     "metadata": {},
     "output_type": "display_data"
    }
   ],
   "source": [
    "# Get training and validation accuracies\n",
    "acc = history.history['accuracy']\n",
    "val_acc = history.history['val_accuracy']\n",
    "loss = history.history['loss']\n",
    "val_loss = history.history['val_loss']\n",
    "\n",
    "# Get number of epochs\n",
    "epochs = range(len(acc))\n",
    "\n",
    "fig, ax = plt.subplots(1, 2, figsize=(10, 5))\n",
    "fig.suptitle('Training and validation performance')\n",
    "\n",
    "for i, (data, label) in enumerate(zip([(acc, val_acc), (loss, val_loss)], [\"Accuracy\", \"Loss\"])):\n",
    "    ax[i].plot(epochs, data[0], 'r', label=\"Training \" + label)\n",
    "    ax[i].plot(epochs, data[1], 'b', label=\"Validation \" + label)\n",
    "    ax[i].legend()\n",
    "    ax[i].set_xlabel('epochs')"
   ]
  },
  {
   "cell_type": "code",
   "execution_count": 67,
   "metadata": {},
   "outputs": [],
   "source": [
    "embedding = model.layers[0]\n",
    "\n",
    "with open('./metadata.tsv', \"w\") as f:\n",
    "    for word in vectorizer.get_vocabulary():\n",
    "        f.write(\"{}\\n\".format(word))\n",
    "weights = tf.Variable(embedding.get_weights()[0][1:])\n",
    "\n",
    "with open('./weights.tsv', 'w') as f: \n",
    "    for w in weights:\n",
    "        f.write('\\t'.join([str(x) for x in w.numpy()]) + \"\\n\")"
   ]
  },
  {
   "cell_type": "markdown",
   "metadata": {
    "id": "sZtPB7ZqwL2O"
   },
   "source": [
    "## Save Model"
   ]
  },
  {
   "cell_type": "code",
   "execution_count": 82,
   "metadata": {},
   "outputs": [
    {
     "name": "stdout",
     "output_type": "stream",
     "text": [
      "\u001b[1m19/19\u001b[0m \u001b[32m━━━━━━━━━━━━━━━━━━━━\u001b[0m\u001b[37m\u001b[0m \u001b[1m1s\u001b[0m 12ms/step - accuracy: 0.9615 - loss: 1.2924\n",
      "{'accuracy': 0.9561181664466858, 'loss': 1.2954422235488892}\n"
     ]
    }
   ],
   "source": [
    "export_model = tf.keras.Sequential([\n",
    "    vectorizer,  \n",
    "    model,       \n",
    "    tf.keras.layers.Activation('softmax')  \n",
    "])\n",
    "\n",
    "export_model.compile(\n",
    "    loss='sparse_categorical_crossentropy',\n",
    "    optimizer='adam',\n",
    "    metrics=['accuracy']\n",
    ")\n",
    "\n",
    "metrics = export_model.evaluate(test_dataset, return_dict=True)\n",
    "print(metrics)\n"
   ]
  },
  {
   "cell_type": "code",
   "execution_count": 84,
   "metadata": {},
   "outputs": [],
   "source": [
    "export_model.save('mental_health_1.keras')"
   ]
  },
  {
   "cell_type": "markdown",
   "metadata": {
    "id": "naM63fVRwQYV"
   },
   "source": [
    "## Load Model"
   ]
  },
  {
   "cell_type": "code",
   "execution_count": 85,
   "metadata": {},
   "outputs": [],
   "source": [
    "laoded_model_w_vectorizer = tf.keras.models.load_model('mental_health_1.keras') "
   ]
  },
  {
   "cell_type": "code",
   "execution_count": 88,
   "metadata": {},
   "outputs": [
    {
     "name": "stdout",
     "output_type": "stream",
     "text": [
      "WARNING:tensorflow:5 out of the last 5 calls to <function TensorFlowTrainer.make_predict_function.<locals>.one_step_on_data_distributed at 0x7ec104eae710> triggered tf.function retracing. Tracing is expensive and the excessive number of tracings could be due to (1) creating @tf.function repeatedly in a loop, (2) passing tensors with different shapes, (3) passing Python objects instead of tensors. For (1), please define your @tf.function outside of the loop. For (2), @tf.function has reduce_retracing=True option that can avoid unnecessary retracing. For (3), please refer to https://www.tensorflow.org/guide/function#controlling_retracing and https://www.tensorflow.org/api_docs/python/tf/function for  more details.\n",
      "\u001b[1m1/1\u001b[0m \u001b[32m━━━━━━━━━━━━━━━━━━━━\u001b[0m\u001b[37m\u001b[0m \u001b[1m0s\u001b[0m 327ms/step\n",
      "[[0.12692891 0.2034111  0.15918693 0.14062956 0.12257385 0.12352672\n",
      "  0.12374286]\n",
      " [0.12658808 0.15699284 0.13776773 0.18473192 0.14716733 0.12371923\n",
      "  0.12303288]\n",
      " [0.30882826 0.11531006 0.11544034 0.11498075 0.11511104 0.11528845\n",
      "  0.11504119]\n",
      " [0.30793095 0.11534283 0.11548921 0.11505511 0.11537977 0.11555631\n",
      "  0.11524576]]\n",
      "Predicted class: Normal\n",
      "Predicted class: Suicidal\n",
      "Predicted class: Anxiety\n",
      "Predicted class: Anxiety\n"
     ]
    }
   ],
   "source": [
    "new_texts = [\n",
    "    \"I am feeling great today!\", \n",
    "    \"I am so stressed out\",\n",
    "    \"It just felt like a storm, rumbling, boisterous, restless and quite stifling.\",\n",
    "    \"It's been a long time since I've been here, I'm suddenly restless + crazy chest pain\",\n",
    "]\n",
    "new_texts_tensor = tf.convert_to_tensor(new_texts)\n",
    "\n",
    "predictions = laoded_model_w_vectorizer.predict(new_texts_tensor)\n",
    "print(predictions)\n",
    "\n",
    "class_labels = ['Anxiety', 'Normal', 'Depression', 'Suicidal', 'Stress', 'Bipolar', 'Personality disorder']\n",
    "\n",
    "for pred in predictions:\n",
    "  predicted_class = np.argmax(pred, axis=-1)\n",
    "  predicted_label = class_labels[predicted_class]\n",
    "\n",
    "  print(f\"Predicted class: {predicted_label}\")"
   ]
  },
  {
   "cell_type": "markdown",
   "metadata": {
    "id": "dQ-ttpE3xMV4"
   },
   "source": [
    "# Sandbox"
   ]
  },
  {
   "cell_type": "code",
   "execution_count": null,
   "metadata": {},
   "outputs": [],
   "source": []
  },
  {
   "cell_type": "code",
   "execution_count": 31,
   "metadata": {
    "executionInfo": {
     "elapsed": 2476,
     "status": "ok",
     "timestamp": 1731755567606,
     "user": {
      "displayName": "Didi Prasetyo",
      "userId": "16658703034574393156"
     },
     "user_tz": -420
    },
    "id": "gY-tGx6vQnXm"
   },
   "outputs": [],
   "source": [
    "tf.saved_model.save(vectorizer, 'saved_vectorizer')"
   ]
  },
  {
   "cell_type": "code",
   "execution_count": null,
   "metadata": {
    "id": "SekwZa1_mOzH"
   },
   "outputs": [],
   "source": [
    "from tensorflow.keras.models import load_model\n"
   ]
  },
  {
   "cell_type": "code",
   "execution_count": 32,
   "metadata": {
    "colab": {
     "base_uri": "https://localhost:8080/"
    },
    "executionInfo": {
     "elapsed": 632,
     "status": "ok",
     "timestamp": 1731757913770,
     "user": {
      "displayName": "Didi Prasetyo",
      "userId": "16658703034574393156"
     },
     "user_tz": -420
    },
    "id": "DCxhxbayVoK7",
    "outputId": "c48cd7f1-e973-471f-f271-58de3d5b2f8f"
   },
   "outputs": [
    {
     "name": "stdout",
     "output_type": "stream",
     "text": [
      "tf.Tensor(\n",
      "[[    8    20   183    24     7  3602 14814 30269  1235     4   555 14695\n",
      "      0     0     0     0     0     0     0     0     0     0     0     0\n",
      "      0     0     0     0     0     0     0     0]], shape=(1, 32), dtype=int64)\n",
      "[[    8    20   183    24     7  3602 14814 30269  1235     4   555 14695\n",
      "      0     0     0     0     0     0     0     0     0     0     0     0\n",
      "      0     0     0     0     0     0     0     0]]\n",
      "\u001b[1m1/1\u001b[0m \u001b[32m━━━━━━━━━━━━━━━━━━━━\u001b[0m\u001b[37m\u001b[0m \u001b[1m0s\u001b[0m 206ms/step\n",
      "[[9.0805340e-01 1.6861863e-02 3.3201877e-02 1.8387825e-04 9.0832701e-03\n",
      "  3.1404737e-02 1.2110438e-03]]\n",
      "Predicted class: Anxiety\n"
     ]
    }
   ],
   "source": [
    "test_text = \"It just felt like a storm, rumbling, boisterous, restless and quite stifling.\"\n",
    "\n",
    "token_list = vectorizer([test_text])\n",
    "print(token_list)\n",
    "\n",
    "token_list = tf.keras.utils.pad_sequences(token_list, maxlen=MAX_LENGTH, padding='pre')\n",
    "print(token_list)\n",
    "\n",
    "predictions = model.predict(token_list)\n",
    "print(predictions)\n",
    "\n",
    "predicted_class = np.argmax(predictions, axis=-1)\n",
    "\n",
    "class_labels = ['Anxiety', 'Normal', 'Depression', 'Suicidal', 'Stress', 'Bipolar', 'Personality disorder']\n",
    "\n",
    "predicted_label = class_labels[predicted_class[0]]\n",
    "\n",
    "print(f\"Predicted class: {predicted_label}\")\n"
   ]
  },
  {
   "cell_type": "code",
   "execution_count": null,
   "metadata": {},
   "outputs": [],
   "source": []
  }
 ],
 "metadata": {
  "colab": {
   "authorship_tag": "ABX9TyOWkaIzt/gQlSyAodjgyz2M",
   "mount_file_id": "1ntTNUGi1MwcYNndVjJEmtKQMjx4ipIjD",
   "provenance": []
  },
  "kernelspec": {
   "display_name": "Python 3 (ipykernel)",
   "language": "python",
   "name": "python3"
  },
  "language_info": {
   "codemirror_mode": {
    "name": "ipython",
    "version": 3
   },
   "file_extension": ".py",
   "mimetype": "text/x-python",
   "name": "python",
   "nbconvert_exporter": "python",
   "pygments_lexer": "ipython3",
   "version": "3.10.12"
  }
 },
 "nbformat": 4,
 "nbformat_minor": 4
}
