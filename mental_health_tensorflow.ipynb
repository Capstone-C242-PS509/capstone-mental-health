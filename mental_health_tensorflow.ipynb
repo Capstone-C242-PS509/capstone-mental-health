{
  "cells": [
    {
      "cell_type": "code",
      "execution_count": 2,
      "metadata": {
        "id": "TUY0s-BMEmzm"
      },
      "outputs": [],
      "source": [
        "import pandas as pd\n",
        "import numpy as np\n",
        "import tensorflow as tf\n",
        "import matplotlib.pyplot as plt"
      ]
    },
    {
      "cell_type": "code",
      "source": [
        "from google.colab import drive\n",
        "drive.mount('/content/drive')"
      ],
      "metadata": {
        "colab": {
          "base_uri": "https://localhost:8080/"
        },
        "id": "5hVVfI3TZYkz",
        "outputId": "cf995fef-71f4-4bac-960e-4293dd852e57"
      },
      "execution_count": 1,
      "outputs": [
        {
          "output_type": "stream",
          "name": "stdout",
          "text": [
            "Mounted at /content/drive\n"
          ]
        }
      ]
    },
    {
      "cell_type": "markdown",
      "metadata": {
        "id": "lAEIvTEgJyXB"
      },
      "source": [
        "## Defining some useful global variables\n",
        "\n",
        "Next you will define some global variables that will be used throughout the assignment. Feel free to reference them in the upcoming exercises:\n",
        "\n",
        "- `EMBEDDING_DIM`: Dimension of the dense embedding, will be used in the embedding layer of the model. Defaults to 100.\n",
        "\n",
        "\n",
        "- `MAX_LENGTH`: Maximum length of all sequences. Defaults to 32.\n",
        "\n",
        "    \n",
        "- `TRAINING_SPLIT`: Proportion of data used for training. Defaults to 0.9\n",
        "\n",
        "- `NUM_BATCHES`: Number of batches. Defaults to 128\n",
        "\n"
      ]
    },
    {
      "cell_type": "code",
      "execution_count": 3,
      "metadata": {
        "id": "mgLHICtKEzSw"
      },
      "outputs": [],
      "source": [
        "EMBEDDING_DIM = 100\n",
        "MAX_LENGTH = 32\n",
        "TRAINING_SPLIT = 0.9\n",
        "NUM_BATCHES = 128\n",
        "TEST_SPLIT_FROM_TRAIN = 0.05"
      ]
    },
    {
      "cell_type": "markdown",
      "metadata": {
        "id": "DG9Z2oIBJ2Qe"
      },
      "source": [
        "## Import dataset and cleaning data"
      ]
    },
    {
      "cell_type": "code",
      "execution_count": 4,
      "metadata": {
        "colab": {
          "base_uri": "https://localhost:8080/",
          "height": 206
        },
        "id": "eAkjqxr6FBHU",
        "outputId": "a88abac2-0e59-42bd-99b1-8dc01961e518"
      },
      "outputs": [
        {
          "output_type": "execute_result",
          "data": {
            "text/plain": [
              "     0                                                  1        2\n",
              "0  NaN                                          statement   status\n",
              "1  0.0                                         oh my gosh  Anxiety\n",
              "2  1.0  trouble sleeping, confused mind, restless hear...  Anxiety\n",
              "3  2.0  All wrong, back off dear, forward doubt. Stay ...  Anxiety\n",
              "4  3.0  I've shifted my focus to something else but I'...  Anxiety"
            ],
            "text/html": [
              "\n",
              "  <div id=\"df-aa3dcb24-90b0-4d0d-a58a-7449876a70da\" class=\"colab-df-container\">\n",
              "    <div>\n",
              "<style scoped>\n",
              "    .dataframe tbody tr th:only-of-type {\n",
              "        vertical-align: middle;\n",
              "    }\n",
              "\n",
              "    .dataframe tbody tr th {\n",
              "        vertical-align: top;\n",
              "    }\n",
              "\n",
              "    .dataframe thead th {\n",
              "        text-align: right;\n",
              "    }\n",
              "</style>\n",
              "<table border=\"1\" class=\"dataframe\">\n",
              "  <thead>\n",
              "    <tr style=\"text-align: right;\">\n",
              "      <th></th>\n",
              "      <th>0</th>\n",
              "      <th>1</th>\n",
              "      <th>2</th>\n",
              "    </tr>\n",
              "  </thead>\n",
              "  <tbody>\n",
              "    <tr>\n",
              "      <th>0</th>\n",
              "      <td>NaN</td>\n",
              "      <td>statement</td>\n",
              "      <td>status</td>\n",
              "    </tr>\n",
              "    <tr>\n",
              "      <th>1</th>\n",
              "      <td>0.0</td>\n",
              "      <td>oh my gosh</td>\n",
              "      <td>Anxiety</td>\n",
              "    </tr>\n",
              "    <tr>\n",
              "      <th>2</th>\n",
              "      <td>1.0</td>\n",
              "      <td>trouble sleeping, confused mind, restless hear...</td>\n",
              "      <td>Anxiety</td>\n",
              "    </tr>\n",
              "    <tr>\n",
              "      <th>3</th>\n",
              "      <td>2.0</td>\n",
              "      <td>All wrong, back off dear, forward doubt. Stay ...</td>\n",
              "      <td>Anxiety</td>\n",
              "    </tr>\n",
              "    <tr>\n",
              "      <th>4</th>\n",
              "      <td>3.0</td>\n",
              "      <td>I've shifted my focus to something else but I'...</td>\n",
              "      <td>Anxiety</td>\n",
              "    </tr>\n",
              "  </tbody>\n",
              "</table>\n",
              "</div>\n",
              "    <div class=\"colab-df-buttons\">\n",
              "\n",
              "  <div class=\"colab-df-container\">\n",
              "    <button class=\"colab-df-convert\" onclick=\"convertToInteractive('df-aa3dcb24-90b0-4d0d-a58a-7449876a70da')\"\n",
              "            title=\"Convert this dataframe to an interactive table.\"\n",
              "            style=\"display:none;\">\n",
              "\n",
              "  <svg xmlns=\"http://www.w3.org/2000/svg\" height=\"24px\" viewBox=\"0 -960 960 960\">\n",
              "    <path d=\"M120-120v-720h720v720H120Zm60-500h600v-160H180v160Zm220 220h160v-160H400v160Zm0 220h160v-160H400v160ZM180-400h160v-160H180v160Zm440 0h160v-160H620v160ZM180-180h160v-160H180v160Zm440 0h160v-160H620v160Z\"/>\n",
              "  </svg>\n",
              "    </button>\n",
              "\n",
              "  <style>\n",
              "    .colab-df-container {\n",
              "      display:flex;\n",
              "      gap: 12px;\n",
              "    }\n",
              "\n",
              "    .colab-df-convert {\n",
              "      background-color: #E8F0FE;\n",
              "      border: none;\n",
              "      border-radius: 50%;\n",
              "      cursor: pointer;\n",
              "      display: none;\n",
              "      fill: #1967D2;\n",
              "      height: 32px;\n",
              "      padding: 0 0 0 0;\n",
              "      width: 32px;\n",
              "    }\n",
              "\n",
              "    .colab-df-convert:hover {\n",
              "      background-color: #E2EBFA;\n",
              "      box-shadow: 0px 1px 2px rgba(60, 64, 67, 0.3), 0px 1px 3px 1px rgba(60, 64, 67, 0.15);\n",
              "      fill: #174EA6;\n",
              "    }\n",
              "\n",
              "    .colab-df-buttons div {\n",
              "      margin-bottom: 4px;\n",
              "    }\n",
              "\n",
              "    [theme=dark] .colab-df-convert {\n",
              "      background-color: #3B4455;\n",
              "      fill: #D2E3FC;\n",
              "    }\n",
              "\n",
              "    [theme=dark] .colab-df-convert:hover {\n",
              "      background-color: #434B5C;\n",
              "      box-shadow: 0px 1px 3px 1px rgba(0, 0, 0, 0.15);\n",
              "      filter: drop-shadow(0px 1px 2px rgba(0, 0, 0, 0.3));\n",
              "      fill: #FFFFFF;\n",
              "    }\n",
              "  </style>\n",
              "\n",
              "    <script>\n",
              "      const buttonEl =\n",
              "        document.querySelector('#df-aa3dcb24-90b0-4d0d-a58a-7449876a70da button.colab-df-convert');\n",
              "      buttonEl.style.display =\n",
              "        google.colab.kernel.accessAllowed ? 'block' : 'none';\n",
              "\n",
              "      async function convertToInteractive(key) {\n",
              "        const element = document.querySelector('#df-aa3dcb24-90b0-4d0d-a58a-7449876a70da');\n",
              "        const dataTable =\n",
              "          await google.colab.kernel.invokeFunction('convertToInteractive',\n",
              "                                                    [key], {});\n",
              "        if (!dataTable) return;\n",
              "\n",
              "        const docLinkHtml = 'Like what you see? Visit the ' +\n",
              "          '<a target=\"_blank\" href=https://colab.research.google.com/notebooks/data_table.ipynb>data table notebook</a>'\n",
              "          + ' to learn more about interactive tables.';\n",
              "        element.innerHTML = '';\n",
              "        dataTable['output_type'] = 'display_data';\n",
              "        await google.colab.output.renderOutput(dataTable, element);\n",
              "        const docLink = document.createElement('div');\n",
              "        docLink.innerHTML = docLinkHtml;\n",
              "        element.appendChild(docLink);\n",
              "      }\n",
              "    </script>\n",
              "  </div>\n",
              "\n",
              "\n",
              "<div id=\"df-c65c96f5-46c3-4c4b-8ed5-0a4fc26acc8f\">\n",
              "  <button class=\"colab-df-quickchart\" onclick=\"quickchart('df-c65c96f5-46c3-4c4b-8ed5-0a4fc26acc8f')\"\n",
              "            title=\"Suggest charts\"\n",
              "            style=\"display:none;\">\n",
              "\n",
              "<svg xmlns=\"http://www.w3.org/2000/svg\" height=\"24px\"viewBox=\"0 0 24 24\"\n",
              "     width=\"24px\">\n",
              "    <g>\n",
              "        <path d=\"M19 3H5c-1.1 0-2 .9-2 2v14c0 1.1.9 2 2 2h14c1.1 0 2-.9 2-2V5c0-1.1-.9-2-2-2zM9 17H7v-7h2v7zm4 0h-2V7h2v10zm4 0h-2v-4h2v4z\"/>\n",
              "    </g>\n",
              "</svg>\n",
              "  </button>\n",
              "\n",
              "<style>\n",
              "  .colab-df-quickchart {\n",
              "      --bg-color: #E8F0FE;\n",
              "      --fill-color: #1967D2;\n",
              "      --hover-bg-color: #E2EBFA;\n",
              "      --hover-fill-color: #174EA6;\n",
              "      --disabled-fill-color: #AAA;\n",
              "      --disabled-bg-color: #DDD;\n",
              "  }\n",
              "\n",
              "  [theme=dark] .colab-df-quickchart {\n",
              "      --bg-color: #3B4455;\n",
              "      --fill-color: #D2E3FC;\n",
              "      --hover-bg-color: #434B5C;\n",
              "      --hover-fill-color: #FFFFFF;\n",
              "      --disabled-bg-color: #3B4455;\n",
              "      --disabled-fill-color: #666;\n",
              "  }\n",
              "\n",
              "  .colab-df-quickchart {\n",
              "    background-color: var(--bg-color);\n",
              "    border: none;\n",
              "    border-radius: 50%;\n",
              "    cursor: pointer;\n",
              "    display: none;\n",
              "    fill: var(--fill-color);\n",
              "    height: 32px;\n",
              "    padding: 0;\n",
              "    width: 32px;\n",
              "  }\n",
              "\n",
              "  .colab-df-quickchart:hover {\n",
              "    background-color: var(--hover-bg-color);\n",
              "    box-shadow: 0 1px 2px rgba(60, 64, 67, 0.3), 0 1px 3px 1px rgba(60, 64, 67, 0.15);\n",
              "    fill: var(--button-hover-fill-color);\n",
              "  }\n",
              "\n",
              "  .colab-df-quickchart-complete:disabled,\n",
              "  .colab-df-quickchart-complete:disabled:hover {\n",
              "    background-color: var(--disabled-bg-color);\n",
              "    fill: var(--disabled-fill-color);\n",
              "    box-shadow: none;\n",
              "  }\n",
              "\n",
              "  .colab-df-spinner {\n",
              "    border: 2px solid var(--fill-color);\n",
              "    border-color: transparent;\n",
              "    border-bottom-color: var(--fill-color);\n",
              "    animation:\n",
              "      spin 1s steps(1) infinite;\n",
              "  }\n",
              "\n",
              "  @keyframes spin {\n",
              "    0% {\n",
              "      border-color: transparent;\n",
              "      border-bottom-color: var(--fill-color);\n",
              "      border-left-color: var(--fill-color);\n",
              "    }\n",
              "    20% {\n",
              "      border-color: transparent;\n",
              "      border-left-color: var(--fill-color);\n",
              "      border-top-color: var(--fill-color);\n",
              "    }\n",
              "    30% {\n",
              "      border-color: transparent;\n",
              "      border-left-color: var(--fill-color);\n",
              "      border-top-color: var(--fill-color);\n",
              "      border-right-color: var(--fill-color);\n",
              "    }\n",
              "    40% {\n",
              "      border-color: transparent;\n",
              "      border-right-color: var(--fill-color);\n",
              "      border-top-color: var(--fill-color);\n",
              "    }\n",
              "    60% {\n",
              "      border-color: transparent;\n",
              "      border-right-color: var(--fill-color);\n",
              "    }\n",
              "    80% {\n",
              "      border-color: transparent;\n",
              "      border-right-color: var(--fill-color);\n",
              "      border-bottom-color: var(--fill-color);\n",
              "    }\n",
              "    90% {\n",
              "      border-color: transparent;\n",
              "      border-bottom-color: var(--fill-color);\n",
              "    }\n",
              "  }\n",
              "</style>\n",
              "\n",
              "  <script>\n",
              "    async function quickchart(key) {\n",
              "      const quickchartButtonEl =\n",
              "        document.querySelector('#' + key + ' button');\n",
              "      quickchartButtonEl.disabled = true;  // To prevent multiple clicks.\n",
              "      quickchartButtonEl.classList.add('colab-df-spinner');\n",
              "      try {\n",
              "        const charts = await google.colab.kernel.invokeFunction(\n",
              "            'suggestCharts', [key], {});\n",
              "      } catch (error) {\n",
              "        console.error('Error during call to suggestCharts:', error);\n",
              "      }\n",
              "      quickchartButtonEl.classList.remove('colab-df-spinner');\n",
              "      quickchartButtonEl.classList.add('colab-df-quickchart-complete');\n",
              "    }\n",
              "    (() => {\n",
              "      let quickchartButtonEl =\n",
              "        document.querySelector('#df-c65c96f5-46c3-4c4b-8ed5-0a4fc26acc8f button');\n",
              "      quickchartButtonEl.style.display =\n",
              "        google.colab.kernel.accessAllowed ? 'block' : 'none';\n",
              "    })();\n",
              "  </script>\n",
              "</div>\n",
              "\n",
              "    </div>\n",
              "  </div>\n"
            ],
            "application/vnd.google.colaboratory.intrinsic+json": {
              "type": "dataframe",
              "variable_name": "df",
              "summary": "{\n  \"name\": \"df\",\n  \"rows\": 53044,\n  \"fields\": [\n    {\n      \"column\": 0,\n      \"properties\": {\n        \"dtype\": \"number\",\n        \"std\": 15312.339501199678,\n        \"min\": 0.0,\n        \"max\": 53042.0,\n        \"num_unique_values\": 53043,\n        \"samples\": [\n          22261.0,\n          41400.0,\n          20065.0\n        ],\n        \"semantic_type\": \"\",\n        \"description\": \"\"\n      }\n    },\n    {\n      \"column\": 1,\n      \"properties\": {\n        \"dtype\": \"string\",\n        \"num_unique_values\": 51074,\n        \"samples\": [\n          \"he's been a chain smoker for 30 years.\",\n          \"Hoards of people walking or zipping by on scooters going nowhere. what is the point? Everyone looked so excited but where are they even going. To the taco truck? To the bar to get drunk? I am young and all I want is to be in bed by 9. Its strange how all those people look so alive and happy, I just cannot understand it because just being around all that commotion I feel suffocated and TIRED. So tired. that is enough activity for me for awhile. Had the misfortune of driving through downtown Austin tonight\",\n          \"i cannot win in my life, no matter how hard i try i just cannot ever seem to achieve what i want no matter what. I am not loved by anyone, everyone is just, so cold to me, frankly i just cannot take this. i cannot take this much pain, I am just building failure. I am tired of it, of being second and eating shit, I am tired of living. I have lived for 17 almost 18 years and I am tired. sleeping for most of the day, eating my pain away, the days have become numb and the only thing keeping my alive is how my parents would feel if i died. i do not care about it tonight, i do not care anymore. I am tired of dealing with the same issues over and over again.\"\n        ],\n        \"semantic_type\": \"\",\n        \"description\": \"\"\n      }\n    },\n    {\n      \"column\": 2,\n      \"properties\": {\n        \"dtype\": \"category\",\n        \"num_unique_values\": 8,\n        \"samples\": [\n          \"Anxiety\",\n          \"Stress\",\n          \"status\"\n        ],\n        \"semantic_type\": \"\",\n        \"description\": \"\"\n      }\n    }\n  ]\n}"
            }
          },
          "metadata": {},
          "execution_count": 4
        }
      ],
      "source": [
        "data_path = \"/content/drive/MyDrive/Bangkit/Capstone/mental_health_conversations.csv\"\n",
        "df = pd.read_csv(data_path, header=None)\n",
        "df.head()"
      ]
    },
    {
      "cell_type": "code",
      "execution_count": 5,
      "metadata": {
        "colab": {
          "base_uri": "https://localhost:8080/",
          "height": 206
        },
        "id": "wz9ng_7RFMUN",
        "outputId": "62a29fb0-f8f4-4758-ef8d-62cc048b4d80"
      },
      "outputs": [
        {
          "output_type": "execute_result",
          "data": {
            "text/plain": [
              "     0                                                  1        2\n",
              "0  0.0                                         oh my gosh  Anxiety\n",
              "1  1.0  trouble sleeping, confused mind, restless hear...  Anxiety\n",
              "2  2.0  All wrong, back off dear, forward doubt. Stay ...  Anxiety\n",
              "3  3.0  I've shifted my focus to something else but I'...  Anxiety\n",
              "4  4.0  I'm restless and restless, it's been a month n...  Anxiety"
            ],
            "text/html": [
              "\n",
              "  <div id=\"df-35807309-920a-4399-8af9-f2d9dd425ff9\" class=\"colab-df-container\">\n",
              "    <div>\n",
              "<style scoped>\n",
              "    .dataframe tbody tr th:only-of-type {\n",
              "        vertical-align: middle;\n",
              "    }\n",
              "\n",
              "    .dataframe tbody tr th {\n",
              "        vertical-align: top;\n",
              "    }\n",
              "\n",
              "    .dataframe thead th {\n",
              "        text-align: right;\n",
              "    }\n",
              "</style>\n",
              "<table border=\"1\" class=\"dataframe\">\n",
              "  <thead>\n",
              "    <tr style=\"text-align: right;\">\n",
              "      <th></th>\n",
              "      <th>0</th>\n",
              "      <th>1</th>\n",
              "      <th>2</th>\n",
              "    </tr>\n",
              "  </thead>\n",
              "  <tbody>\n",
              "    <tr>\n",
              "      <th>0</th>\n",
              "      <td>0.0</td>\n",
              "      <td>oh my gosh</td>\n",
              "      <td>Anxiety</td>\n",
              "    </tr>\n",
              "    <tr>\n",
              "      <th>1</th>\n",
              "      <td>1.0</td>\n",
              "      <td>trouble sleeping, confused mind, restless hear...</td>\n",
              "      <td>Anxiety</td>\n",
              "    </tr>\n",
              "    <tr>\n",
              "      <th>2</th>\n",
              "      <td>2.0</td>\n",
              "      <td>All wrong, back off dear, forward doubt. Stay ...</td>\n",
              "      <td>Anxiety</td>\n",
              "    </tr>\n",
              "    <tr>\n",
              "      <th>3</th>\n",
              "      <td>3.0</td>\n",
              "      <td>I've shifted my focus to something else but I'...</td>\n",
              "      <td>Anxiety</td>\n",
              "    </tr>\n",
              "    <tr>\n",
              "      <th>4</th>\n",
              "      <td>4.0</td>\n",
              "      <td>I'm restless and restless, it's been a month n...</td>\n",
              "      <td>Anxiety</td>\n",
              "    </tr>\n",
              "  </tbody>\n",
              "</table>\n",
              "</div>\n",
              "    <div class=\"colab-df-buttons\">\n",
              "\n",
              "  <div class=\"colab-df-container\">\n",
              "    <button class=\"colab-df-convert\" onclick=\"convertToInteractive('df-35807309-920a-4399-8af9-f2d9dd425ff9')\"\n",
              "            title=\"Convert this dataframe to an interactive table.\"\n",
              "            style=\"display:none;\">\n",
              "\n",
              "  <svg xmlns=\"http://www.w3.org/2000/svg\" height=\"24px\" viewBox=\"0 -960 960 960\">\n",
              "    <path d=\"M120-120v-720h720v720H120Zm60-500h600v-160H180v160Zm220 220h160v-160H400v160Zm0 220h160v-160H400v160ZM180-400h160v-160H180v160Zm440 0h160v-160H620v160ZM180-180h160v-160H180v160Zm440 0h160v-160H620v160Z\"/>\n",
              "  </svg>\n",
              "    </button>\n",
              "\n",
              "  <style>\n",
              "    .colab-df-container {\n",
              "      display:flex;\n",
              "      gap: 12px;\n",
              "    }\n",
              "\n",
              "    .colab-df-convert {\n",
              "      background-color: #E8F0FE;\n",
              "      border: none;\n",
              "      border-radius: 50%;\n",
              "      cursor: pointer;\n",
              "      display: none;\n",
              "      fill: #1967D2;\n",
              "      height: 32px;\n",
              "      padding: 0 0 0 0;\n",
              "      width: 32px;\n",
              "    }\n",
              "\n",
              "    .colab-df-convert:hover {\n",
              "      background-color: #E2EBFA;\n",
              "      box-shadow: 0px 1px 2px rgba(60, 64, 67, 0.3), 0px 1px 3px 1px rgba(60, 64, 67, 0.15);\n",
              "      fill: #174EA6;\n",
              "    }\n",
              "\n",
              "    .colab-df-buttons div {\n",
              "      margin-bottom: 4px;\n",
              "    }\n",
              "\n",
              "    [theme=dark] .colab-df-convert {\n",
              "      background-color: #3B4455;\n",
              "      fill: #D2E3FC;\n",
              "    }\n",
              "\n",
              "    [theme=dark] .colab-df-convert:hover {\n",
              "      background-color: #434B5C;\n",
              "      box-shadow: 0px 1px 3px 1px rgba(0, 0, 0, 0.15);\n",
              "      filter: drop-shadow(0px 1px 2px rgba(0, 0, 0, 0.3));\n",
              "      fill: #FFFFFF;\n",
              "    }\n",
              "  </style>\n",
              "\n",
              "    <script>\n",
              "      const buttonEl =\n",
              "        document.querySelector('#df-35807309-920a-4399-8af9-f2d9dd425ff9 button.colab-df-convert');\n",
              "      buttonEl.style.display =\n",
              "        google.colab.kernel.accessAllowed ? 'block' : 'none';\n",
              "\n",
              "      async function convertToInteractive(key) {\n",
              "        const element = document.querySelector('#df-35807309-920a-4399-8af9-f2d9dd425ff9');\n",
              "        const dataTable =\n",
              "          await google.colab.kernel.invokeFunction('convertToInteractive',\n",
              "                                                    [key], {});\n",
              "        if (!dataTable) return;\n",
              "\n",
              "        const docLinkHtml = 'Like what you see? Visit the ' +\n",
              "          '<a target=\"_blank\" href=https://colab.research.google.com/notebooks/data_table.ipynb>data table notebook</a>'\n",
              "          + ' to learn more about interactive tables.';\n",
              "        element.innerHTML = '';\n",
              "        dataTable['output_type'] = 'display_data';\n",
              "        await google.colab.output.renderOutput(dataTable, element);\n",
              "        const docLink = document.createElement('div');\n",
              "        docLink.innerHTML = docLinkHtml;\n",
              "        element.appendChild(docLink);\n",
              "      }\n",
              "    </script>\n",
              "  </div>\n",
              "\n",
              "\n",
              "<div id=\"df-d0067fbf-a528-4d38-9e14-0bb833af61c5\">\n",
              "  <button class=\"colab-df-quickchart\" onclick=\"quickchart('df-d0067fbf-a528-4d38-9e14-0bb833af61c5')\"\n",
              "            title=\"Suggest charts\"\n",
              "            style=\"display:none;\">\n",
              "\n",
              "<svg xmlns=\"http://www.w3.org/2000/svg\" height=\"24px\"viewBox=\"0 0 24 24\"\n",
              "     width=\"24px\">\n",
              "    <g>\n",
              "        <path d=\"M19 3H5c-1.1 0-2 .9-2 2v14c0 1.1.9 2 2 2h14c1.1 0 2-.9 2-2V5c0-1.1-.9-2-2-2zM9 17H7v-7h2v7zm4 0h-2V7h2v10zm4 0h-2v-4h2v4z\"/>\n",
              "    </g>\n",
              "</svg>\n",
              "  </button>\n",
              "\n",
              "<style>\n",
              "  .colab-df-quickchart {\n",
              "      --bg-color: #E8F0FE;\n",
              "      --fill-color: #1967D2;\n",
              "      --hover-bg-color: #E2EBFA;\n",
              "      --hover-fill-color: #174EA6;\n",
              "      --disabled-fill-color: #AAA;\n",
              "      --disabled-bg-color: #DDD;\n",
              "  }\n",
              "\n",
              "  [theme=dark] .colab-df-quickchart {\n",
              "      --bg-color: #3B4455;\n",
              "      --fill-color: #D2E3FC;\n",
              "      --hover-bg-color: #434B5C;\n",
              "      --hover-fill-color: #FFFFFF;\n",
              "      --disabled-bg-color: #3B4455;\n",
              "      --disabled-fill-color: #666;\n",
              "  }\n",
              "\n",
              "  .colab-df-quickchart {\n",
              "    background-color: var(--bg-color);\n",
              "    border: none;\n",
              "    border-radius: 50%;\n",
              "    cursor: pointer;\n",
              "    display: none;\n",
              "    fill: var(--fill-color);\n",
              "    height: 32px;\n",
              "    padding: 0;\n",
              "    width: 32px;\n",
              "  }\n",
              "\n",
              "  .colab-df-quickchart:hover {\n",
              "    background-color: var(--hover-bg-color);\n",
              "    box-shadow: 0 1px 2px rgba(60, 64, 67, 0.3), 0 1px 3px 1px rgba(60, 64, 67, 0.15);\n",
              "    fill: var(--button-hover-fill-color);\n",
              "  }\n",
              "\n",
              "  .colab-df-quickchart-complete:disabled,\n",
              "  .colab-df-quickchart-complete:disabled:hover {\n",
              "    background-color: var(--disabled-bg-color);\n",
              "    fill: var(--disabled-fill-color);\n",
              "    box-shadow: none;\n",
              "  }\n",
              "\n",
              "  .colab-df-spinner {\n",
              "    border: 2px solid var(--fill-color);\n",
              "    border-color: transparent;\n",
              "    border-bottom-color: var(--fill-color);\n",
              "    animation:\n",
              "      spin 1s steps(1) infinite;\n",
              "  }\n",
              "\n",
              "  @keyframes spin {\n",
              "    0% {\n",
              "      border-color: transparent;\n",
              "      border-bottom-color: var(--fill-color);\n",
              "      border-left-color: var(--fill-color);\n",
              "    }\n",
              "    20% {\n",
              "      border-color: transparent;\n",
              "      border-left-color: var(--fill-color);\n",
              "      border-top-color: var(--fill-color);\n",
              "    }\n",
              "    30% {\n",
              "      border-color: transparent;\n",
              "      border-left-color: var(--fill-color);\n",
              "      border-top-color: var(--fill-color);\n",
              "      border-right-color: var(--fill-color);\n",
              "    }\n",
              "    40% {\n",
              "      border-color: transparent;\n",
              "      border-right-color: var(--fill-color);\n",
              "      border-top-color: var(--fill-color);\n",
              "    }\n",
              "    60% {\n",
              "      border-color: transparent;\n",
              "      border-right-color: var(--fill-color);\n",
              "    }\n",
              "    80% {\n",
              "      border-color: transparent;\n",
              "      border-right-color: var(--fill-color);\n",
              "      border-bottom-color: var(--fill-color);\n",
              "    }\n",
              "    90% {\n",
              "      border-color: transparent;\n",
              "      border-bottom-color: var(--fill-color);\n",
              "    }\n",
              "  }\n",
              "</style>\n",
              "\n",
              "  <script>\n",
              "    async function quickchart(key) {\n",
              "      const quickchartButtonEl =\n",
              "        document.querySelector('#' + key + ' button');\n",
              "      quickchartButtonEl.disabled = true;  // To prevent multiple clicks.\n",
              "      quickchartButtonEl.classList.add('colab-df-spinner');\n",
              "      try {\n",
              "        const charts = await google.colab.kernel.invokeFunction(\n",
              "            'suggestCharts', [key], {});\n",
              "      } catch (error) {\n",
              "        console.error('Error during call to suggestCharts:', error);\n",
              "      }\n",
              "      quickchartButtonEl.classList.remove('colab-df-spinner');\n",
              "      quickchartButtonEl.classList.add('colab-df-quickchart-complete');\n",
              "    }\n",
              "    (() => {\n",
              "      let quickchartButtonEl =\n",
              "        document.querySelector('#df-d0067fbf-a528-4d38-9e14-0bb833af61c5 button');\n",
              "      quickchartButtonEl.style.display =\n",
              "        google.colab.kernel.accessAllowed ? 'block' : 'none';\n",
              "    })();\n",
              "  </script>\n",
              "</div>\n",
              "\n",
              "    </div>\n",
              "  </div>\n"
            ],
            "application/vnd.google.colaboratory.intrinsic+json": {
              "type": "dataframe",
              "variable_name": "df",
              "summary": "{\n  \"name\": \"df\",\n  \"rows\": 53043,\n  \"fields\": [\n    {\n      \"column\": 0,\n      \"properties\": {\n        \"dtype\": \"number\",\n        \"std\": 15312.339501199678,\n        \"min\": 0.0,\n        \"max\": 53042.0,\n        \"num_unique_values\": 53043,\n        \"samples\": [\n          22261.0,\n          41400.0,\n          20065.0\n        ],\n        \"semantic_type\": \"\",\n        \"description\": \"\"\n      }\n    },\n    {\n      \"column\": 1,\n      \"properties\": {\n        \"dtype\": \"string\",\n        \"num_unique_values\": 51073,\n        \"samples\": [\n          \"he's been a chain smoker for 30 years.\",\n          \"Dependence on therapist I attend IOP groups and individual therapy sessions at the same place, my therapist who I have worked with on and off for a year and a couple months just told me today that she is leaving soon and I am heartbroken. I love my therapist and I don't know how I am going to keep progressing without her. There will be a replacement for her but idk what to do, I don't want a different therapist. :(\",\n          \"These feelings constantly come back. Someone from my past that hurt me came back a month ago and once again disrespected me and i just feel like shit. Idk why these feelings keep resurfacing but it just hurts. I do not want to be over dramatic but Its hurts when you were nothing but loving/kind to someone and they disrespect you. I just hate feeling like this, feeling like i cannot trust anyone or that no one would ever truly love me unless i have something to offer. I am always worried about my looks and its just making me depressed. I really do not feel like i fit in with the world I am just here. Idk what my next step should be to get help but I am really going through it. (Yes I am in therapy) but how do i help myself ? I have been depressed/anxious for years and most day i do not even leave my house. But nobody around me seems to care and honestly I am tired of feeling this way. But at the same time i do not want to give up on myself bc i feel like I am here to be somebody great. I am just trying to find my way right now. It keeps coming back\"\n        ],\n        \"semantic_type\": \"\",\n        \"description\": \"\"\n      }\n    },\n    {\n      \"column\": 2,\n      \"properties\": {\n        \"dtype\": \"category\",\n        \"num_unique_values\": 7,\n        \"samples\": [\n          \"Anxiety\",\n          \"Normal\",\n          \"Bipolar\"\n        ],\n        \"semantic_type\": \"\",\n        \"description\": \"\"\n      }\n    }\n  ]\n}"
            }
          },
          "metadata": {},
          "execution_count": 5
        }
      ],
      "source": [
        "df = df.drop(index=0)\n",
        "\n",
        "# Reset index if needed\n",
        "df.reset_index(drop=True, inplace=True)\n",
        "\n",
        "df.head()"
      ]
    },
    {
      "cell_type": "code",
      "execution_count": 6,
      "metadata": {
        "colab": {
          "base_uri": "https://localhost:8080/"
        },
        "id": "fXcnZsyAJSri",
        "outputId": "09c49a2c-e680-41b2-e8c2-a7f2ead55d04"
      },
      "outputs": [
        {
          "output_type": "stream",
          "name": "stdout",
          "text": [
            "<class 'pandas.core.frame.DataFrame'>\n",
            "RangeIndex: 53043 entries, 0 to 53042\n",
            "Data columns (total 3 columns):\n",
            " #   Column  Non-Null Count  Dtype  \n",
            "---  ------  --------------  -----  \n",
            " 0   0       53043 non-null  float64\n",
            " 1   1       52681 non-null  object \n",
            " 2   2       53043 non-null  object \n",
            "dtypes: float64(1), object(2)\n",
            "memory usage: 1.2+ MB\n"
          ]
        }
      ],
      "source": [
        "df.info()"
      ]
    },
    {
      "cell_type": "code",
      "execution_count": 7,
      "metadata": {
        "colab": {
          "base_uri": "https://localhost:8080/",
          "height": 178
        },
        "id": "DGYBpfmVJaxJ",
        "outputId": "6a295131-94c1-44a1-9835-ba93c2de9e0e"
      },
      "outputs": [
        {
          "output_type": "execute_result",
          "data": {
            "text/plain": [
              "0    0\n",
              "1    0\n",
              "2    0\n",
              "dtype: int64"
            ],
            "text/html": [
              "<div>\n",
              "<style scoped>\n",
              "    .dataframe tbody tr th:only-of-type {\n",
              "        vertical-align: middle;\n",
              "    }\n",
              "\n",
              "    .dataframe tbody tr th {\n",
              "        vertical-align: top;\n",
              "    }\n",
              "\n",
              "    .dataframe thead th {\n",
              "        text-align: right;\n",
              "    }\n",
              "</style>\n",
              "<table border=\"1\" class=\"dataframe\">\n",
              "  <thead>\n",
              "    <tr style=\"text-align: right;\">\n",
              "      <th></th>\n",
              "      <th>0</th>\n",
              "    </tr>\n",
              "  </thead>\n",
              "  <tbody>\n",
              "    <tr>\n",
              "      <th>0</th>\n",
              "      <td>0</td>\n",
              "    </tr>\n",
              "    <tr>\n",
              "      <th>1</th>\n",
              "      <td>0</td>\n",
              "    </tr>\n",
              "    <tr>\n",
              "      <th>2</th>\n",
              "      <td>0</td>\n",
              "    </tr>\n",
              "  </tbody>\n",
              "</table>\n",
              "</div><br><label><b>dtype:</b> int64</label>"
            ]
          },
          "metadata": {},
          "execution_count": 7
        }
      ],
      "source": [
        "df.dropna(inplace = True)\n",
        "df.isna().sum()"
      ]
    },
    {
      "cell_type": "code",
      "execution_count": 8,
      "metadata": {
        "colab": {
          "base_uri": "https://localhost:8080/"
        },
        "id": "QYQq4Z6-JeFw",
        "outputId": "ef8ffbfc-cc16-4ab6-e7d4-3a8d3591f865"
      },
      "outputs": [
        {
          "output_type": "stream",
          "name": "stdout",
          "text": [
            "<class 'pandas.core.frame.DataFrame'>\n",
            "Index: 52681 entries, 0 to 53042\n",
            "Data columns (total 3 columns):\n",
            " #   Column  Non-Null Count  Dtype  \n",
            "---  ------  --------------  -----  \n",
            " 0   0       52681 non-null  float64\n",
            " 1   1       52681 non-null  object \n",
            " 2   2       52681 non-null  object \n",
            "dtypes: float64(1), object(2)\n",
            "memory usage: 1.6+ MB\n"
          ]
        }
      ],
      "source": [
        "df.info()"
      ]
    },
    {
      "cell_type": "code",
      "execution_count": 9,
      "metadata": {
        "colab": {
          "base_uri": "https://localhost:8080/"
        },
        "id": "yKsrFpq9Flf_",
        "outputId": "9a3269a7-a02a-4855-ab15-319f6140e37c"
      },
      "outputs": [
        {
          "output_type": "stream",
          "name": "stdout",
          "text": [
            "['Anxiety' 'Normal' 'Depression' 'Suicidal' 'Stress' 'Bipolar'\n",
            " 'Personality disorder']\n",
            "7\n"
          ]
        }
      ],
      "source": [
        "statuses = df[2].unique()\n",
        "print(statuses)\n",
        "print(len(statuses))"
      ]
    },
    {
      "cell_type": "code",
      "source": [
        "df[2].value_counts().plot(kind='bar')\n",
        "plt.xlabel(\"Status Types\")\n",
        "plt.ylabel(\"Total Data\")\n",
        "plt.title(\"Total Data by Status Types\")\n",
        "plt.show()"
      ],
      "metadata": {
        "colab": {
          "base_uri": "https://localhost:8080/",
          "height": 596
        },
        "id": "DQt9e9nTeYT5",
        "outputId": "2dd7860d-9340-4e26-a325-93d677f08cd3"
      },
      "execution_count": 10,
      "outputs": [
        {
          "output_type": "display_data",
          "data": {
            "text/plain": [
              "<Figure size 640x480 with 1 Axes>"
            ],
            "image/png": "[encoded data removed]"
          },
          "metadata": {}
        }
      ]
    },
    {
      "cell_type": "code",
      "source": [
        "# Assuming df is already loaded as in the provided code\n",
        "df[2].value_counts().plot(kind='pie', autopct='%1.1f%%')\n",
        "plt.title(\"Distribution of Status Types\")\n",
        "plt.ylabel(\"\")  # Remove the y-axis label\n",
        "plt.show()"
      ],
      "metadata": {
        "colab": {
          "base_uri": "https://localhost:8080/",
          "height": 428
        },
        "id": "_EuyEGAcuAGx",
        "outputId": "621ccb50-b608-4219-a0fe-b82afc999dfa"
      },
      "execution_count": 11,
      "outputs": [
        {
          "output_type": "display_data",
          "data": {
            "text/plain": [
              "<Figure size 640x480 with 1 Axes>"
            ],
            "image/png": "[encoded data removed]"
          },
          "metadata": {}
        }
      ]
    },
    {
      "cell_type": "code",
      "execution_count": 12,
      "metadata": {
        "colab": {
          "base_uri": "https://localhost:8080/"
        },
        "id": "OhCJJQHoFJxe",
        "outputId": "0c9dd8fe-bccc-4389-a3ae-77ff1c721593"
      },
      "outputs": [
        {
          "output_type": "stream",
          "name": "stdout",
          "text": [
            "['oh my gosh'\n",
            " 'trouble sleeping, confused mind, restless heart. All out of tune'\n",
            " 'All wrong, back off dear, forward doubt. Stay in a restless and restless place'\n",
            " \"I've shifted my focus to something else but I'm still worried\"\n",
            " \"I'm restless and restless, it's been a month now, boy. What do you mean?\"]\n",
            "[0 0 0 0 0]\n"
          ]
        }
      ],
      "source": [
        "# Standardize labels so they have\n",
        "# 'Anxiety'              => 0\n",
        "# 'Normal'               => 1\n",
        "# 'Depression'           => 2\n",
        "# 'Suicidal'             => 3\n",
        "# 'Stress'               => 4\n",
        "# 'Bipolar'              => 5\n",
        "# 'Personality disorder' => 6\n",
        "status_mapping = {\n",
        "    'Anxiety': 0,\n",
        "    'Normal': 1,\n",
        "    'Depression': 2,\n",
        "    'Suicidal': 3,\n",
        "    'Stress': 4,\n",
        "    'Bipolar': 5,\n",
        "    'Personality disorder': 6\n",
        "}\n",
        "labels = df[2].apply(lambda x: status_mapping.get(x, -1)).to_numpy()  # Default to -1 if the value is not in the mapping\n",
        "\n",
        "# Since the original dataset does not provide headers you need to index the columns by their index\n",
        "sentences = df[1].to_numpy()\n",
        "\n",
        "print(sentences[:5])\n",
        "print(labels[:5])\n"
      ]
    },
    {
      "cell_type": "code",
      "execution_count": 13,
      "metadata": {
        "colab": {
          "base_uri": "https://localhost:8080/"
        },
        "id": "jI31WRrAZHiE",
        "outputId": "52c707e6-9e47-4bf0-b210-661a6ad9819a"
      },
      "outputs": [
        {
          "output_type": "stream",
          "name": "stdout",
          "text": [
            "dataset contains 52681 examples\n",
            "\n",
            "Text of second example look like this: trouble sleeping, confused mind, restless heart. All out of tune\n",
            "\n",
            "Labels of first 5 examples look like this: [0, 0, 0, 0, 0]\n"
          ]
        }
      ],
      "source": [
        "# Create the dataset\n",
        "dataset = tf.data.Dataset.from_tensor_slices((sentences, labels))\n",
        "\n",
        "# Get the first 5 elements of the dataset\n",
        "examples = list(dataset.take(5))\n",
        "\n",
        "print(f\"dataset contains {len(dataset)} examples\\n\")\n",
        "\n",
        "print(f\"Text of second example look like this: {examples[1][0].numpy().decode('utf-8')}\\n\")\n",
        "print(f\"Labels of first 5 examples look like this: {[x[1].numpy() for x in examples]}\")"
      ]
    },
    {
      "cell_type": "code",
      "execution_count": 14,
      "metadata": {
        "id": "DsuTGHBrKAmz"
      },
      "outputs": [],
      "source": [
        "def train_val_test_datasets(dataset, batch_size):\n",
        "    dataset_size = len(dataset)\n",
        "\n",
        "    dataset = dataset.shuffle(buffer_size=dataset_size, seed=42)\n",
        "\n",
        "    # Compute sizes for each split\n",
        "    train_size = int(dataset_size * TRAINING_SPLIT)\n",
        "    val_size = dataset_size - train_size\n",
        "    test_size = int(train_size * TEST_SPLIT_FROM_TRAIN)\n",
        "    adjusted_train_size = train_size - test_size\n",
        "\n",
        "    # Split the dataset\n",
        "    train_dataset = dataset.take(adjusted_train_size)  # Remaining training data\n",
        "    test_dataset = dataset.skip(adjusted_train_size).take(test_size)  # Test data\n",
        "    val_dataset = dataset.skip(adjusted_train_size + test_size)  # Validation data\n",
        "\n",
        "    # Batch the datasets\n",
        "    train_dataset = train_dataset.batch(batch_size)\n",
        "    test_dataset = test_dataset.batch(batch_size)\n",
        "    val_dataset = val_dataset.batch(batch_size)\n",
        "\n",
        "    return train_dataset, val_dataset, test_dataset"
      ]
    },
    {
      "cell_type": "code",
      "execution_count": 15,
      "metadata": {
        "colab": {
          "base_uri": "https://localhost:8080/"
        },
        "id": "je7k6l19Kavp",
        "outputId": "196384c0-77e2-415d-9b13-517e7aa2d756"
      },
      "outputs": [
        {
          "output_type": "stream",
          "name": "stdout",
          "text": [
            "There are 352 batches for a total of 45056 elements for training.\n",
            "\n",
            "There are 42 batches for a total of 5376 elements for validation.\n",
            "\n",
            "There are 19 batches for a total of 2432 elements for test.\n",
            "\n"
          ]
        }
      ],
      "source": [
        "train_dataset, val_dataset, test_dataset = train_val_test_datasets(dataset, NUM_BATCHES)\n",
        "\n",
        "print(f\"There are {len(train_dataset)} batches for a total of {NUM_BATCHES*len(train_dataset)} elements for training.\\n\")\n",
        "print(f\"There are {len(val_dataset)} batches for a total of {NUM_BATCHES*len(val_dataset)} elements for validation.\\n\")\n",
        "print(f\"There are {len(test_dataset)} batches for a total of {NUM_BATCHES*len(test_dataset)} elements for test.\\n\")"
      ]
    },
    {
      "cell_type": "code",
      "execution_count": 16,
      "metadata": {
        "id": "CC8DH_FtKnfW"
      },
      "outputs": [],
      "source": [
        "def fit_vectorizer(dataset):\n",
        "  vectorizer = tf.keras.layers.TextVectorization(\n",
        "      standardize='lower_and_strip_punctuation',\n",
        "      output_mode='int',\n",
        "      output_sequence_length=MAX_LENGTH\n",
        "  )\n",
        "\n",
        "  vectorizer.adapt(dataset)\n",
        "\n",
        "  return vectorizer"
      ]
    },
    {
      "cell_type": "code",
      "execution_count": 17,
      "metadata": {
        "colab": {
          "base_uri": "https://localhost:8080/"
        },
        "id": "gwUi9Ee1K_ve",
        "outputId": "ed33b900-c859-4edb-9070-3171ebadfcdb"
      },
      "outputs": [
        {
          "output_type": "stream",
          "name": "stdout",
          "text": [
            "Vocabulary contains 73830 words\n",
            "\n"
          ]
        }
      ],
      "source": [
        "text_only_dataset = train_dataset.map(lambda text, label: text)\n",
        "\n",
        "vectorizer = fit_vectorizer(text_only_dataset)\n",
        "\n",
        "vocab_size = vectorizer.vocabulary_size()\n",
        "\n",
        "print(f\"Vocabulary contains {vocab_size} words\\n\")"
      ]
    },
    {
      "cell_type": "code",
      "execution_count": 18,
      "metadata": {
        "id": "SRw-N3j3LK2j"
      },
      "outputs": [],
      "source": [
        "train_dataset_vectorized = train_dataset.map(lambda text, label: (vectorizer(text), label))\n",
        "val_dataset_vectorized = val_dataset.map(lambda text, label: (vectorizer(text), label))"
      ]
    },
    {
      "cell_type": "code",
      "execution_count": 19,
      "metadata": {
        "id": "MWHsvLnqLW6N"
      },
      "outputs": [],
      "source": [
        "glove_file = '/content/drive/MyDrive/Bangkit/Capstone/Files/tf/data/glove.6B.100d.txt'\n",
        "\n",
        "glove_embeddings = {}\n",
        "\n",
        "with open(glove_file) as f:\n",
        "    for line in f:\n",
        "        values = line.split()\n",
        "        word = values[0]\n",
        "        coefs = np.asarray(values[1:], dtype='float32')\n",
        "        glove_embeddings[word] = coefs"
      ]
    },
    {
      "cell_type": "code",
      "execution_count": 20,
      "metadata": {
        "colab": {
          "base_uri": "https://localhost:8080/"
        },
        "id": "QnW9r0KnLqSn",
        "outputId": "856359c9-86b5-4761-e0d7-99bb7521b10d"
      },
      "outputs": [
        {
          "output_type": "stream",
          "name": "stdout",
          "text": [
            "Vector representation of word dog looks like this:\n",
            "\n",
            "[ 0.30817    0.30938    0.52803   -0.92543   -0.73671    0.63475\n",
            "  0.44197    0.10262   -0.09142   -0.56607   -0.5327     0.2013\n",
            "  0.7704    -0.13983    0.13727    1.1128     0.89301   -0.17869\n",
            " -0.0019722  0.57289    0.59479    0.50428   -0.28991   -1.3491\n",
            "  0.42756    1.2748    -1.1613    -0.41084    0.042804   0.54866\n",
            "  0.18897    0.3759     0.58035    0.66975    0.81156    0.93864\n",
            " -0.51005   -0.070079   0.82819   -0.35346    0.21086   -0.24412\n",
            " -0.16554   -0.78358   -0.48482    0.38968   -0.86356   -0.016391\n",
            "  0.31984   -0.49246   -0.069363   0.018869  -0.098286   1.3126\n",
            " -0.12116   -1.2399    -0.091429   0.35294    0.64645    0.089642\n",
            "  0.70294    1.1244     0.38639    0.52084    0.98787    0.79952\n",
            " -0.34625    0.14095    0.80167    0.20987   -0.86007   -0.15308\n",
            "  0.074523   0.40816    0.019208   0.51587   -0.34428   -0.24525\n",
            " -0.77984    0.27425    0.22418    0.20164    0.017431  -0.014697\n",
            " -1.0235    -0.39695   -0.0056188  0.30569    0.31748    0.021404\n",
            "  0.11837   -0.11319    0.42456    0.53405   -0.16717   -0.27185\n",
            " -0.6255     0.12883    0.62529   -0.52086  ]\n"
          ]
        }
      ],
      "source": [
        "test_word = 'dog'\n",
        "\n",
        "test_vector = glove_embeddings[test_word]\n",
        "\n",
        "print(f\"Vector representation of word {test_word} looks like this:\\n\\n{test_vector}\")"
      ]
    },
    {
      "cell_type": "code",
      "execution_count": 21,
      "metadata": {
        "colab": {
          "base_uri": "https://localhost:8080/"
        },
        "id": "KP-EjHS-L0oc",
        "outputId": "20c87b65-75fd-4070-a48f-151d914f7f62"
      },
      "outputs": [
        {
          "output_type": "stream",
          "name": "stdout",
          "text": [
            "Each word vector has shape: (100,)\n"
          ]
        }
      ],
      "source": [
        "print(f\"Each word vector has shape: {test_vector.shape}\")"
      ]
    },
    {
      "cell_type": "code",
      "execution_count": 22,
      "metadata": {
        "colab": {
          "base_uri": "https://localhost:8080/"
        },
        "id": "XgYekde-L4jT",
        "outputId": "5110c117-24d6-48ff-8bca-40c5a371aadb"
      },
      "outputs": [
        {
          "output_type": "stream",
          "name": "stdout",
          "text": [
            "The word dog is encoded as: 690\n"
          ]
        }
      ],
      "source": [
        "word_index = {x:i for i, x in enumerate(vectorizer.get_vocabulary())}\n",
        "\n",
        "print(f\"The word dog is encoded as: {word_index['dog']}\")"
      ]
    },
    {
      "cell_type": "code",
      "execution_count": 23,
      "metadata": {
        "id": "BoZKnj3KMUI2"
      },
      "outputs": [],
      "source": [
        "embedding_matrix = np.zeros((vocab_size, EMBEDDING_DIM))\n",
        "\n",
        "for word, index in word_index.items():\n",
        "    embedding_vector = glove_embeddings.get(word)\n",
        "    if embedding_vector is not None:\n",
        "        embedding_matrix[index] = embedding_vector"
      ]
    },
    {
      "cell_type": "code",
      "execution_count": 24,
      "metadata": {
        "colab": {
          "base_uri": "https://localhost:8080/"
        },
        "id": "_KUCwYbEMd4s",
        "outputId": "18177be0-70c8-47cf-b165-330e6f4fcb87"
      },
      "outputs": [
        {
          "output_type": "stream",
          "name": "stdout",
          "text": [
            "word: dog, index: 690\n",
            "\n",
            "Embedding is equal to column 690 in the embeddings_matrix: True\n"
          ]
        }
      ],
      "source": [
        "test_word = 'dog'\n",
        "\n",
        "test_word_id = word_index[test_word]\n",
        "\n",
        "test_vector_dog = glove_embeddings[test_word]\n",
        "\n",
        "test_embedding_dog = embedding_matrix[test_word_id]\n",
        "\n",
        "both_equal = np.allclose(test_vector_dog, test_embedding_dog)\n",
        "\n",
        "print(f\"word: {test_word}, index: {test_word_id}\\n\\nEmbedding is equal to column {test_word_id} in the embeddings_matrix: {both_equal}\")"
      ]
    },
    {
      "cell_type": "code",
      "execution_count": 25,
      "metadata": {
        "id": "f7X09bvmM5bh"
      },
      "outputs": [],
      "source": [
        "def create_model(vocab_size, pretrained_embeddings):\n",
        "  model = tf.keras.Sequential([\n",
        "      tf.keras.layers.Input(shape=(MAX_LENGTH,)),\n",
        "\n",
        "      tf.keras.layers.Embedding(input_dim=vocab_size, output_dim=pretrained_embeddings.shape[1]),\n",
        "\n",
        "      tf.keras.layers.LSTM(units=64, return_sequences=True),\n",
        "\n",
        "      tf.keras.layers.Dropout(0.5),\n",
        "\n",
        "      tf.keras.layers.GlobalMaxPooling1D(),\n",
        "\n",
        "      tf.keras.layers.Dense(units=64, activation='relu'),\n",
        "      tf.keras.layers.Dense(units=7, activation='softmax')\n",
        "  ])\n",
        "\n",
        "  model.compile(\n",
        "      loss='sparse_categorical_crossentropy',\n",
        "      optimizer='adam',\n",
        "      metrics=['accuracy']\n",
        "  )\n",
        "\n",
        "  return model"
      ]
    },
    {
      "cell_type": "code",
      "execution_count": 26,
      "metadata": {
        "colab": {
          "base_uri": "https://localhost:8080/",
          "height": 337
        },
        "id": "ORxrNLjiN1T-",
        "outputId": "f3af0b5f-7188-4029-ff5b-56378b641850"
      },
      "outputs": [
        {
          "output_type": "display_data",
          "data": {
            "text/plain": [
              "\u001b[1mModel: \"sequential\"\u001b[0m\n"
            ],
            "text/html": [
              "<pre style=\"white-space:pre;overflow-x:auto;line-height:normal;font-family:Menlo,'DejaVu Sans Mono',consolas,'Courier New',monospace\"><span style=\"font-weight: bold\">Model: \"sequential\"</span>\n",
              "</pre>\n"
            ]
          },
          "metadata": {}
        },
        {
          "output_type": "display_data",
          "data": {
            "text/plain": [
              "┏━━━━━━━━━━━━━━━━━━━━━━━━━━━━━━━━━━━━━━┳━━━━━━━━━━━━━━━━━━━━━━━━━━━━━┳━━━━━━━━━━━━━━━━━┓\n",
              "┃\u001b[1m \u001b[0m\u001b[1mLayer (type)                        \u001b[0m\u001b[1m \u001b[0m┃\u001b[1m \u001b[0m\u001b[1mOutput Shape               \u001b[0m\u001b[1m \u001b[0m┃\u001b[1m \u001b[0m\u001b[1m        Param #\u001b[0m\u001b[1m \u001b[0m┃\n",
              "┡━━━━━━━━━━━━━━━━━━━━━━━━━━━━━━━━━━━━━━╇━━━━━━━━━━━━━━━━━━━━━━━━━━━━━╇━━━━━━━━━━━━━━━━━┩\n",
              "│ embedding (\u001b[38;5;33mEmbedding\u001b[0m)                │ (\u001b[38;5;45mNone\u001b[0m, \u001b[38;5;34m32\u001b[0m, \u001b[38;5;34m100\u001b[0m)             │       \u001b[38;5;34m7,383,000\u001b[0m │\n",
              "├──────────────────────────────────────┼─────────────────────────────┼─────────────────┤\n",
              "│ lstm (\u001b[38;5;33mLSTM\u001b[0m)                          │ (\u001b[38;5;45mNone\u001b[0m, \u001b[38;5;34m32\u001b[0m, \u001b[38;5;34m64\u001b[0m)              │          \u001b[38;5;34m42,240\u001b[0m │\n",
              "├──────────────────────────────────────┼─────────────────────────────┼─────────────────┤\n",
              "│ dropout (\u001b[38;5;33mDropout\u001b[0m)                    │ (\u001b[38;5;45mNone\u001b[0m, \u001b[38;5;34m32\u001b[0m, \u001b[38;5;34m64\u001b[0m)              │               \u001b[38;5;34m0\u001b[0m │\n",
              "├──────────────────────────────────────┼─────────────────────────────┼─────────────────┤\n",
              "│ global_max_pooling1d                 │ (\u001b[38;5;45mNone\u001b[0m, \u001b[38;5;34m64\u001b[0m)                  │               \u001b[38;5;34m0\u001b[0m │\n",
              "│ (\u001b[38;5;33mGlobalMaxPooling1D\u001b[0m)                 │                             │                 │\n",
              "├──────────────────────────────────────┼─────────────────────────────┼─────────────────┤\n",
              "│ dense (\u001b[38;5;33mDense\u001b[0m)                        │ (\u001b[38;5;45mNone\u001b[0m, \u001b[38;5;34m64\u001b[0m)                  │           \u001b[38;5;34m4,160\u001b[0m │\n",
              "├──────────────────────────────────────┼─────────────────────────────┼─────────────────┤\n",
              "│ dense_1 (\u001b[38;5;33mDense\u001b[0m)                      │ (\u001b[38;5;45mNone\u001b[0m, \u001b[38;5;34m7\u001b[0m)                   │             \u001b[38;5;34m455\u001b[0m │\n",
              "└──────────────────────────────────────┴─────────────────────────────┴─────────────────┘\n"
            ],
            "text/html": [
              "<pre style=\"white-space:pre;overflow-x:auto;line-height:normal;font-family:Menlo,'DejaVu Sans Mono',consolas,'Courier New',monospace\">┏━━━━━━━━━━━━━━━━━━━━━━━━━━━━━━━━━━━━━━┳━━━━━━━━━━━━━━━━━━━━━━━━━━━━━┳━━━━━━━━━━━━━━━━━┓\n",
              "┃<span style=\"font-weight: bold\"> Layer (type)                         </span>┃<span style=\"font-weight: bold\"> Output Shape                </span>┃<span style=\"font-weight: bold\">         Param # </span>┃\n",
              "┡━━━━━━━━━━━━━━━━━━━━━━━━━━━━━━━━━━━━━━╇━━━━━━━━━━━━━━━━━━━━━━━━━━━━━╇━━━━━━━━━━━━━━━━━┩\n",
              "│ embedding (<span style=\"color: #0087ff; text-decoration-color: #0087ff\">Embedding</span>)                │ (<span style=\"color: #00d7ff; text-decoration-color: #00d7ff\">None</span>, <span style=\"color: #00af00; text-decoration-color: #00af00\">32</span>, <span style=\"color: #00af00; text-decoration-color: #00af00\">100</span>)             │       <span style=\"color: #00af00; text-decoration-color: #00af00\">7,383,000</span> │\n",
              "├──────────────────────────────────────┼─────────────────────────────┼─────────────────┤\n",
              "│ lstm (<span style=\"color: #0087ff; text-decoration-color: #0087ff\">LSTM</span>)                          │ (<span style=\"color: #00d7ff; text-decoration-color: #00d7ff\">None</span>, <span style=\"color: #00af00; text-decoration-color: #00af00\">32</span>, <span style=\"color: #00af00; text-decoration-color: #00af00\">64</span>)              │          <span style=\"color: #00af00; text-decoration-color: #00af00\">42,240</span> │\n",
              "├──────────────────────────────────────┼─────────────────────────────┼─────────────────┤\n",
              "│ dropout (<span style=\"color: #0087ff; text-decoration-color: #0087ff\">Dropout</span>)                    │ (<span style=\"color: #00d7ff; text-decoration-color: #00d7ff\">None</span>, <span style=\"color: #00af00; text-decoration-color: #00af00\">32</span>, <span style=\"color: #00af00; text-decoration-color: #00af00\">64</span>)              │               <span style=\"color: #00af00; text-decoration-color: #00af00\">0</span> │\n",
              "├──────────────────────────────────────┼─────────────────────────────┼─────────────────┤\n",
              "│ global_max_pooling1d                 │ (<span style=\"color: #00d7ff; text-decoration-color: #00d7ff\">None</span>, <span style=\"color: #00af00; text-decoration-color: #00af00\">64</span>)                  │               <span style=\"color: #00af00; text-decoration-color: #00af00\">0</span> │\n",
              "│ (<span style=\"color: #0087ff; text-decoration-color: #0087ff\">GlobalMaxPooling1D</span>)                 │                             │                 │\n",
              "├──────────────────────────────────────┼─────────────────────────────┼─────────────────┤\n",
              "│ dense (<span style=\"color: #0087ff; text-decoration-color: #0087ff\">Dense</span>)                        │ (<span style=\"color: #00d7ff; text-decoration-color: #00d7ff\">None</span>, <span style=\"color: #00af00; text-decoration-color: #00af00\">64</span>)                  │           <span style=\"color: #00af00; text-decoration-color: #00af00\">4,160</span> │\n",
              "├──────────────────────────────────────┼─────────────────────────────┼─────────────────┤\n",
              "│ dense_1 (<span style=\"color: #0087ff; text-decoration-color: #0087ff\">Dense</span>)                      │ (<span style=\"color: #00d7ff; text-decoration-color: #00d7ff\">None</span>, <span style=\"color: #00af00; text-decoration-color: #00af00\">7</span>)                   │             <span style=\"color: #00af00; text-decoration-color: #00af00\">455</span> │\n",
              "└──────────────────────────────────────┴─────────────────────────────┴─────────────────┘\n",
              "</pre>\n"
            ]
          },
          "metadata": {}
        },
        {
          "output_type": "display_data",
          "data": {
            "text/plain": [
              "\u001b[1m Total params: \u001b[0m\u001b[38;5;34m7,429,855\u001b[0m (28.34 MB)\n"
            ],
            "text/html": [
              "<pre style=\"white-space:pre;overflow-x:auto;line-height:normal;font-family:Menlo,'DejaVu Sans Mono',consolas,'Courier New',monospace\"><span style=\"font-weight: bold\"> Total params: </span><span style=\"color: #00af00; text-decoration-color: #00af00\">7,429,855</span> (28.34 MB)\n",
              "</pre>\n"
            ]
          },
          "metadata": {}
        },
        {
          "output_type": "display_data",
          "data": {
            "text/plain": [
              "\u001b[1m Trainable params: \u001b[0m\u001b[38;5;34m7,429,855\u001b[0m (28.34 MB)\n"
            ],
            "text/html": [
              "<pre style=\"white-space:pre;overflow-x:auto;line-height:normal;font-family:Menlo,'DejaVu Sans Mono',consolas,'Courier New',monospace\"><span style=\"font-weight: bold\"> Trainable params: </span><span style=\"color: #00af00; text-decoration-color: #00af00\">7,429,855</span> (28.34 MB)\n",
              "</pre>\n"
            ]
          },
          "metadata": {}
        },
        {
          "output_type": "display_data",
          "data": {
            "text/plain": [
              "\u001b[1m Non-trainable params: \u001b[0m\u001b[38;5;34m0\u001b[0m (0.00 B)\n"
            ],
            "text/html": [
              "<pre style=\"white-space:pre;overflow-x:auto;line-height:normal;font-family:Menlo,'DejaVu Sans Mono',consolas,'Courier New',monospace\"><span style=\"font-weight: bold\"> Non-trainable params: </span><span style=\"color: #00af00; text-decoration-color: #00af00\">0</span> (0.00 B)\n",
              "</pre>\n"
            ]
          },
          "metadata": {}
        }
      ],
      "source": [
        "model = create_model(vocab_size, embedding_matrix)\n",
        "\n",
        "model.summary()"
      ]
    },
    {
      "cell_type": "code",
      "execution_count": 27,
      "metadata": {
        "colab": {
          "base_uri": "https://localhost:8080/"
        },
        "id": "BNtt9gFmN_Xs",
        "outputId": "6d70e39c-c0e4-42f9-9a4b-a4717b3c6beb"
      },
      "outputs": [
        {
          "output_type": "stream",
          "name": "stdout",
          "text": [
            "predictions have shape: (128, 7)\n"
          ]
        }
      ],
      "source": [
        "# Take an example batch of data\n",
        "example_batch = train_dataset_vectorized.take(1)\n",
        "\n",
        "try:\n",
        "\tmodel.evaluate(example_batch, verbose=False)\n",
        "except:\n",
        "\tprint(\"Your model is not compatible with the dataset you defined earlier. Check that the loss function and last layer are compatible with one another.\")\n",
        "else:\n",
        "\tpredictions = model.predict(example_batch, verbose=False)\n",
        "\tprint(f\"predictions have shape: {predictions.shape}\")"
      ]
    },
    {
      "cell_type": "code",
      "execution_count": 28,
      "metadata": {
        "id": "snvvHDmnPB1q"
      },
      "outputs": [],
      "source": [
        "early_stopping = tf.keras.callbacks.EarlyStopping(\n",
        "    monitor='val_accuracy',\n",
        "    min_delta=0.001,\n",
        "    patience=3,\n",
        "    verbose=1,\n",
        "    mode='auto',\n",
        "    baseline=0.90,\n",
        ")"
      ]
    },
    {
      "cell_type": "code",
      "execution_count": 29,
      "metadata": {
        "colab": {
          "base_uri": "https://localhost:8080/"
        },
        "id": "yvZu1b6OOK68",
        "outputId": "dddd0da6-cc8c-4037-89df-0bf44ad306ba"
      },
      "outputs": [
        {
          "output_type": "stream",
          "name": "stdout",
          "text": [
            "Epoch 1/10\n",
            "\u001b[1m352/352\u001b[0m \u001b[32m━━━━━━━━━━━━━━━━━━━━\u001b[0m\u001b[37m\u001b[0m \u001b[1m11s\u001b[0m 19ms/step - accuracy: 0.5597 - loss: 1.2039 - val_accuracy: 0.7231 - val_loss: 0.8945\n",
            "Epoch 2/10\n",
            "\u001b[1m352/352\u001b[0m \u001b[32m━━━━━━━━━━━━━━━━━━━━\u001b[0m\u001b[37m\u001b[0m \u001b[1m5s\u001b[0m 13ms/step - accuracy: 0.7384 - loss: 0.6765 - val_accuracy: 0.7986 - val_loss: 0.6971\n",
            "Epoch 3/10\n",
            "\u001b[1m352/352\u001b[0m \u001b[32m━━━━━━━━━━━━━━━━━━━━\u001b[0m\u001b[37m\u001b[0m \u001b[1m4s\u001b[0m 12ms/step - accuracy: 0.8010 - loss: 0.5245 - val_accuracy: 0.8527 - val_loss: 0.5807\n",
            "Epoch 4/10\n",
            "\u001b[1m352/352\u001b[0m \u001b[32m━━━━━━━━━━━━━━━━━━━━\u001b[0m\u001b[37m\u001b[0m \u001b[1m6s\u001b[0m 17ms/step - accuracy: 0.8441 - loss: 0.4152 - val_accuracy: 0.8793 - val_loss: 0.5119\n",
            "Epoch 5/10\n",
            "\u001b[1m352/352\u001b[0m \u001b[32m━━━━━━━━━━━━━━━━━━━━\u001b[0m\u001b[37m\u001b[0m \u001b[1m4s\u001b[0m 12ms/step - accuracy: 0.8723 - loss: 0.3442 - val_accuracy: 0.8827 - val_loss: 0.4137\n",
            "Epoch 6/10\n",
            "\u001b[1m352/352\u001b[0m \u001b[32m━━━━━━━━━━━━━━━━━━━━\u001b[0m\u001b[37m\u001b[0m \u001b[1m4s\u001b[0m 12ms/step - accuracy: 0.8951 - loss: 0.2816 - val_accuracy: 0.9226 - val_loss: 0.3452\n",
            "Epoch 7/10\n",
            "\u001b[1m352/352\u001b[0m \u001b[32m━━━━━━━━━━━━━━━━━━━━\u001b[0m\u001b[37m\u001b[0m \u001b[1m6s\u001b[0m 15ms/step - accuracy: 0.9082 - loss: 0.2431 - val_accuracy: 0.9155 - val_loss: 0.3122\n",
            "Epoch 8/10\n",
            "\u001b[1m352/352\u001b[0m \u001b[32m━━━━━━━━━━━━━━━━━━━━\u001b[0m\u001b[37m\u001b[0m \u001b[1m4s\u001b[0m 13ms/step - accuracy: 0.9253 - loss: 0.2030 - val_accuracy: 0.9396 - val_loss: 0.2672\n",
            "Epoch 9/10\n",
            "\u001b[1m352/352\u001b[0m \u001b[32m━━━━━━━━━━━━━━━━━━━━\u001b[0m\u001b[37m\u001b[0m \u001b[1m5s\u001b[0m 14ms/step - accuracy: 0.9306 - loss: 0.1853 - val_accuracy: 0.9480 - val_loss: 0.2212\n",
            "Epoch 10/10\n",
            "\u001b[1m352/352\u001b[0m \u001b[32m━━━━━━━━━━━━━━━━━━━━\u001b[0m\u001b[37m\u001b[0m \u001b[1m9s\u001b[0m 12ms/step - accuracy: 0.9398 - loss: 0.1615 - val_accuracy: 0.9567 - val_loss: 0.2004\n"
          ]
        }
      ],
      "source": [
        "history = model.fit(\n",
        "    train_dataset_vectorized,\n",
        "    validation_data=val_dataset_vectorized,\n",
        "    epochs=10,\n",
        "    # callbacks=[early_stopping]\n",
        ")"
      ]
    },
    {
      "cell_type": "code",
      "execution_count": 30,
      "metadata": {
        "colab": {
          "base_uri": "https://localhost:8080/",
          "height": 515
        },
        "id": "HbfC98HjOSNo",
        "outputId": "da5e2643-d24b-4dc9-fc6e-500c00e21117"
      },
      "outputs": [
        {
          "output_type": "display_data",
          "data": {
            "text/plain": [
              "<Figure size 1000x500 with 2 Axes>"
            ],
            "image/png": "[encoded data removed]"
          },
          "metadata": {}
        }
      ],
      "source": [
        "# Get training and validation accuracies\n",
        "acc = history.history['accuracy']\n",
        "val_acc = history.history['val_accuracy']\n",
        "loss = history.history['loss']\n",
        "val_loss = history.history['val_loss']\n",
        "\n",
        "# Get number of epochs\n",
        "epochs = range(len(acc))\n",
        "\n",
        "fig, ax = plt.subplots(1, 2, figsize=(10, 5))\n",
        "fig.suptitle('Training and validation performance')\n",
        "\n",
        "for i, (data, label) in enumerate(zip([(acc, val_acc), (loss, val_loss)], [\"Accuracy\", \"Loss\"])):\n",
        "    ax[i].plot(epochs, data[0], 'r', label=\"Training \" + label)\n",
        "    ax[i].plot(epochs, data[1], 'b', label=\"Validation \" + label)\n",
        "    ax[i].legend()\n",
        "    ax[i].set_xlabel('epochs')"
      ]
    },
    {
      "cell_type": "code",
      "execution_count": 31,
      "metadata": {
        "id": "wpMdCyrdZHiJ"
      },
      "outputs": [],
      "source": [
        "embedding = model.layers[0]\n",
        "\n",
        "with open('./metadata.tsv', \"w\") as f:\n",
        "    for word in vectorizer.get_vocabulary():\n",
        "        f.write(\"{}\\n\".format(word))\n",
        "weights = tf.Variable(embedding.get_weights()[0][1:])\n",
        "\n",
        "with open('./weights.tsv', 'w') as f:\n",
        "    for w in weights:\n",
        "        f.write('\\t'.join([str(x) for x in w.numpy()]) + \"\\n\")"
      ]
    },
    {
      "cell_type": "markdown",
      "metadata": {
        "id": "sZtPB7ZqwL2O"
      },
      "source": [
        "## Save Model"
      ]
    },
    {
      "cell_type": "code",
      "execution_count": 32,
      "metadata": {
        "colab": {
          "base_uri": "https://localhost:8080/"
        },
        "id": "twBy2_s2ZHiJ",
        "outputId": "42b2eb0b-246f-49ba-a442-5742f8e2e433"
      },
      "outputs": [
        {
          "output_type": "stream",
          "name": "stdout",
          "text": [
            "\u001b[1m19/19\u001b[0m \u001b[32m━━━━━━━━━━━━━━━━━━━━\u001b[0m\u001b[37m\u001b[0m \u001b[1m1s\u001b[0m 11ms/step - accuracy: 0.9549 - loss: 0.0000e+00\n",
            "{'accuracy': 0.9535865187644958, 'loss': 0.0}\n"
          ]
        }
      ],
      "source": [
        "export_model = tf.keras.Sequential([\n",
        "    vectorizer,\n",
        "    model,\n",
        "    tf.keras.layers.Activation('softmax')\n",
        "])\n",
        "\n",
        "export_model.compile(\n",
        "    loss='sparse_categorical_crossentropy',\n",
        "    optimizer='adam',\n",
        "    metrics=['accuracy']\n",
        ")\n",
        "\n",
        "metrics = export_model.evaluate(test_dataset, return_dict=True)\n",
        "print(metrics)\n"
      ]
    },
    {
      "cell_type": "code",
      "execution_count": 33,
      "metadata": {
        "id": "Ke3Mb-E-ZHiK"
      },
      "outputs": [],
      "source": [
        "export_model.save('mental_health_1.keras')"
      ]
    },
    {
      "cell_type": "markdown",
      "metadata": {
        "id": "naM63fVRwQYV"
      },
      "source": [
        "## Load Model"
      ]
    },
    {
      "cell_type": "code",
      "execution_count": 34,
      "metadata": {
        "colab": {
          "base_uri": "https://localhost:8080/"
        },
        "id": "_sbB_2KsZHiK",
        "outputId": "1824a9b2-64ec-44a8-a370-e99d859d6d06"
      },
      "outputs": [
        {
          "output_type": "stream",
          "name": "stderr",
          "text": [
            "/usr/local/lib/python3.10/dist-packages/keras/src/saving/saving_lib.py:713: UserWarning: Skipping variable loading for optimizer 'adam', because it has 18 variables whereas the saved optimizer has 2 variables. \n",
            "  saveable.load_own_variables(weights_store.get(inner_path))\n"
          ]
        }
      ],
      "source": [
        "laoded_model_w_vectorizer = tf.keras.models.load_model('mental_health_1.keras')"
      ]
    },
    {
      "cell_type": "code",
      "execution_count": 38,
      "metadata": {
        "colab": {
          "base_uri": "https://localhost:8080/"
        },
        "id": "UoXXlMNFZHiK",
        "outputId": "94905aaf-a92a-4909-d45a-e10b35f7e0ef"
      },
      "outputs": [
        {
          "output_type": "stream",
          "name": "stdout",
          "text": [
            "\u001b[1m1/1\u001b[0m \u001b[32m━━━━━━━━━━━━━━━━━━━━\u001b[0m\u001b[37m\u001b[0m \u001b[1m0s\u001b[0m 18ms/step\n",
            "[[0.12153973 0.11895052 0.13869876 0.1216745  0.11897164 0.26074615\n",
            "  0.11941869]\n",
            " [0.11498375 0.30964336 0.11507059 0.11493601 0.11545998 0.11493524\n",
            "  0.11497109]\n",
            " [0.24659096 0.12405038 0.12056036 0.11955243 0.149357   0.1200817\n",
            "  0.11980715]\n",
            " [0.12638627 0.19339468 0.17244011 0.13866773 0.12278973 0.12359563\n",
            "  0.12272587]\n",
            " [0.12616831 0.19817305 0.16597468 0.14051229 0.12282582 0.12365557\n",
            "  0.12269028]]\n",
            "Predicted class: Bipolar\n",
            "Predicted class: Normal\n",
            "Predicted class: Anxiety\n",
            "Predicted class: Normal\n",
            "Predicted class: Normal\n"
          ]
        }
      ],
      "source": [
        "new_texts = [\n",
        "    \"Going on a long vacation, 21 days, with a big time change. Time change and taking meds question. So I have all my meds filled and enough for the trip + afterwards. I typically take my meds at 8pm every night and right before bed. I’m very good at taking my meds on time I really don’t miss them, so I just want to be safe when it comes to being in a different time zone. Do I take them at the same in the other country, or do I take them at the same time I would while there? And any tips from you guys about traveling. I’m a bit nervous to step out of my really good routine and sleep schedule and be traveling to multiple countries. My therapist/prescribing nurse have confidence in me and support this trip too.\t\",\n",
        "    \"I'm sure that today, the one who came to the school hall, Mr. Madam, is proud, mmf, isn't your son, hey, or his brain is thin...\",\n",
        "    \"Panic Attacks Hi, I've been having very bad anxiety attacks lately. I've been taking valium and it's helped but doesn't eliminate it. I've never had it sooooo bad. I also take olanzapine. I'm in the gym trying to push it away but I want to run home and take a valium. However, I only have a few tablets left. I'm really struggling on what to do. Anyone else feel the same or have been in a similar place?\",\n",
        "    \"i feel happy\",\n",
        "    \"i feel very happy\",\n",
        "    # \"I am feeling great today!\",\n",
        "    # \"I am so stressed out\",\n",
        "    # \"It just felt like a storm, rumbling, boisterous, restless and quite stifling.\",\n",
        "    # \"It's been a long time since I've been here, I'm suddenly restless + crazy chest pain\",\n",
        "]\n",
        "new_texts_tensor = tf.convert_to_tensor(new_texts)\n",
        "\n",
        "predictions = laoded_model_w_vectorizer.predict(new_texts_tensor)\n",
        "print(predictions)\n",
        "\n",
        "class_labels = ['Anxiety', 'Normal', 'Depression', 'Suicidal', 'Stress', 'Bipolar', 'Personality disorder']\n",
        "\n",
        "for pred in predictions:\n",
        "  predicted_class = np.argmax(pred, axis=-1)\n",
        "  predicted_label = class_labels[predicted_class]\n",
        "\n",
        "  print(f\"Predicted class: {predicted_label}\")"
      ]
    }
  ],
  "metadata": {
    "colab": {
      "provenance": [],
      "gpuType": "T4"
    },
    "kernelspec": {
      "display_name": "Python 3",
      "name": "python3"
    },
    "language_info": {
      "codemirror_mode": {
        "name": "ipython",
        "version": 3
      },
      "file_extension": ".py",
      "mimetype": "text/x-python",
      "name": "python",
      "nbconvert_exporter": "python",
      "pygments_lexer": "ipython3",
      "version": "3.10.12"
    },
    "accelerator": "GPU"
  },
  "nbformat": 4,
  "nbformat_minor": 0
}